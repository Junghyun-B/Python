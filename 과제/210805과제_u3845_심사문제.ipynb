{
  "nbformat": 4,
  "nbformat_minor": 0,
  "metadata": {
    "colab": {
      "name": "210805과제_u3845_심사문제.ipynb",
      "provenance": [],
      "collapsed_sections": []
    },
    "kernelspec": {
      "name": "python3",
      "display_name": "Python 3"
    },
    "language_info": {
      "name": "python"
    }
  },
  "cells": [
    {
      "cell_type": "markdown",
      "metadata": {
        "id": "XpQvzRAmMFvY"
      },
      "source": [
        "# Unit 38. 심사문제"
      ]
    },
    {
      "cell_type": "code",
      "metadata": {
        "colab": {
          "base_uri": "https://localhost:8080/"
        },
        "id": "Win11oxKL6KG",
        "outputId": "63d23216-fa81-4588-9623-7a00fe79b395"
      },
      "source": [
        "# 38.7 심사문제 : 회문이 아니면 예외 발생시키기\n",
        "class NotPalindromeError(Exception):\n",
        "    def __init__(self):\n",
        "        super().__init__('회문이 아닙니다.')\n",
        "\n",
        "def palindrome(word):\n",
        "    if word != word[::-1]:\n",
        "        raise NotPalindromeError\n",
        "    print(word)\n",
        "\n",
        "try:\n",
        "    word = input()\n",
        "    palindrome(word)\n",
        "except NotPalindromeError as e:\n",
        "    print(e)"
      ],
      "execution_count": null,
      "outputs": [
        {
          "output_type": "stream",
          "text": [
            "level\n",
            "level\n"
          ],
          "name": "stdout"
        }
      ]
    },
    {
      "cell_type": "code",
      "metadata": {
        "colab": {
          "base_uri": "https://localhost:8080/"
        },
        "id": "QZOCR4FnOwzD",
        "outputId": "a95e6283-3745-4b5b-ea30-2eca51c02526"
      },
      "source": [
        "# 38.7 심사문제 : 회문이 아니면 예외 발생시키기\n",
        "class NotPalindromeError(Exception):\n",
        "    def __init__(self):\n",
        "        super().__init__('회문이 아닙니다.')\n",
        "\n",
        "def palindrome(word):\n",
        "    if word != word[::-1]:\n",
        "        raise NotPalindromeError\n",
        "    print(word)\n",
        "\n",
        "try:\n",
        "    word = input()\n",
        "    palindrome(word)\n",
        "except NotPalindromeError as e:\n",
        "    print(e)"
      ],
      "execution_count": null,
      "outputs": [
        {
          "output_type": "stream",
          "text": [
            "hello\n",
            "회문이 아닙니다.\n"
          ],
          "name": "stdout"
        }
      ]
    },
    {
      "cell_type": "markdown",
      "metadata": {
        "id": "Dyz6cpthMKAO"
      },
      "source": [
        "# Unit 43. 심사문제"
      ]
    },
    {
      "cell_type": "code",
      "metadata": {
        "colab": {
          "base_uri": "https://localhost:8080/"
        },
        "id": "2bmkhEebO0yn",
        "outputId": "833fc5c7-80a9-4df0-ee8e-09599d9285c6"
      },
      "source": [
        "# 43.6 심사문제 : URL 검사하기\n",
        "import re\n",
        "\n",
        "url = re.compile('^(https?://)[a-zA-Z0-9-]+\\.[a-zA-Z0-9-.]+/[a-zA-Z0-9-_/.?=]*')\n",
        "print(url.match(input()) != None)"
      ],
      "execution_count": null,
      "outputs": [
        {
          "output_type": "stream",
          "text": [
            "http://www.example.com/hello/world.do?key=python\n",
            "True\n"
          ],
          "name": "stdout"
        }
      ]
    },
    {
      "cell_type": "code",
      "metadata": {
        "colab": {
          "base_uri": "https://localhost:8080/"
        },
        "id": "0QJGI_bZS0fC",
        "outputId": "4d1649f8-0e64-4b51-8fc4-e9711e951915"
      },
      "source": [
        "# 43.6 심사문제 : URL 검사하기\n",
        "import re\n",
        "\n",
        "url = re.compile('^(https?://)[a-zA-Z0-9-]+\\.[a-zA-Z0-9-.]+/[a-zA-Z0-9-_/.?=]*')\n",
        "print(url.match(input()) != None)"
      ],
      "execution_count": null,
      "outputs": [
        {
          "output_type": "stream",
          "text": [
            "https://example/hello/world.html\n",
            "False\n"
          ],
          "name": "stdout"
        }
      ]
    },
    {
      "cell_type": "code",
      "metadata": {
        "id": "xPGWkLC1yv_7"
      },
      "source": [
        "# 이메일 정규표현식\n",
        "# '^[a-zA-Z0-9+-_.]+@[a-zA-Z0-9-]+\\.[a-zA-Z0-9-.]+$'\n",
        "import re\n",
        "url = input()\n",
        "pattern = '(http|https)://[a-zA-Z0-9-]+\\.[a-zA-Z0-9-]+[/a-zA-Z0-9-_.?=]+'\n",
        "re.match(pattern, url) != None"
      ],
      "execution_count": null,
      "outputs": []
    },
    {
      "cell_type": "markdown",
      "metadata": {
        "id": "zQ0sG8b9MNw1"
      },
      "source": [
        "# Unit 44. 심사문제"
      ]
    },
    {
      "cell_type": "code",
      "metadata": {
        "colab": {
          "base_uri": "https://localhost:8080/"
        },
        "id": "hWujvKmtUA_2",
        "outputId": "255b49b7-6964-4924-a78e-456d829e7b09"
      },
      "source": [
        "# 44.6 심사문제 : 원의 넓이 구하기\n",
        "r = float(input())\n",
        "from math import pi\n",
        "area = r * r * pi\n",
        "print(area)"
      ],
      "execution_count": null,
      "outputs": [
        {
          "output_type": "stream",
          "text": [
            "10\n",
            "314.1592653589793\n"
          ],
          "name": "stdout"
        }
      ]
    },
    {
      "cell_type": "code",
      "metadata": {
        "colab": {
          "base_uri": "https://localhost:8080/"
        },
        "id": "h6zchv_yUrOZ",
        "outputId": "50f7e61a-7847-4c32-a072-ca90a5d06768"
      },
      "source": [
        "# 44.6 심사문제 : 원의 넓이 구하기\n",
        "r = float(input())\n",
        "from math import pi\n",
        "area = r * r * pi\n",
        "print(area)"
      ],
      "execution_count": null,
      "outputs": [
        {
          "output_type": "stream",
          "text": [
            "2.5\n",
            "19.634954084936208\n"
          ],
          "name": "stdout"
        }
      ]
    },
    {
      "cell_type": "markdown",
      "metadata": {
        "id": "ayT2dgNkMQ5N"
      },
      "source": [
        "# Unit 45. 심사문제"
      ]
    },
    {
      "cell_type": "code",
      "metadata": {
        "colab": {
          "base_uri": "https://localhost:8080/"
        },
        "id": "YgtrXGouVdpY",
        "outputId": "61ac11cc-7dca-47b2-d0b1-bfa6745f348e"
      },
      "source": [
        "# 45.7 심사문제 : 패키지 사용하기\n",
        "from calcpkg import operation, geometry\n",
        "\n",
        "r = int(input())\n",
        "print(operation.squareroot(r))\n",
        "print(geometry.circle_area(r))"
      ],
      "execution_count": null,
      "outputs": [
        {
          "output_type": "stream",
          "text": [
            "2\n",
            "1.4142135623730951\n",
            "12.566370614359172\n"
          ],
          "name": "stdout"
        }
      ]
    },
    {
      "cell_type": "code",
      "metadata": {
        "id": "1iI2yoeizykP"
      },
      "source": [
        "from calcpkg.operation import squareroot\n",
        "from calcpkg.geometry import circle_area\n",
        "\n",
        "r = int(input())\n",
        "print(squareroot(r))\n",
        "print(circle_area(r))"
      ],
      "execution_count": null,
      "outputs": []
    }
  ]
}