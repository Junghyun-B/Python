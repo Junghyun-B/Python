{
  "nbformat": 4,
  "nbformat_minor": 0,
  "metadata": {
    "colab": {
      "name": "5회차_방정현.ipynb",
      "provenance": [],
      "collapsed_sections": []
    },
    "kernelspec": {
      "name": "python3",
      "display_name": "Python 3"
    },
    "language_info": {
      "name": "python"
    }
  },
  "cells": [
    {
      "cell_type": "markdown",
      "metadata": {
        "id": "i1MOTzOKww6S"
      },
      "source": [
        "# Unit 8. 과제"
      ]
    },
    {
      "cell_type": "code",
      "metadata": {
        "colab": {
          "base_uri": "https://localhost:8080/"
        },
        "id": "aGz70oJNwrG_",
        "outputId": "91c68fdf-2809-4608-b9d1-6349ad8bc156"
      },
      "source": [
        "# 8.5 심사문제 : 합격 여부 출력하기\n",
        "kor, eng, mat, sci = map(int, input().split())\n",
        "print(kor >= 90 and eng > 80 and mat > 85 and sci >= 80)"
      ],
      "execution_count": 1,
      "outputs": [
        {
          "output_type": "stream",
          "text": [
            "90 81 86 80\n",
            "True\n"
          ],
          "name": "stdout"
        }
      ]
    },
    {
      "cell_type": "code",
      "metadata": {
        "colab": {
          "base_uri": "https://localhost:8080/"
        },
        "id": "RJXqAujPxayV",
        "outputId": "02b05ccb-8dc5-4d45-9ad9-48aeb0cd278f"
      },
      "source": [
        "# 8.5 심사문제 : 합격 여부 출력하기\n",
        "kor, eng, mat, sci = map(int, input().split())\n",
        "print(kor >= 90 and eng > 80 and mat > 85 and sci >= 80)"
      ],
      "execution_count": 2,
      "outputs": [
        {
          "output_type": "stream",
          "text": [
            "90 80 85 80\n",
            "False\n"
          ],
          "name": "stdout"
        }
      ]
    },
    {
      "cell_type": "markdown",
      "metadata": {
        "id": "7yj1TSG5xm3h"
      },
      "source": [
        "# Unit 9. 과제"
      ]
    },
    {
      "cell_type": "code",
      "metadata": {
        "colab": {
          "base_uri": "https://localhost:8080/"
        },
        "id": "yO2oy0l9xjOl",
        "outputId": "ad8d3f0a-6ba6-4a11-a36a-1dcd66508843"
      },
      "source": [
        "# 9.4 심사문제 : 여러 줄로 된 문자열 사용하기\n",
        "s = \"\"\"'Python' is a \"programming language\"\n",
        "that lets you work quickly\n",
        "and\n",
        "integrate systems more effectively.\"\"\"\n",
        "print(s)"
      ],
      "execution_count": 3,
      "outputs": [
        {
          "output_type": "stream",
          "text": [
            "'Python' is a \"programming language\"\n",
            "that lets you work quickly\n",
            "and\n",
            "integrate systems more effectively.\n"
          ],
          "name": "stdout"
        }
      ]
    },
    {
      "cell_type": "markdown",
      "metadata": {
        "id": "dGzJu7-nyoiZ"
      },
      "source": [
        "# Unit 10. 과제"
      ]
    },
    {
      "cell_type": "code",
      "metadata": {
        "colab": {
          "base_uri": "https://localhost:8080/"
        },
        "id": "pgx4dPb5ylIK",
        "outputId": "9f51b72b-5e45-4ae2-f6aa-debd8432c740"
      },
      "source": [
        "# 10.5 심사문제 : range로 튜플 만들기\n",
        "x = int(input())\n",
        "print(tuple(range(-10,10,x)))"
      ],
      "execution_count": 15,
      "outputs": [
        {
          "output_type": "stream",
          "text": [
            "2\n",
            "(-10, -8, -6, -4, -2, 0, 2, 4, 6, 8)\n"
          ],
          "name": "stdout"
        }
      ]
    },
    {
      "cell_type": "code",
      "metadata": {
        "colab": {
          "base_uri": "https://localhost:8080/"
        },
        "id": "DDxoC_CNGKqX",
        "outputId": "442b38aa-b7ed-4f9f-9f08-3eef8d048e1e"
      },
      "source": [
        "# 10.5 심사문제 : range로 튜플 만들기\n",
        "x = int(input())\n",
        "print(tuple(range(-10,10,x)))"
      ],
      "execution_count": 16,
      "outputs": [
        {
          "output_type": "stream",
          "text": [
            "3\n",
            "(-10, -7, -4, -1, 2, 5, 8)\n"
          ],
          "name": "stdout"
        }
      ]
    },
    {
      "cell_type": "markdown",
      "metadata": {
        "id": "ZAkFFluW14PX"
      },
      "source": [
        "# Unit 11. 과제"
      ]
    },
    {
      "cell_type": "code",
      "metadata": {
        "colab": {
          "base_uri": "https://localhost:8080/"
        },
        "id": "csO9qjBb16_c",
        "outputId": "70b20b1c-b707-476e-e643-9ea1068ed050"
      },
      "source": [
        "# 11.8 심사문제 : 리스트의 마지막 부분 삭제하기\n",
        "x = input().split()\n",
        "del x[-5:]\n",
        "print(tuple(x))"
      ],
      "execution_count": 11,
      "outputs": [
        {
          "output_type": "stream",
          "text": [
            "1 2 3 4 5 6 7 8 9 10\n",
            "('1', '2', '3', '4', '5')\n"
          ],
          "name": "stdout"
        }
      ]
    },
    {
      "cell_type": "code",
      "metadata": {
        "colab": {
          "base_uri": "https://localhost:8080/"
        },
        "id": "UI00mXKiFzOV",
        "outputId": "beb33ed4-9baf-463c-ef32-4536dd9f7ca9"
      },
      "source": [
        "# 11.8 심사문제 : 리스트의 마지막 부분 삭제하기\n",
        "x = input().split()\n",
        "del x[-5:]\n",
        "print(tuple(x))"
      ],
      "execution_count": 12,
      "outputs": [
        {
          "output_type": "stream",
          "text": [
            "oven bat pony total leak wreck curl crop space navy loss knee\n",
            "('oven', 'bat', 'pony', 'total', 'leak', 'wreck', 'curl')\n"
          ],
          "name": "stdout"
        }
      ]
    },
    {
      "cell_type": "code",
      "metadata": {
        "colab": {
          "base_uri": "https://localhost:8080/"
        },
        "id": "tgKLYkFS2BIU",
        "outputId": "a0615da1-23ee-474d-da0c-8c61d4c69d4e"
      },
      "source": [
        "# 11.9 심사문제 : 문자열에서 인덱스가 홀수인 문자와 짝수인 문자 연결하기\n",
        "a = input()\n",
        "b = input()\n",
        "print(a[1::2] + b[::2])"
      ],
      "execution_count": 13,
      "outputs": [
        {
          "output_type": "stream",
          "text": [
            "python\n",
            "python\n",
            "yhnpto\n"
          ],
          "name": "stdout"
        }
      ]
    },
    {
      "cell_type": "code",
      "metadata": {
        "colab": {
          "base_uri": "https://localhost:8080/"
        },
        "id": "mHMtLnwsF_4K",
        "outputId": "dcf7daca-1d3b-4cbd-e7d5-c395d715e3f6"
      },
      "source": [
        "# 11.9 심사문제 : 문자열에서 인덱스가 홀수인 문자와 짝수인 문자 연결하기\n",
        "a = input()\n",
        "b = input()\n",
        "print(a[1::2] + b[::2])"
      ],
      "execution_count": 14,
      "outputs": [
        {
          "output_type": "stream",
          "text": [
            "apple\n",
            "strawberry\n",
            "plsrwer\n"
          ],
          "name": "stdout"
        }
      ]
    },
    {
      "cell_type": "markdown",
      "metadata": {
        "id": "aKOG0jcR5nAN"
      },
      "source": [
        "# Unit 12. 과제"
      ]
    },
    {
      "cell_type": "code",
      "metadata": {
        "colab": {
          "base_uri": "https://localhost:8080/"
        },
        "id": "wat6U1cP5pG_",
        "outputId": "10f24770-8074-4750-b8cb-ce536c1979d4"
      },
      "source": [
        "# 12.5 심사문제 : 딕셔너리에 게임 캐릭터 능력치 저장하기\n",
        "key = input().split()\n",
        "value = map(float, input().split())\n",
        "print(dict(zip(key, value)))"
      ],
      "execution_count": 9,
      "outputs": [
        {
          "output_type": "stream",
          "text": [
            "health health_regen mana mana_regen\n",
            "575.6 1.7 338.8 1.63\n",
            "{'health': 575.6, 'health_regen': 1.7, 'mana': 338.8, 'mana_regen': 1.63}\n"
          ],
          "name": "stdout"
        }
      ]
    },
    {
      "cell_type": "code",
      "metadata": {
        "colab": {
          "base_uri": "https://localhost:8080/"
        },
        "id": "OUNM-yElFk36",
        "outputId": "bc080122-46ed-47dc-d0a6-c5a158545134"
      },
      "source": [
        "# 12.5 심사문제 : 딕셔너리에 게임 캐릭터 능력치 저장하기\n",
        "key = input().split()\n",
        "value = map(float, input().split())\n",
        "print(dict(zip(key, value)))"
      ],
      "execution_count": 10,
      "outputs": [
        {
          "output_type": "stream",
          "text": [
            "health mana melee attack_speed magic_resistance\n",
            "573.6 308.8 600 0.625 35.7\n",
            "{'health': 573.6, 'mana': 308.8, 'melee': 600.0, 'attack_speed': 0.625, 'magic_resistance': 35.7}\n"
          ],
          "name": "stdout"
        }
      ]
    },
    {
      "cell_type": "markdown",
      "metadata": {
        "id": "dMYOub5l7wn3"
      },
      "source": [
        "# Unit 13. 과제"
      ]
    },
    {
      "cell_type": "code",
      "metadata": {
        "colab": {
          "base_uri": "https://localhost:8080/"
        },
        "id": "JZKkjvzY7zBq",
        "outputId": "d3837086-aafe-4c05-915b-717ca735c64c"
      },
      "source": [
        "# 13.7 심사문제 : 온라인 할인 쿠폰 시스템 만들기\n",
        "price = int(input())\n",
        "coupon = input()\n",
        "if coupon == 'Cash3000':\n",
        "    x = price - 3000\n",
        "if coupon == 'Cash5000':\n",
        "    x = price - 5000\n",
        "print(x)"
      ],
      "execution_count": 7,
      "outputs": [
        {
          "output_type": "stream",
          "text": [
            "27000\n",
            "Cash3000\n",
            "24000\n"
          ],
          "name": "stdout"
        }
      ]
    },
    {
      "cell_type": "code",
      "metadata": {
        "colab": {
          "base_uri": "https://localhost:8080/"
        },
        "id": "_mOUDzs7FWJn",
        "outputId": "1e8ed12d-862c-4f2d-ed20-dc4e7f0097bb"
      },
      "source": [
        "# 13.7 심사문제 : 온라인 할인 쿠폰 시스템 만들기\n",
        "price = int(input())\n",
        "coupon = input()\n",
        "if coupon == 'Cash3000':\n",
        "    x = price - 3000\n",
        "if coupon == 'Cash5000':\n",
        "    x = price - 5000\n",
        "print(x)"
      ],
      "execution_count": 8,
      "outputs": [
        {
          "output_type": "stream",
          "text": [
            "72000\n",
            "Cash5000\n",
            "67000\n"
          ],
          "name": "stdout"
        }
      ]
    },
    {
      "cell_type": "markdown",
      "metadata": {
        "id": "72AfCPdGBcSH"
      },
      "source": [
        "# Unit 14. 과제"
      ]
    },
    {
      "cell_type": "code",
      "metadata": {
        "colab": {
          "base_uri": "https://localhost:8080/"
        },
        "id": "ySijxVi6BfCl",
        "outputId": "1e2f770e-3abf-45ee-bd00-2a6fa0532a3a"
      },
      "source": [
        "# 14.7 심사문제 : 합격 여부 판단하기\n",
        "kor, eng, mat, sci = map(int, input().split())\n",
        "x = (kor + eng + mat + sci) / 4\n",
        "if kor < 0 or eng < 0 or mat < 0 or sci < 0 or kor > 100 or eng > 100 or mat > 100 or sci >100:\n",
        "    print('잘못된 점수')\n",
        "else:\n",
        "    if x >= 80:\n",
        "        print('합격')\n",
        "    else:\n",
        "        print('불합격')"
      ],
      "execution_count": 17,
      "outputs": [
        {
          "output_type": "stream",
          "text": [
            "89 72 93 82\n",
            "합격\n"
          ],
          "name": "stdout"
        }
      ]
    },
    {
      "cell_type": "code",
      "metadata": {
        "colab": {
          "base_uri": "https://localhost:8080/"
        },
        "id": "8OEZAwGRFAqV",
        "outputId": "66de499a-6f6e-470f-d476-d11dee7dc9d4"
      },
      "source": [
        "# 14.7 심사문제 : 합격 여부 판단하기\n",
        "kor, eng, mat, sci = map(int, input().split())\n",
        "x = (kor + eng + mat + sci) / 4\n",
        "if kor < 0 or eng < 0 or mat < 0 or sci < 0 or kor > 100 or eng > 100 or mat > 100 or sci >100:\n",
        "    print('잘못된 점수')\n",
        "else:\n",
        "    if x >= 80:\n",
        "        print('합격')\n",
        "    else:\n",
        "        print('불합격')"
      ],
      "execution_count": 5,
      "outputs": [
        {
          "output_type": "stream",
          "text": [
            "100 79 68 71\n",
            "불합격\n"
          ],
          "name": "stdout"
        }
      ]
    },
    {
      "cell_type": "code",
      "metadata": {
        "colab": {
          "base_uri": "https://localhost:8080/"
        },
        "id": "fDoE2DhiFDXH",
        "outputId": "04a64967-8b78-49ad-d4d0-7e719cfcb8c4"
      },
      "source": [
        "# 14.7 심사문제 : 합격 여부 판단하기\n",
        "kor, eng, mat, sci = map(int, input().split())\n",
        "x = (kor + eng + mat + sci) / 4\n",
        "if kor < 0 or eng < 0 or mat < 0 or sci < 0 or kor > 100 or eng > 100 or mat > 100 or sci >100:\n",
        "    print('잘못된 점수')\n",
        "else:\n",
        "    if x >= 80:\n",
        "        print('합격')\n",
        "    else:\n",
        "        print('불합격')"
      ],
      "execution_count": 6,
      "outputs": [
        {
          "output_type": "stream",
          "text": [
            "99 85 101 90\n",
            "잘못된 점수\n"
          ],
          "name": "stdout"
        }
      ]
    }
  ]
}