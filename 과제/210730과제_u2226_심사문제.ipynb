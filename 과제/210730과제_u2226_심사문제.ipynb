{
  "nbformat": 4,
  "nbformat_minor": 0,
  "metadata": {
    "colab": {
      "name": "210730과제_u2226_심사문제.ipynb",
      "provenance": [],
      "collapsed_sections": []
    },
    "kernelspec": {
      "name": "python3",
      "display_name": "Python 3"
    },
    "language_info": {
      "name": "python"
    }
  },
  "cells": [
    {
      "cell_type": "markdown",
      "metadata": {
        "id": "jBkGyWpCAqg3"
      },
      "source": [
        "# Unit 22. 과제"
      ]
    },
    {
      "cell_type": "code",
      "metadata": {
        "colab": {
          "base_uri": "https://localhost:8080/"
        },
        "id": "VlZYhPXbAhji",
        "outputId": "cd2c1f6c-8ffa-4c2c-9bd7-46183b33e9a9"
      },
      "source": [
        "# 22.10 심사문제 : 2의 거듭제곱 리스트 생성하기\n",
        "start, stop = map(int, input().split())\n",
        "i = start\n",
        "j = stop\n",
        "list = [2 ** i for i in range(i, j + 1)]\n",
        "del list[1]\n",
        "del list[-2]\n",
        "print(list)"
      ],
      "execution_count": null,
      "outputs": [
        {
          "output_type": "stream",
          "text": [
            "1 10\n",
            "[2, 8, 16, 32, 64, 128, 256, 1024]\n"
          ],
          "name": "stdout"
        }
      ]
    },
    {
      "cell_type": "code",
      "metadata": {
        "colab": {
          "base_uri": "https://localhost:8080/"
        },
        "id": "02kCJxD2AkaJ",
        "outputId": "5d4270f5-59e9-4700-875e-90381d1a225a"
      },
      "source": [
        "# 22.10 심사문제 : 2의 거듭제곱 리스트 생성하기\n",
        "start, stop = map(int, input().split())\n",
        "i = start\n",
        "j = stop\n",
        "list = [2 ** i for i in range(i, j + 1)]\n",
        "del list[1]\n",
        "del list[-2]\n",
        "print(list)"
      ],
      "execution_count": null,
      "outputs": [
        {
          "output_type": "stream",
          "text": [
            "10 20\n",
            "[1024, 4096, 8192, 16384, 32768, 65536, 131072, 262144, 1048576]\n"
          ],
          "name": "stdout"
        }
      ]
    },
    {
      "cell_type": "markdown",
      "metadata": {
        "id": "XFlIPjXUAxpp"
      },
      "source": [
        "# Unit 23. 과제"
      ]
    },
    {
      "cell_type": "code",
      "metadata": {
        "id": "GqxUJKEFAoiV",
        "colab": {
          "base_uri": "https://localhost:8080/"
        },
        "outputId": "f8351ec1-f0c2-42d3-a32c-f560e6b0d443"
      },
      "source": [
        "# 23.7 심사문제 : 지뢰찾기\n",
        "col, row = map(int, input().split())\n",
        "matrix = []\n",
        "for i in range(row):\n",
        "    matrix.append(list(input()))\n",
        "\n",
        "for i in range(row):\n",
        "    for j in range(col):\n",
        "        if matrix[i][j] == '*':\n",
        "            print(matrix[i][j], sep = '', end = '')\n",
        "        else:\n",
        "            count = 0\n",
        "            for x in range(i - 1, i + 2):\n",
        "                for y in range(j - 1, j + 2):\n",
        "                    if x < 0 or y < 0 or x >= row or y >= col:\n",
        "                        continue\n",
        "                    elif matrix[x][y] == '*':\n",
        "                        count += 1\n",
        "            print(count, sep = '', end = '')\n",
        "    print()"
      ],
      "execution_count": null,
      "outputs": [
        {
          "output_type": "stream",
          "text": [
            "3 3\n",
            ".**\n",
            "*..\n",
            ".*.\n",
            "2**\n",
            "*43\n",
            "2*1\n"
          ],
          "name": "stdout"
        }
      ]
    },
    {
      "cell_type": "code",
      "metadata": {
        "colab": {
          "base_uri": "https://localhost:8080/"
        },
        "id": "dm6Oc-WoZ1Im",
        "outputId": "a7a539a4-eadc-463a-d431-156bebead19a"
      },
      "source": [
        "# 23.7 심사문제 : 지뢰찾기\n",
        "col, row = map(int, input().split())\n",
        "matrix = []\n",
        "for i in range(row):\n",
        "    matrix.append(list(input()))\n",
        "\n",
        "for i in range(row):\n",
        "    for j in range(col):\n",
        "        if matrix[i][j] == '*':\n",
        "            print(matrix[i][j], sep = '', end = '')\n",
        "        else:\n",
        "            count = 0\n",
        "            for x in range(i - 1, i + 2):\n",
        "                for y in range(j - 1, j + 2):\n",
        "                    if x < 0 or y < 0 or x >= row or y >= col:\n",
        "                        continue\n",
        "                    elif matrix[x][y] == '*':\n",
        "                        count += 1\n",
        "            print(count, sep = '', end = '')\n",
        "    print()"
      ],
      "execution_count": null,
      "outputs": [
        {
          "output_type": "stream",
          "text": [
            "5 5\n",
            "..*..\n",
            "...*.\n",
            ".*...\n",
            ".***.\n",
            "*.*..\n",
            "01*21\n",
            "123*1\n",
            "2*532\n",
            "3***1\n",
            "*4*31\n"
          ],
          "name": "stdout"
        }
      ]
    },
    {
      "cell_type": "code",
      "metadata": {
        "id": "97mb0-0AWIbZ"
      },
      "source": [
        "import random\n",
        "mines = []\n",
        "for _ in range(9):\n",
        "    row = ''        # 문자열이 리스트 안에 들어가있는 것처럼 구현\n",
        "    for _ in range(9):\n",
        "        if random.random() > 0.6:       # 지뢰가 40%정도\n",
        "            row += '*'\n",
        "        else:\n",
        "            row += '.'\n",
        "    mines.append(row)"
      ],
      "execution_count": 35,
      "outputs": []
    },
    {
      "cell_type": "code",
      "metadata": {
        "colab": {
          "base_uri": "https://localhost:8080/"
        },
        "id": "VHaE3a11WshM",
        "outputId": "1529b163-d88e-48e4-8879-d901cd19866d"
      },
      "source": [
        "mines = [['*' if random.random() > 0.6 else '.' for _ in range(9)] for _ in range(9)]\n",
        "for i in range(len(mines)):\n",
        "    for k in range(len(mines)):\n",
        "        print(mines[i][k], end = ' ')\n",
        "    print()"
      ],
      "execution_count": 38,
      "outputs": [
        {
          "output_type": "stream",
          "text": [
            ". * . * * . . . . \n",
            ". * . * . . . . . \n",
            "* . * . . . * . . \n",
            "* * . . * * . * * \n",
            "* . * * * * * * * \n",
            "* . * . . * * . * \n",
            ". . . . . . . . * \n",
            ". . . * . * * . * \n",
            "* * * . * * . * * \n"
          ],
          "name": "stdout"
        }
      ]
    },
    {
      "cell_type": "code",
      "metadata": {
        "colab": {
          "base_uri": "https://localhost:8080/"
        },
        "id": "UAtUP4dpXOrr",
        "outputId": "6a065008-8fc7-414d-b67e-85bc85cae2ba"
      },
      "source": [
        "def print_mines(mat):\n",
        "    for i in range(len(mat)):\n",
        "        for k in range(len(mat)):\n",
        "            print(mat[i][k], end = ' ')\n",
        "        print()\n",
        "print_mines(mines)"
      ],
      "execution_count": 39,
      "outputs": [
        {
          "output_type": "stream",
          "text": [
            ". * . * * . . . . \n",
            ". * . * . . . . . \n",
            "* . * . . . * . . \n",
            "* * . . * * . * * \n",
            "* . * * * * * * * \n",
            "* . * . . * * . * \n",
            ". . . . . . . . * \n",
            ". . . * . * * . * \n",
            "* * * . * * . * * \n"
          ],
          "name": "stdout"
        }
      ]
    },
    {
      "cell_type": "code",
      "metadata": {
        "colab": {
          "base_uri": "https://localhost:8080/"
        },
        "id": "XYMHsoklXnFk",
        "outputId": "c7050c80-bfd2-4787-930d-62e77a769558"
      },
      "source": [
        "pad_mines = []\n",
        "pad_mines.append('...........')\n",
        "for i in range(9):\n",
        "    row = '.'\n",
        "    for k in range(9):\n",
        "        row += mines[i][k]\n",
        "    row += '.'\n",
        "    pad_mines.append(row)\n",
        "pad_mines.append('...........')\n",
        "\n",
        "print_mines(pad_mines)"
      ],
      "execution_count": 40,
      "outputs": [
        {
          "output_type": "stream",
          "text": [
            ". . . . . . . . . . . \n",
            ". . * . * * . . . . . \n",
            ". . * . * . . . . . . \n",
            ". * . * . . . * . . . \n",
            ". * * . . * * . * * . \n",
            ". * . * * * * * * * . \n",
            ". * . * . . * * . * . \n",
            ". . . . . . . . . * . \n",
            ". . . . * . * * . * . \n",
            ". * * * . * * . * * . \n",
            ". . . . . . . . . . . \n"
          ],
          "name": "stdout"
        }
      ]
    },
    {
      "cell_type": "code",
      "metadata": {
        "colab": {
          "base_uri": "https://localhost:8080/"
        },
        "id": "07ZX7G-0YsOW",
        "outputId": "265910c2-2fdf-478f-e2c5-62869353e0af"
      },
      "source": [
        "final_mines = []\n",
        "for i in range(1, 10):\n",
        "    row = ''\n",
        "    for k in range(1, 10):\n",
        "        if pad_mines[i][k] == '*':\n",
        "            row += '*'\n",
        "        else:\n",
        "            count = (pad_mines[i - 1][k - 1] == '*') + (pad_mines[i - 1][k] == '*') + \\\n",
        "                    (pad_mines[i - 1][k + 1] == '*') + (pad_mines[i][k - 1] == '*') + \\\n",
        "                    (pad_mines[i][k + 1] == '*') + (pad_mines[i + 1][k - 1] == '*') + \\\n",
        "                    (pad_mines[i + 1][k] == '*') + (pad_mines[i + 1][k + 1] == '*')\n",
        "            row += str(count)\n",
        "    final_mines.append(row)\n",
        "\n",
        "print_mines(final_mines)"
      ],
      "execution_count": 41,
      "outputs": [
        {
          "output_type": "stream",
          "text": [
            "2 * 4 * * 1 0 0 0 \n",
            "3 * 5 * 3 2 1 1 0 \n",
            "* 5 * 3 3 3 * 3 2 \n",
            "* * 4 5 * * 6 * * \n",
            "* 6 * * * * * * * \n",
            "* 4 * 4 4 * * 6 * \n",
            "1 2 2 2 3 4 4 5 * \n",
            "2 3 3 * 4 * * 5 * \n",
            "* * * 3 * * 4 * * \n"
          ],
          "name": "stdout"
        }
      ]
    },
    {
      "cell_type": "markdown",
      "metadata": {
        "id": "s65dSMLSB4IB"
      },
      "source": [
        "# Unit 24. 과제"
      ]
    },
    {
      "cell_type": "code",
      "metadata": {
        "colab": {
          "base_uri": "https://localhost:8080/"
        },
        "id": "y6-oZQkOB6QA",
        "outputId": "a4344d63-fa2d-4d79-ff4e-3da5def78f2c"
      },
      "source": [
        "# 24.5 심사문제 : 특정 단어 개수 세기\n",
        "paragraph = input().split()\n",
        "count = 0\n",
        "for words in paragraph:\n",
        "    if (words.strip(',.')=='the'):\n",
        "        count += 1\n",
        "print(count)"
      ],
      "execution_count": null,
      "outputs": [
        {
          "output_type": "stream",
          "text": [
            "the grown-ups' response, this time, was to advise me to lay aside my drawings of boa constrictors, whether from the inside or the outside, and devote myself instead to geography, history, arithmetic, and grammar. That is why, at the, age of six, I gave up what might have been a magnificent career as a painter. I had been disheartened by the failure of my Drawing Number One and my Drawing Number Two. Grown-ups never understand anything by themselves, and it is tiresome for children to be always and forever explaining things to the.\n",
            "6\n"
          ],
          "name": "stdout"
        }
      ]
    },
    {
      "cell_type": "code",
      "metadata": {
        "colab": {
          "base_uri": "https://localhost:8080/"
        },
        "id": "rUPR9A4vePvE",
        "outputId": "e8d1019e-e991-4963-8ea7-47b604f2cab9"
      },
      "source": [
        "text = \"\"\"the grown-ups' response, this time, was to advise me to lay aside my drawings of boa constrictors,\n",
        " whether from the inside or the outside, and devote myself instead to geography, history, arithmetic, and grammar. \n",
        " That is why, at the, age of six, I gave up what might have been a magnificent career as a painter. \n",
        " I had been disheartened by the failure of my Drawing Number One and my Drawing Number Two. \n",
        " Grown-ups never understand anything by themselves, and it is tiresome for children to be always and forever explaining things to the.\"\"\"\n",
        "text.count('the')"
      ],
      "execution_count": 25,
      "outputs": [
        {
          "output_type": "execute_result",
          "data": {
            "text/plain": [
              "8"
            ]
          },
          "metadata": {
            "tags": []
          },
          "execution_count": 25
        }
      ]
    },
    {
      "cell_type": "code",
      "metadata": {
        "colab": {
          "base_uri": "https://localhost:8080/",
          "height": 127
        },
        "id": "u1VF08eWdiog",
        "outputId": "c0e3d450-8b52-4e2e-c285-a8dd41960f69"
      },
      "source": [
        "import re\n",
        "text = re.sub('[\\'-.,\\n]', '', text)\n",
        "text"
      ],
      "execution_count": 20,
      "outputs": [
        {
          "output_type": "execute_result",
          "data": {
            "application/vnd.google.colaboratory.intrinsic+json": {
              "type": "string"
            },
            "text/plain": [
              "'the grownups response this time was to advise me to lay aside my drawings of boa constrictors whether from the inside or the outside and devote myself instead to geography history arithmetic and grammar  That is why at the age of six I gave up what might have been a magnificent career as a painter  I had been disheartened by the failure of my Drawing Number One and my Drawing Number Two  Grownups never understand anything by themselves and it is tiresome for children to be always and forever explaining things to the'"
            ]
          },
          "metadata": {
            "tags": []
          },
          "execution_count": 20
        }
      ]
    },
    {
      "cell_type": "code",
      "metadata": {
        "colab": {
          "base_uri": "https://localhost:8080/",
          "height": 127
        },
        "id": "UCcp7a5ad28N",
        "outputId": "9a5613e0-b66b-46de-929f-2a99a42ba1dc"
      },
      "source": [
        "text = re.sub('[^A-Za-z ]', '', text)\n",
        "text"
      ],
      "execution_count": 27,
      "outputs": [
        {
          "output_type": "execute_result",
          "data": {
            "application/vnd.google.colaboratory.intrinsic+json": {
              "type": "string"
            },
            "text/plain": [
              "'the grownups response this time was to advise me to lay aside my drawings of boa constrictors whether from the inside or the outside and devote myself instead to geography history arithmetic and grammar  That is why at the age of six I gave up what might have been a magnificent career as a painter  I had been disheartened by the failure of my Drawing Number One and my Drawing Number Two  Grownups never understand anything by themselves and it is tiresome for children to be always and forever explaining things to the'"
            ]
          },
          "metadata": {
            "tags": []
          },
          "execution_count": 27
        }
      ]
    },
    {
      "cell_type": "code",
      "metadata": {
        "colab": {
          "base_uri": "https://localhost:8080/"
        },
        "id": "4tG-GjK8eBTA",
        "outputId": "9c0eb20a-2029-4e26-ed92-39e01c16e19b"
      },
      "source": [
        "text_list = text.lower().strip().split()\n",
        "count = 0\n",
        "for word in text_list:\n",
        "    if word == 'the':\n",
        "        count += 1\n",
        "count"
      ],
      "execution_count": 28,
      "outputs": [
        {
          "output_type": "execute_result",
          "data": {
            "text/plain": [
              "6"
            ]
          },
          "metadata": {
            "tags": []
          },
          "execution_count": 28
        }
      ]
    },
    {
      "cell_type": "code",
      "metadata": {
        "colab": {
          "base_uri": "https://localhost:8080/"
        },
        "id": "gSDrdFwGCWyW",
        "outputId": "7fc98096-fccf-48ab-d779-8a7a8af011e2"
      },
      "source": [
        "# 24.6 심사문제 : 높은 가격순으로 출력하기\n",
        "price = list(map(int, input().split(';')))\n",
        "price.sort(reverse = True)\n",
        "for i in price:\n",
        "    print('{0:>9,}'.format(i))"
      ],
      "execution_count": null,
      "outputs": [
        {
          "output_type": "stream",
          "text": [
            "51900;83000;158000;367500;250000;59200;128500;1304000\n",
            "1,304,000\n",
            "  367,500\n",
            "  250,000\n",
            "  158,000\n",
            "  128,500\n",
            "   83,000\n",
            "   59,200\n",
            "   51,900\n"
          ],
          "name": "stdout"
        }
      ]
    },
    {
      "cell_type": "markdown",
      "metadata": {
        "id": "tfmfWscyLrIu"
      },
      "source": [
        "# Unit 25. 과제"
      ]
    },
    {
      "cell_type": "code",
      "metadata": {
        "colab": {
          "base_uri": "https://localhost:8080/"
        },
        "id": "psYFggSaKtiL",
        "outputId": "3d89ec49-0cb4-4c2e-8177-f6b487331993"
      },
      "source": [
        "# 25.8 심사문제 : 딕셔너리에서 특정 값 삭제하기\n",
        "keys = input().split()\n",
        "values = map(int, input().split())\n",
        "x = dict(zip(keys, values))\n",
        "del x['delta']\n",
        "x = {key: value for key, value in x.items() if value != 30}\n",
        "print(x)"
      ],
      "execution_count": null,
      "outputs": [
        {
          "output_type": "stream",
          "text": [
            "alpha bravo charlie delta\n",
            "10 20 30 40\n",
            "{'alpha': 10, 'bravo': 20}\n"
          ],
          "name": "stdout"
        }
      ]
    },
    {
      "cell_type": "code",
      "metadata": {
        "colab": {
          "base_uri": "https://localhost:8080/"
        },
        "id": "33DKvUxYO_v0",
        "outputId": "bb66d86d-39a3-48ec-81a8-1daa1b3f404c"
      },
      "source": [
        "# 25.8 심사문제 : 딕셔너리에서 특정 값 삭제하기\n",
        "keys = input().split()\n",
        "values = map(int, input().split())\n",
        "x = dict(zip(keys, values))\n",
        "del x['delta']\n",
        "x = {key: value for key, value in x.items() if value != 30}\n",
        "print(x)"
      ],
      "execution_count": null,
      "outputs": [
        {
          "output_type": "stream",
          "text": [
            "alpha bravo charlie delta echo foxtrot golf\n",
            "30 40 50 60 70 80 90\n",
            "{'bravo': 40, 'charlie': 50, 'echo': 70, 'foxtrot': 80, 'golf': 90}\n"
          ],
          "name": "stdout"
        }
      ]
    },
    {
      "cell_type": "code",
      "metadata": {
        "colab": {
          "base_uri": "https://localhost:8080/"
        },
        "id": "2SxAkbrKh81X",
        "outputId": "041479ac-becb-4819-a84d-8c4c8b23eeab"
      },
      "source": [
        "keys = input().split()\n",
        "values = map(int, input().split())\n",
        "x = dict(zip(keys, values))\n",
        "del x['delta']\n",
        "for key, value in x.items():\n",
        "    if value == 30:\n",
        "        break\n",
        "\n",
        "x.pop(key)      # del x[key]\n",
        "x"
      ],
      "execution_count": 42,
      "outputs": [
        {
          "output_type": "stream",
          "text": [
            "alpha bravo charlie delta echo foxtrot golf\n",
            "30 40 50 60 70 80 90\n"
          ],
          "name": "stdout"
        },
        {
          "output_type": "execute_result",
          "data": {
            "text/plain": [
              "{'bravo': 40, 'charlie': 50, 'echo': 70, 'foxtrot': 80, 'golf': 90}"
            ]
          },
          "metadata": {
            "tags": []
          },
          "execution_count": 42
        }
      ]
    },
    {
      "cell_type": "markdown",
      "metadata": {
        "id": "1BDQb9Q7MAbI"
      },
      "source": [
        "# Unit 26. 과제"
      ]
    },
    {
      "cell_type": "code",
      "metadata": {
        "colab": {
          "base_uri": "https://localhost:8080/"
        },
        "id": "eXqFuA96MDIg",
        "outputId": "6c38f55f-c2a2-4aee-fb40-b9902b2ead02"
      },
      "source": [
        "# 26.9 심사문제 : 공약수 구하기\n",
        "x, y = map(int, input().split())\n",
        "a = {i for i in range(1, x + 1) if x % i == 0}\n",
        "b = {i for i in range(1, y + 1) if y % i == 0}\n",
        "divisor = a & b\n",
        "result = 0\n",
        "if type(divisor) == set:\n",
        "    result = sum(divisor)\n",
        "print(result)"
      ],
      "execution_count": null,
      "outputs": [
        {
          "output_type": "stream",
          "text": [
            "10 20\n",
            "18\n"
          ],
          "name": "stdout"
        }
      ]
    },
    {
      "cell_type": "code",
      "metadata": {
        "colab": {
          "base_uri": "https://localhost:8080/"
        },
        "id": "5s7hHDWhQXd_",
        "outputId": "8aa38b27-5ec6-4e12-a721-3f113a48c994"
      },
      "source": [
        "# 26.9 심사문제 : 공약수 구하기\n",
        "x, y = map(int, input().split())\n",
        "a = {i for i in range(1, x + 1) if x % i == 0}\n",
        "b = {i for i in range(1, y + 1) if y % i == 0}\n",
        "divisor = a & b\n",
        "result = 0\n",
        "if type(divisor) == set:\n",
        "    result = sum(divisor)\n",
        "print(result)"
      ],
      "execution_count": null,
      "outputs": [
        {
          "output_type": "stream",
          "text": [
            "100 200\n",
            "217\n"
          ],
          "name": "stdout"
        }
      ]
    },
    {
      "cell_type": "code",
      "metadata": {
        "colab": {
          "base_uri": "https://localhost:8080/"
        },
        "id": "hRib47bjgBcF",
        "outputId": "a2636abd-8c2a-4403-adae-2e7cb2780c81"
      },
      "source": [
        "div_list = []\n",
        "x = 10\n",
        "for i in range(1, x + 1):\n",
        "    if x % i == 0:\n",
        "        div_list.append(i)\n",
        "set(div_list)"
      ],
      "execution_count": 24,
      "outputs": [
        {
          "output_type": "execute_result",
          "data": {
            "text/plain": [
              "{1, 2, 5, 10}"
            ]
          },
          "metadata": {
            "tags": []
          },
          "execution_count": 24
        }
      ]
    },
    {
      "cell_type": "code",
      "metadata": {
        "colab": {
          "base_uri": "https://localhost:8080/"
        },
        "id": "by43dkT1gMYz",
        "outputId": "c4dda92e-87ba-46d0-975f-9ea29f90d7e8"
      },
      "source": [
        "x, y = map(int, input().split())\n",
        "a = {i for i in range(1, x + 1) if x % i == 0}\n",
        "b = {i for i in range(1, y + 1) if y % i == 0}\n",
        "print(a, b)\n",
        "divisor = a & b\n",
        "\n",
        "result = 0\n",
        "if type(divisor) == set:\n",
        "    result = sum(divisor)\n",
        "\n",
        "print(result)"
      ],
      "execution_count": 30,
      "outputs": [
        {
          "output_type": "stream",
          "text": [
            "10 20\n",
            "{1, 2, 10, 5} {1, 2, 4, 5, 10, 20}\n",
            "18\n"
          ],
          "name": "stdout"
        }
      ]
    }
  ]
}