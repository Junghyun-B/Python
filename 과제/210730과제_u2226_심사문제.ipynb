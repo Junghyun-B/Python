{
  "nbformat": 4,
  "nbformat_minor": 0,
  "metadata": {
    "colab": {
      "name": "210730과제_u2226_심사문제.ipynb",
      "provenance": [],
      "collapsed_sections": []
    },
    "kernelspec": {
      "name": "python3",
      "display_name": "Python 3"
    },
    "language_info": {
      "name": "python"
    }
  },
  "cells": [
    {
      "cell_type": "markdown",
      "metadata": {
        "id": "jBkGyWpCAqg3"
      },
      "source": [
        "# Unit 22. 과제"
      ]
    },
    {
      "cell_type": "code",
      "metadata": {
        "colab": {
          "base_uri": "https://localhost:8080/"
        },
        "id": "VlZYhPXbAhji",
        "outputId": "cd2c1f6c-8ffa-4c2c-9bd7-46183b33e9a9"
      },
      "source": [
        "# 22.10 심사문제 : 2의 거듭제곱 리스트 생성하기\n",
        "start, stop = map(int, input().split())\n",
        "i = start\n",
        "j = stop\n",
        "list = [2 ** i for i in range(i, j + 1)]\n",
        "del list[1]\n",
        "del list[-2]\n",
        "print(list)"
      ],
      "execution_count": null,
      "outputs": [
        {
          "output_type": "stream",
          "text": [
            "1 10\n",
            "[2, 8, 16, 32, 64, 128, 256, 1024]\n"
          ],
          "name": "stdout"
        }
      ]
    },
    {
      "cell_type": "code",
      "metadata": {
        "colab": {
          "base_uri": "https://localhost:8080/"
        },
        "id": "02kCJxD2AkaJ",
        "outputId": "5d4270f5-59e9-4700-875e-90381d1a225a"
      },
      "source": [
        "# 22.10 심사문제 : 2의 거듭제곱 리스트 생성하기\n",
        "start, stop = map(int, input().split())\n",
        "i = start\n",
        "j = stop\n",
        "list = [2 ** i for i in range(i, j + 1)]\n",
        "del list[1]\n",
        "del list[-2]\n",
        "print(list)"
      ],
      "execution_count": null,
      "outputs": [
        {
          "output_type": "stream",
          "text": [
            "10 20\n",
            "[1024, 4096, 8192, 16384, 32768, 65536, 131072, 262144, 1048576]\n"
          ],
          "name": "stdout"
        }
      ]
    },
    {
      "cell_type": "markdown",
      "metadata": {
        "id": "XFlIPjXUAxpp"
      },
      "source": [
        "# Unit 23. 과제"
      ]
    },
    {
      "cell_type": "code",
      "metadata": {
        "id": "GqxUJKEFAoiV",
        "colab": {
          "base_uri": "https://localhost:8080/"
        },
        "outputId": "f8351ec1-f0c2-42d3-a32c-f560e6b0d443"
      },
      "source": [
        "# 23.7 심사문제 : 지뢰찾기\n",
        "col, row = map(int, input().split())\n",
        "matrix = []\n",
        "for i in range(row):\n",
        "    matrix.append(list(input()))\n",
        "\n",
        "for i in range(row):\n",
        "    for j in range(col):\n",
        "        if matrix[i][j] == '*':\n",
        "            print(matrix[i][j], sep = '', end = '')\n",
        "        else:\n",
        "            count =0\n",
        "            for x in range(i - 1, i + 2):\n",
        "                for y in range(j - 1, j + 2):\n",
        "                    if x < 0 or y < 0 or x >= row or y >= col:\n",
        "                        continue\n",
        "                    elif matrix[x][y] == '*':\n",
        "                        count += 1\n",
        "            print(count, sep = '', end = '')\n",
        "    print()"
      ],
      "execution_count": 1,
      "outputs": [
        {
          "output_type": "stream",
          "text": [
            "3 3\n",
            ".**\n",
            "*..\n",
            ".*.\n",
            "2**\n",
            "*43\n",
            "2*1\n"
          ],
          "name": "stdout"
        }
      ]
    },
    {
      "cell_type": "code",
      "metadata": {
        "colab": {
          "base_uri": "https://localhost:8080/"
        },
        "id": "dm6Oc-WoZ1Im",
        "outputId": "a7a539a4-eadc-463a-d431-156bebead19a"
      },
      "source": [
        "# 23.7 심사문제 : 지뢰찾기\n",
        "col, row = map(int, input().split())\n",
        "matrix = []\n",
        "for i in range(row):\n",
        "    matrix.append(list(input()))\n",
        "\n",
        "for i in range(row):\n",
        "    for j in range(col):\n",
        "        if matrix[i][j] == '*':\n",
        "            print(matrix[i][j], sep = '', end = '')\n",
        "        else:\n",
        "            count =0\n",
        "            for x in range(i - 1, i + 2):\n",
        "                for y in range(j - 1, j + 2):\n",
        "                    if x < 0 or y < 0 or x >= row or y >= col:\n",
        "                        continue\n",
        "                    elif matrix[x][y] == '*':\n",
        "                        count += 1\n",
        "            print(count, sep = '', end = '')\n",
        "    print()"
      ],
      "execution_count": 2,
      "outputs": [
        {
          "output_type": "stream",
          "text": [
            "5 5\n",
            "..*..\n",
            "...*.\n",
            ".*...\n",
            ".***.\n",
            "*.*..\n",
            "01*21\n",
            "123*1\n",
            "2*532\n",
            "3***1\n",
            "*4*31\n"
          ],
          "name": "stdout"
        }
      ]
    },
    {
      "cell_type": "markdown",
      "metadata": {
        "id": "s65dSMLSB4IB"
      },
      "source": [
        "# Unit 24. 과제"
      ]
    },
    {
      "cell_type": "code",
      "metadata": {
        "colab": {
          "base_uri": "https://localhost:8080/"
        },
        "id": "y6-oZQkOB6QA",
        "outputId": "a4344d63-fa2d-4d79-ff4e-3da5def78f2c"
      },
      "source": [
        "# 24.5 심사문제 : 특정 단어 개수 세기\n",
        "paragraph = input().split()\n",
        "count = 0\n",
        "for words in paragraph:\n",
        "    if (words.strip(',.')=='the'):\n",
        "        count += 1\n",
        "print(count)"
      ],
      "execution_count": null,
      "outputs": [
        {
          "output_type": "stream",
          "text": [
            "the grown-ups' response, this time, was to advise me to lay aside my drawings of boa constrictors, whether from the inside or the outside, and devote myself instead to geography, history, arithmetic, and grammar. That is why, at the, age of six, I gave up what might have been a magnificent career as a painter. I had been disheartened by the failure of my Drawing Number One and my Drawing Number Two. Grown-ups never understand anything by themselves, and it is tiresome for children to be always and forever explaining things to the.\n",
            "6\n"
          ],
          "name": "stdout"
        }
      ]
    },
    {
      "cell_type": "code",
      "metadata": {
        "colab": {
          "base_uri": "https://localhost:8080/"
        },
        "id": "gSDrdFwGCWyW",
        "outputId": "7fc98096-fccf-48ab-d779-8a7a8af011e2"
      },
      "source": [
        "# 24.6 심사문제 : 높은 가격순으로 출력하기\n",
        "price = list(map(int, input().split(';')))\n",
        "price.sort(reverse = True)\n",
        "for i in price:\n",
        "    print('{0:>9,}'.format(i))"
      ],
      "execution_count": null,
      "outputs": [
        {
          "output_type": "stream",
          "text": [
            "51900;83000;158000;367500;250000;59200;128500;1304000\n",
            "1,304,000\n",
            "  367,500\n",
            "  250,000\n",
            "  158,000\n",
            "  128,500\n",
            "   83,000\n",
            "   59,200\n",
            "   51,900\n"
          ],
          "name": "stdout"
        }
      ]
    },
    {
      "cell_type": "markdown",
      "metadata": {
        "id": "tfmfWscyLrIu"
      },
      "source": [
        "# Unit 25. 과제"
      ]
    },
    {
      "cell_type": "code",
      "metadata": {
        "colab": {
          "base_uri": "https://localhost:8080/"
        },
        "id": "psYFggSaKtiL",
        "outputId": "3d89ec49-0cb4-4c2e-8177-f6b487331993"
      },
      "source": [
        "# 25.8 심사문제 : 딕셔너리에서 특정 값 삭제하기\n",
        "keys = input().split()\n",
        "values = map(int, input().split())\n",
        "x = dict(zip(keys, values))\n",
        "del x['delta']\n",
        "x = {key: value for key, value in x.items() if value != 30}\n",
        "print(x)"
      ],
      "execution_count": null,
      "outputs": [
        {
          "output_type": "stream",
          "text": [
            "alpha bravo charlie delta\n",
            "10 20 30 40\n",
            "{'alpha': 10, 'bravo': 20}\n"
          ],
          "name": "stdout"
        }
      ]
    },
    {
      "cell_type": "code",
      "metadata": {
        "colab": {
          "base_uri": "https://localhost:8080/"
        },
        "id": "33DKvUxYO_v0",
        "outputId": "bb66d86d-39a3-48ec-81a8-1daa1b3f404c"
      },
      "source": [
        "# 25.8 심사문제 : 딕셔너리에서 특정 값 삭제하기\n",
        "keys = input().split()\n",
        "values = map(int, input().split())\n",
        "x = dict(zip(keys, values))\n",
        "del x['delta']\n",
        "x = {key: value for key, value in x.items() if value != 30}\n",
        "print(x)"
      ],
      "execution_count": null,
      "outputs": [
        {
          "output_type": "stream",
          "text": [
            "alpha bravo charlie delta echo foxtrot golf\n",
            "30 40 50 60 70 80 90\n",
            "{'bravo': 40, 'charlie': 50, 'echo': 70, 'foxtrot': 80, 'golf': 90}\n"
          ],
          "name": "stdout"
        }
      ]
    },
    {
      "cell_type": "markdown",
      "metadata": {
        "id": "1BDQb9Q7MAbI"
      },
      "source": [
        "# Unit 26. 과제"
      ]
    },
    {
      "cell_type": "code",
      "metadata": {
        "colab": {
          "base_uri": "https://localhost:8080/"
        },
        "id": "eXqFuA96MDIg",
        "outputId": "6c38f55f-c2a2-4aee-fb40-b9902b2ead02"
      },
      "source": [
        "# 26.9 심사문제 : 공약수 구하기\n",
        "x, y = map(int, input().split())\n",
        "a = {i for i in range(1, x + 1) if x % i == 0}\n",
        "b = {i for i in range(1, y + 1) if y % i == 0}\n",
        "divisor = a & b\n",
        "result = 0\n",
        "if type(divisor) == set:\n",
        "    result = sum(divisor)\n",
        "print(result)"
      ],
      "execution_count": null,
      "outputs": [
        {
          "output_type": "stream",
          "text": [
            "10 20\n",
            "18\n"
          ],
          "name": "stdout"
        }
      ]
    },
    {
      "cell_type": "code",
      "metadata": {
        "colab": {
          "base_uri": "https://localhost:8080/"
        },
        "id": "5s7hHDWhQXd_",
        "outputId": "8aa38b27-5ec6-4e12-a721-3f113a48c994"
      },
      "source": [
        "# 26.9 심사문제 : 공약수 구하기\n",
        "x, y = map(int, input().split())\n",
        "a = {i for i in range(1, x + 1) if x % i == 0}\n",
        "b = {i for i in range(1, y + 1) if y % i == 0}\n",
        "divisor = a & b\n",
        "result = 0\n",
        "if type(divisor) == set:\n",
        "    result = sum(divisor)\n",
        "print(result)"
      ],
      "execution_count": null,
      "outputs": [
        {
          "output_type": "stream",
          "text": [
            "100 200\n",
            "217\n"
          ],
          "name": "stdout"
        }
      ]
    }
  ]
}