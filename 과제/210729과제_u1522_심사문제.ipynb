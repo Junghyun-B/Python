{
  "nbformat": 4,
  "nbformat_minor": 0,
  "metadata": {
    "colab": {
      "name": "210729과제_u1522_심사문제.ipynb",
      "provenance": [],
      "collapsed_sections": []
    },
    "kernelspec": {
      "name": "python3",
      "display_name": "Python 3"
    },
    "language_info": {
      "name": "python"
    }
  },
  "cells": [
    {
      "cell_type": "markdown",
      "metadata": {
        "id": "QhHGuR-sPePg"
      },
      "source": [
        "# Unit 15. 심사문제"
      ]
    },
    {
      "cell_type": "code",
      "metadata": {
        "colab": {
          "base_uri": "https://localhost:8080/"
        },
        "id": "4POCpGa1JS0O",
        "outputId": "697eb622-d4b2-420c-b0bb-c3ad05a31b4e"
      },
      "source": [
        "# 15.4 심사문제 : 교통카드 시스템 만들기\n",
        "age = int(input())\n",
        "balance = 9000\n",
        "if 7 <= age <= 12:\n",
        "    balance = balance - 650\n",
        "elif 13 <= age <= 18:\n",
        "    balance = balance - 1050\n",
        "elif 19 <= age:\n",
        "    balance = balance - 1250\n",
        "print(balance)"
      ],
      "execution_count": null,
      "outputs": [
        {
          "output_type": "stream",
          "text": [
            "17\n",
            "7950\n"
          ],
          "name": "stdout"
        }
      ]
    },
    {
      "cell_type": "code",
      "metadata": {
        "colab": {
          "base_uri": "https://localhost:8080/"
        },
        "id": "ziXGA9zVM-ua",
        "outputId": "493d9e82-9965-44ef-d278-956aec53d78e"
      },
      "source": [
        "# 15.4 심사문제 : 교통카드 시스템 만들기\n",
        "age = int(input())\n",
        "balance = 9000\n",
        "if 7 <= age <= 12:\n",
        "    balance = balance - 650\n",
        "elif 13 <= age <= 18:\n",
        "    balance = balance - 1050\n",
        "elif 19 <= age:\n",
        "    balance = balance - 1250\n",
        "print(balance)"
      ],
      "execution_count": null,
      "outputs": [
        {
          "output_type": "stream",
          "text": [
            "12\n",
            "8350\n"
          ],
          "name": "stdout"
        }
      ]
    },
    {
      "cell_type": "markdown",
      "metadata": {
        "id": "HNdJUn7xPkGu"
      },
      "source": [
        "# Unit 16. 심사문제"
      ]
    },
    {
      "cell_type": "code",
      "metadata": {
        "colab": {
          "base_uri": "https://localhost:8080/"
        },
        "id": "7foJUlltPncf",
        "outputId": "181cf6f2-500c-4e8e-af2f-9a3e9b4751d8"
      },
      "source": [
        "# 16.6 심사문제 : 구구단 출력하기\n",
        "x = int(input())\n",
        "for i in range(1,10):\n",
        "    print(x, '*', i , '=', x * i, sep = ' ')"
      ],
      "execution_count": null,
      "outputs": [
        {
          "output_type": "stream",
          "text": [
            "2\n",
            "2 * 1 = 2\n",
            "2 * 2 = 4\n",
            "2 * 3 = 6\n",
            "2 * 4 = 8\n",
            "2 * 5 = 10\n",
            "2 * 6 = 12\n",
            "2 * 7 = 14\n",
            "2 * 8 = 16\n",
            "2 * 9 = 18\n"
          ],
          "name": "stdout"
        }
      ]
    },
    {
      "cell_type": "code",
      "metadata": {
        "colab": {
          "base_uri": "https://localhost:8080/"
        },
        "id": "u0Gk_X17U2iJ",
        "outputId": "8df8f37f-628f-4636-ff70-f2ab3f838bd6"
      },
      "source": [
        "# 16.6 심사문제 : 구구단 출력하기\n",
        "x = int(input())\n",
        "for i in range(1,10):\n",
        "    print(x, '*', i , '=', x * i, sep = ' ')"
      ],
      "execution_count": null,
      "outputs": [
        {
          "output_type": "stream",
          "text": [
            "7\n",
            "7 * 1 = 7\n",
            "7 * 2 = 14\n",
            "7 * 3 = 21\n",
            "7 * 4 = 28\n",
            "7 * 5 = 35\n",
            "7 * 6 = 42\n",
            "7 * 7 = 49\n",
            "7 * 8 = 56\n",
            "7 * 9 = 63\n"
          ],
          "name": "stdout"
        }
      ]
    },
    {
      "cell_type": "markdown",
      "metadata": {
        "id": "es_YAYZIVVch"
      },
      "source": [
        "# Unit 17. 심사문제"
      ]
    },
    {
      "cell_type": "code",
      "metadata": {
        "colab": {
          "base_uri": "https://localhost:8080/"
        },
        "id": "7pgGdzvaVVFV",
        "outputId": "67a932e5-da40-49fd-fb57-8aa27fff927d"
      },
      "source": [
        "# 17.6 심사문제 : 교통카드 잔액 출력하기\n",
        "balance = int(input())\n",
        "while 1350 <= balance:\n",
        "    balance -= 1350\n",
        "    print(balance)"
      ],
      "execution_count": null,
      "outputs": [
        {
          "output_type": "stream",
          "text": [
            "10000\n",
            "8650\n",
            "7300\n",
            "5950\n",
            "4600\n",
            "3250\n",
            "1900\n",
            "550\n"
          ],
          "name": "stdout"
        }
      ]
    },
    {
      "cell_type": "code",
      "metadata": {
        "colab": {
          "base_uri": "https://localhost:8080/"
        },
        "id": "b6Qx9w9CZbhJ",
        "outputId": "e358cbf2-1453-43f9-8ba7-f6bc01cca737"
      },
      "source": [
        "# 17.6 심사문제 : 교통카드 잔액 출력하기\n",
        "balance = int(input())\n",
        "while 1350 <= balance:\n",
        "    balance -= 1350\n",
        "    print(balance)"
      ],
      "execution_count": null,
      "outputs": [
        {
          "output_type": "stream",
          "text": [
            "13500\n",
            "12150\n",
            "10800\n",
            "9450\n",
            "8100\n",
            "6750\n",
            "5400\n",
            "4050\n",
            "2700\n",
            "1350\n",
            "0\n"
          ],
          "name": "stdout"
        }
      ]
    },
    {
      "cell_type": "markdown",
      "metadata": {
        "id": "SEe1gwVoZsW3"
      },
      "source": [
        "# Unit 18. 심사문제"
      ]
    },
    {
      "cell_type": "code",
      "metadata": {
        "colab": {
          "base_uri": "https://localhost:8080/"
        },
        "id": "TUANI2A6ZvLq",
        "outputId": "9576fac1-1653-4839-b78c-cef18c3fdcc1"
      },
      "source": [
        "# 18.6 심사문제 : 두 수 사이의 숫자 중 3으로 끝나지 않는 숫자 출력하기\n",
        "start, stop = map(int, input().split())\n",
        " \n",
        "i = start\n",
        " \n",
        "while True:\n",
        "    if i % 10 == 3:\n",
        "        i += 1\n",
        "        continue\n",
        "    if i > stop:\n",
        "        break\n",
        "    print(i, end = ' ')\n",
        "    i += 1"
      ],
      "execution_count": null,
      "outputs": [
        {
          "output_type": "stream",
          "text": [
            "1 20\n",
            "1 2 4 5 6 7 8 9 10 11 12 14 15 16 17 18 19 20 "
          ],
          "name": "stdout"
        }
      ]
    },
    {
      "cell_type": "code",
      "metadata": {
        "colab": {
          "base_uri": "https://localhost:8080/"
        },
        "id": "ZpFpYh3Ncr4o",
        "outputId": "7e158ff4-c26b-4a01-8a9a-950155579fb7"
      },
      "source": [
        "# 18.6 심사문제 : 두 수 사이의 숫자 중 3으로 끝나지 않는 숫자 출력하기\n",
        "start, stop = map(int, input().split())\n",
        " \n",
        "i = start\n",
        " \n",
        "while True:\n",
        "    if i % 10 == 3:\n",
        "        i += 1\n",
        "        continue\n",
        "    if i > stop:\n",
        "        break\n",
        "    print(i, end = ' ')\n",
        "    i += 1"
      ],
      "execution_count": null,
      "outputs": [
        {
          "output_type": "stream",
          "text": [
            "21 33\n",
            "21 22 24 25 26 27 28 29 30 31 32 "
          ],
          "name": "stdout"
        }
      ]
    },
    {
      "cell_type": "markdown",
      "metadata": {
        "id": "Mj8_pFLxdB0H"
      },
      "source": [
        "# Unit 19. 심사문제"
      ]
    },
    {
      "cell_type": "code",
      "metadata": {
        "colab": {
          "base_uri": "https://localhost:8080/"
        },
        "id": "qN5CsKvjdF5g",
        "outputId": "be445d6a-f3fd-415e-c63b-96986387776f"
      },
      "source": [
        "# 19.6 심사문제 : 산 모양으로 별 출력하기\n",
        "x = int(input())\n",
        "for i in range(x):\n",
        "    for j in reversed(range(x)):\n",
        "        if j > i:\n",
        "            print(' ', end='')\n",
        "        else:\n",
        "            print('*', end='')\n",
        "    for j in range(x):\n",
        "        if j < i:\n",
        "            print('*', end='')\n",
        "    print()"
      ],
      "execution_count": null,
      "outputs": [
        {
          "output_type": "stream",
          "text": [
            "3\n",
            "  *\n",
            " ***\n",
            "*****\n"
          ],
          "name": "stdout"
        }
      ]
    },
    {
      "cell_type": "code",
      "metadata": {
        "colab": {
          "base_uri": "https://localhost:8080/"
        },
        "id": "HpmOJrl1e20P",
        "outputId": "9e9657de-436d-4310-ac36-18647fb36d5a"
      },
      "source": [
        "# 19.6 심사문제 : 산 모양으로 별 출력하기\n",
        "x = int(input())\n",
        "for i in range(x):\n",
        "    for j in reversed(range(x)):\n",
        "        if j > i:\n",
        "            print(' ', end='')\n",
        "        else:\n",
        "            print('*', end='')\n",
        "    for j in range(x):\n",
        "        if j < i:\n",
        "            print('*', end='')\n",
        "    print()"
      ],
      "execution_count": null,
      "outputs": [
        {
          "output_type": "stream",
          "text": [
            "5\n",
            "    *\n",
            "   ***\n",
            "  *****\n",
            " *******\n",
            "*********\n"
          ],
          "name": "stdout"
        }
      ]
    },
    {
      "cell_type": "markdown",
      "metadata": {
        "id": "jFM8I-Waf2ma"
      },
      "source": [
        "# Unit 22. 심사문제"
      ]
    },
    {
      "cell_type": "code",
      "metadata": {
        "colab": {
          "base_uri": "https://localhost:8080/"
        },
        "id": "iCaOAsQGf5Pd",
        "outputId": "8bf35919-3526-4290-9613-0211d40a5ac0"
      },
      "source": [
        "# 22.10 심사문제 : 2의 거듭제곱 리스트 생성하기\n",
        "start, stop = map(int, input().split())\n",
        "i = start\n",
        "j = stop\n",
        "list = [2 ** i for i in range(i, j + 1)]\n",
        "del list[1]\n",
        "del list[-2]\n",
        "print(list)"
      ],
      "execution_count": null,
      "outputs": [
        {
          "output_type": "stream",
          "text": [
            "1 10\n",
            "[2, 8, 16, 32, 64, 128, 256, 1024]\n"
          ],
          "name": "stdout"
        }
      ]
    },
    {
      "cell_type": "code",
      "metadata": {
        "colab": {
          "base_uri": "https://localhost:8080/"
        },
        "id": "iT9UdXTdkZeB",
        "outputId": "426dc901-174e-498b-8688-06fc89af11dc"
      },
      "source": [
        "# 22.10 심사문제 : 2의 거듭제곱 리스트 생성하기\n",
        "start, stop = map(int, input().split())\n",
        "i = start\n",
        "j = stop\n",
        "list = [2 ** i for i in range(i, j + 1)]\n",
        "del list[1]\n",
        "del list[-2]\n",
        "print(list)"
      ],
      "execution_count": null,
      "outputs": [
        {
          "output_type": "stream",
          "text": [
            "10 20\n",
            "[1024, 4096, 8192, 16384, 32768, 65536, 131072, 262144, 1048576]\n"
          ],
          "name": "stdout"
        }
      ]
    },
    {
      "cell_type": "markdown",
      "metadata": {
        "id": "9ZDa4eVslGDr"
      },
      "source": [
        "# 추가문제"
      ]
    },
    {
      "cell_type": "code",
      "metadata": {
        "colab": {
          "base_uri": "https://localhost:8080/"
        },
        "id": "ZwqbDEHVLwq6",
        "outputId": "012fec9a-b9b7-4f9f-eb10-9952b61dc325"
      },
      "source": [
        "# 1000이하의 숫자 a, b, c 중 피타고라스의 법칙을 만족하는 a, b, c 찾기(단, a < b < c)\n",
        "for a in range(1001):\n",
        "    for b in range(1001):\n",
        "        for c in range(1001):\n",
        "            if a < b < c and a + b + c == 1000 and a * a + b * b == c * c:\n",
        "                print(a, b, c)"
      ],
      "execution_count": null,
      "outputs": [
        {
          "output_type": "stream",
          "text": [
            "200 375 425\n"
          ],
          "name": "stdout"
        }
      ]
    },
    {
      "cell_type": "code",
      "metadata": {
        "colab": {
          "base_uri": "https://localhost:8080/"
        },
        "id": "T-V49hL9L979",
        "outputId": "f6b675eb-e7d0-4117-8000-b576de0ee3a7"
      },
      "source": [
        "# 본인의 생일을 년, 월, 일로 입력받아 오늘 날짜의 만 나이를 구하기\n",
        "from datetime import date\n",
        "today = date.today()\n",
        "today.year, today.month, today.day"
      ],
      "execution_count": null,
      "outputs": [
        {
          "output_type": "execute_result",
          "data": {
            "text/plain": [
              "(2021, 7, 29)"
            ]
          },
          "metadata": {
            "tags": []
          },
          "execution_count": 79
        }
      ]
    },
    {
      "cell_type": "code",
      "metadata": {
        "colab": {
          "base_uri": "https://localhost:8080/"
        },
        "id": "VaFPkUjtlwQv",
        "outputId": "a0266d28-38a9-492e-d158-882afd9aa3e0"
      },
      "source": [
        "# 디지털 시계에 하루동안 표시되는 시간을 초로 환산하면 총 몇 초인지 구하기\n",
        "total = 0\n",
        "for i in range(0, 24):                          # i는 시간(hour)\n",
        "    if i % 10 == 3:\n",
        "        total += 3600\n",
        "    else:\n",
        "        for k in range(0, 6):                   # k는 분침의 10의 자리\n",
        "            if k ==3:\n",
        "                total += 600\n",
        "            else:\n",
        "                for l in range(0, 10):          # l은 분침의 1의 자리\n",
        "                    if l ==3:\n",
        "                        total += 60\n",
        "print(f'{total}초입니다.')"
      ],
      "execution_count": null,
      "outputs": [
        {
          "output_type": "stream",
          "text": [
            "29700초입니다.\n"
          ],
          "name": "stdout"
        }
      ]
    }
  ]
}