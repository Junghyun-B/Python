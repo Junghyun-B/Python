{
  "nbformat": 4,
  "nbformat_minor": 0,
  "metadata": {
    "colab": {
      "name": "210804과제_u3236_심사문제.ipynb",
      "provenance": [],
      "collapsed_sections": []
    },
    "kernelspec": {
      "name": "python3",
      "display_name": "Python 3"
    },
    "language_info": {
      "name": "python"
    }
  },
  "cells": [
    {
      "cell_type": "markdown",
      "metadata": {
        "id": "TSeBggz1EV-H"
      },
      "source": [
        "# Unit 32. 심사문제"
      ]
    },
    {
      "cell_type": "code",
      "metadata": {
        "colab": {
          "base_uri": "https://localhost:8080/"
        },
        "id": "W8n7u7yXDqSu",
        "outputId": "b1f1174d-1ce2-4606-c97c-4794b236c672"
      },
      "source": [
        "# 32.5 심사문제 : 파일 이름을 한꺼번에 바꾸기\n",
        "files = input().split()\n",
        "print(list(map(lambda x:'{0:03d}.{1}'.format(int(x.split('.')[0]), x.split('.')[1]), files)))"
      ],
      "execution_count": null,
      "outputs": [
        {
          "output_type": "stream",
          "text": [
            "1.jpg 10.png 11.png 2.jpg 3.png\n",
            "['001.jpg', '010.png', '011.png', '002.jpg', '003.png']\n"
          ],
          "name": "stdout"
        }
      ]
    },
    {
      "cell_type": "code",
      "metadata": {
        "colab": {
          "base_uri": "https://localhost:8080/"
        },
        "id": "8lo_6N9fF4gP",
        "outputId": "00eb6891-183f-414f-a815-1b19af7f0adc"
      },
      "source": [
        "# 32.5 심사문제 : 파일 이름을 한꺼번에 바꾸기\n",
        "files = input().split()\n",
        "print(list(map(lambda x:'{0:03d}.{1}'.format(int(x.split('.')[0]), x.split('.')[1]), files)))"
      ],
      "execution_count": null,
      "outputs": [
        {
          "output_type": "stream",
          "text": [
            "97.xlsx 98.docx 99.docx 100.xlsx 101.docx 102.docx\n",
            "['097.xlsx', '098.docx', '099.docx', '100.xlsx', '101.docx', '102.docx']\n"
          ],
          "name": "stdout"
        }
      ]
    },
    {
      "cell_type": "code",
      "metadata": {
        "colab": {
          "base_uri": "https://localhost:8080/"
        },
        "id": "f-RVgEbpoWPR",
        "outputId": "e0e8fe28-b69c-4869-bd0f-1667e8134417"
      },
      "source": [
        "files = input().split()\n",
        "print(list(map(lambda x: f\"{int(x.split('.')[0]):03d}.{x.split('.')[1]}\", files)))"
      ],
      "execution_count": 1,
      "outputs": [
        {
          "output_type": "stream",
          "text": [
            "1.jpg 10.png 11.png 2.jpg 3.png\n"
          ],
          "name": "stdout"
        },
        {
          "output_type": "execute_result",
          "data": {
            "text/plain": [
              "['001.jpg', '010.png', '011.png', '002.jpg', '003.png']"
            ]
          },
          "metadata": {
            "tags": []
          },
          "execution_count": 1
        }
      ]
    },
    {
      "cell_type": "markdown",
      "metadata": {
        "id": "dU1n3C7zHoOO"
      },
      "source": [
        "# Unit 33. 심사문제"
      ]
    },
    {
      "cell_type": "code",
      "metadata": {
        "colab": {
          "base_uri": "https://localhost:8080/"
        },
        "id": "Y1UhvdABHRGh",
        "outputId": "ec1183b8-5a36-4533-80d0-fd1fe0039d98"
      },
      "source": [
        "# 33.6 심사문제 : 카운트다운 함수 만들기\n",
        "def countdown(n):\n",
        "    i = n + 1\n",
        "    def count():\n",
        "        nonlocal i\n",
        "        i -= 1\n",
        "        return i\n",
        "    return count\n",
        "\n",
        "n = int(input())\n",
        "\n",
        "c = countdown(n)\n",
        "for i in range(n):\n",
        "    print(c(), end = ' ')"
      ],
      "execution_count": null,
      "outputs": [
        {
          "output_type": "stream",
          "text": [
            "10\n",
            "10 9 8 7 6 5 4 3 2 1 "
          ],
          "name": "stdout"
        }
      ]
    },
    {
      "cell_type": "code",
      "metadata": {
        "colab": {
          "base_uri": "https://localhost:8080/"
        },
        "id": "O4MPXfRiJAuN",
        "outputId": "c2383abb-b031-4b32-e7dd-6103e673784f"
      },
      "source": [
        "# 33.6 심사문제 : 카운트다운 함수 만들기\n",
        "def countdown(n):\n",
        "    i = n + 1\n",
        "    def count():\n",
        "        nonlocal i\n",
        "        i -= 1\n",
        "        return i\n",
        "    return count\n",
        "\n",
        "n = int(input())\n",
        "\n",
        "c = countdown(n)\n",
        "for i in range(n):\n",
        "    print(c(), end = ' ')"
      ],
      "execution_count": null,
      "outputs": [
        {
          "output_type": "stream",
          "text": [
            "20\n",
            "20 19 18 17 16 15 14 13 12 11 10 9 8 7 6 5 4 3 2 1 "
          ],
          "name": "stdout"
        }
      ]
    },
    {
      "cell_type": "markdown",
      "metadata": {
        "id": "q1rYQRMAJlIM"
      },
      "source": [
        "# Unit 34. 심사문제"
      ]
    },
    {
      "cell_type": "code",
      "metadata": {
        "colab": {
          "base_uri": "https://localhost:8080/"
        },
        "id": "rcmEn9CiJM6G",
        "outputId": "f6cfbbf1-6c95-45de-dd88-22d60b98f00c"
      },
      "source": [
        "# 34.6 심사문제 : 게임 캐릭터 클래스 만들기\n",
        "class Annie:\n",
        "    def __init__(self, health, mana, ability_power):\n",
        "        self.health = health\n",
        "        self.mana = mana\n",
        "        self.ability_power = ability_power\n",
        "\n",
        "    def tibbers(self):\n",
        "        print(f'티버: 피해량 {ability_power * 0.65 + 400}')\n",
        "\n",
        "health, mana, ability_power = map(float, input().split())\n",
        " \n",
        "x = Annie(health=health, mana=mana, ability_power=ability_power)\n",
        "x.tibbers()"
      ],
      "execution_count": null,
      "outputs": [
        {
          "output_type": "stream",
          "text": [
            "511.68 334.0 298\n",
            "티버: 피해량 593.7\n"
          ],
          "name": "stdout"
        }
      ]
    },
    {
      "cell_type": "code",
      "metadata": {
        "colab": {
          "base_uri": "https://localhost:8080/"
        },
        "id": "zb6kW65SK4gD",
        "outputId": "6d379349-82da-4a5e-e9b6-db5f310f9bae"
      },
      "source": [
        "# 34.6 심사문제 : 게임 캐릭터 클래스 만들기\n",
        "class Annie:\n",
        "    def __init__(self, health, mana, ability_power):\n",
        "        self.health = health\n",
        "        self.mana = mana\n",
        "        self.ability_power = ability_power\n",
        "\n",
        "    def tibbers(self):\n",
        "        print(f'티버: 피해량 {ability_power * 0.65 + 400}')\n",
        "\n",
        "health, mana, ability_power = map(float, input().split())\n",
        " \n",
        "x = Annie(health=health, mana=mana, ability_power=ability_power)\n",
        "x.tibbers()"
      ],
      "execution_count": null,
      "outputs": [
        {
          "output_type": "stream",
          "text": [
            "1803.68 1184.0 645\n",
            "티버: 피해량 819.25\n"
          ],
          "name": "stdout"
        }
      ]
    },
    {
      "cell_type": "markdown",
      "metadata": {
        "id": "X36rS43OOLAM"
      },
      "source": [
        "# Unit 35. 심사문제"
      ]
    },
    {
      "cell_type": "code",
      "metadata": {
        "colab": {
          "base_uri": "https://localhost:8080/"
        },
        "id": "IfibFG6zLLoY",
        "outputId": "abc1e014-9350-48d7-df8b-f7b590bcb656"
      },
      "source": [
        "# 35.6 심사문제 : 시간 클래스 만들기\n",
        "class Time:\n",
        "    def __init__(self, hour, minute, second):\n",
        "        self.hour = hour\n",
        "        self.minute = minute\n",
        "        self.second = second\n",
        "\n",
        "    @staticmethod\n",
        "    def is_time_valid(time_string):\n",
        "        hour, minute, second = map(int, time_string.split(':'))\n",
        "        return hour <= 24 and minute <= 59 and second <= 60\n",
        "\n",
        "    @classmethod\n",
        "    def from_string(cls, time_string):\n",
        "        hour, minute, second = map(int, time_string.split(':'))\n",
        "        return cls(hour, minute, second)\n",
        "\n",
        " \n",
        "time_string = input()\n",
        " \n",
        "if Time.is_time_valid(time_string):\n",
        "    t = Time.from_string(time_string)\n",
        "    print(t.hour, t.minute, t.second)\n",
        "else:\n",
        "    print('잘못된 시간 형식입니다.')"
      ],
      "execution_count": null,
      "outputs": [
        {
          "output_type": "stream",
          "text": [
            "23:35:59\n",
            "23 35 59\n"
          ],
          "name": "stdout"
        }
      ]
    },
    {
      "cell_type": "code",
      "metadata": {
        "colab": {
          "base_uri": "https://localhost:8080/"
        },
        "id": "L_Zp0erDMx_Z",
        "outputId": "ef7bf831-b937-4cb0-b107-9cdd128ba958"
      },
      "source": [
        "# 35.6 심사문제 : 시간 클래스 만들기\n",
        "class Time:\n",
        "    def __init__(self, hour, minute, second):\n",
        "        self.hour = hour\n",
        "        self.minute = minute\n",
        "        self.second = second\n",
        "\n",
        "    @staticmethod\n",
        "    def is_time_valid(time_string):\n",
        "        hour, minute, second = map(int, time_string.split(':'))\n",
        "        return hour <= 24 and minute <= 59 and second <= 60\n",
        "\n",
        "    @classmethod\n",
        "    def from_string(cls, time_string):\n",
        "        hour, minute, second = map(int, time_string.split(':'))\n",
        "        return cls(hour, minute, second)\n",
        "\n",
        " \n",
        "time_string = input()\n",
        " \n",
        "if Time.is_time_valid(time_string):\n",
        "    t = Time.from_string(time_string)\n",
        "    print(t.hour, t.minute, t.second)\n",
        "else:\n",
        "    print('잘못된 시간 형식입니다.')"
      ],
      "execution_count": null,
      "outputs": [
        {
          "output_type": "stream",
          "text": [
            "12:62:43\n",
            "잘못된 시간 형식입니다.\n"
          ],
          "name": "stdout"
        }
      ]
    },
    {
      "cell_type": "code",
      "metadata": {
        "colab": {
          "base_uri": "https://localhost:8080/"
        },
        "id": "IeRGEvj6qqiJ",
        "outputId": "0ad9144f-1198-4732-9066-f6f8f078b5d1"
      },
      "source": [
        "class Time:\n",
        "    def __init__(self, hour, minute, second):\n",
        "        self.hour = hour\n",
        "        self.minute = minute\n",
        "        self.second = second\n",
        "\n",
        "    @staticmethod\n",
        "    def is_time_valid(time_string):\n",
        "        hour, minute, second = map(int, time_string.split(':'))\n",
        "        return 0 < hour <= 24 and 0 <= minute <= 59 and 0 < second <= 60\n",
        "\n",
        "    @classmethod\n",
        "    def from_string(cls, time_string):\n",
        "        hour, minute, second = map(int, time_string.split(':'))\n",
        "        return cls(hour, minute, second)\n",
        "\n",
        " \n",
        "time_string = input()\n",
        " \n",
        "if Time.is_time_valid(time_string):\n",
        "    t = Time.from_string(time_string)\n",
        "    print(t.hour, t.minute, t.second)\n",
        "else:\n",
        "    print('잘못된 시간 형식입니다.')"
      ],
      "execution_count": 3,
      "outputs": [
        {
          "output_type": "stream",
          "text": [
            "23:35:59\n",
            "23 35 59\n"
          ],
          "name": "stdout"
        }
      ]
    },
    {
      "cell_type": "markdown",
      "metadata": {
        "id": "5yz7085tOEoe"
      },
      "source": [
        "# Unit 36. 심사문제"
      ]
    },
    {
      "cell_type": "code",
      "metadata": {
        "colab": {
          "base_uri": "https://localhost:8080/"
        },
        "id": "57Cl4u9bNvVD",
        "outputId": "e6ac0bc7-0e13-4e14-c972-859a5bbd294b"
      },
      "source": [
        "# 36.9 심사문제 : 다중 상속 사용하기\n",
        "class Animal:\n",
        "    def eat(self):\n",
        "        print('먹다')\n",
        " \n",
        "class Wing:\n",
        "    def flap(self):\n",
        "        print('파닥거리다')\n",
        "\n",
        "class Bird(Animal, Wing):\n",
        "    def fly(self):\n",
        "        print('날다')\n",
        "\n",
        "b = Bird()\n",
        "b.eat()\n",
        "b.flap()\n",
        "b.fly()\n",
        "print(issubclass(Bird, Animal))\n",
        "print(issubclass(Bird, Wing))"
      ],
      "execution_count": null,
      "outputs": [
        {
          "output_type": "stream",
          "text": [
            "먹다\n",
            "파닥거리다\n",
            "날다\n",
            "True\n",
            "True\n"
          ],
          "name": "stdout"
        }
      ]
    }
  ]
}