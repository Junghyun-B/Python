{
  "nbformat": 4,
  "nbformat_minor": 0,
  "metadata": {
    "colab": {
      "name": "u44_모듈_패키지.ipynb",
      "provenance": [],
      "collapsed_sections": []
    },
    "kernelspec": {
      "name": "python3",
      "display_name": "Python 3"
    },
    "language_info": {
      "name": "python"
    }
  },
  "cells": [
    {
      "cell_type": "markdown",
      "metadata": {
        "id": "XbNyebmbfTA2"
      },
      "source": [
        "# Unit 44. 모듈과 패키지"
      ]
    },
    {
      "cell_type": "markdown",
      "metadata": {
        "id": "xjjt05RxgXUl"
      },
      "source": [
        "## 44.1 import 모듈\n",
        "\n"
      ]
    },
    {
      "cell_type": "code",
      "metadata": {
        "colab": {
          "base_uri": "https://localhost:8080/"
        },
        "id": "tGREbqKKR8Ag",
        "outputId": "a985529c-7bd3-4d92-b891-e948ffb4246f"
      },
      "source": [
        "import math\n",
        "math.pi"
      ],
      "execution_count": 1,
      "outputs": [
        {
          "output_type": "execute_result",
          "data": {
            "text/plain": [
              "3.141592653589793"
            ]
          },
          "metadata": {
            "tags": []
          },
          "execution_count": 1
        }
      ]
    },
    {
      "cell_type": "code",
      "metadata": {
        "colab": {
          "base_uri": "https://localhost:8080/"
        },
        "id": "NTsLfBB9gbLF",
        "outputId": "28a04fbb-1c81-4cc1-eaa6-aaa9fec2ddf8"
      },
      "source": [
        "math.sqrt(2), math.log2(2), math.sin(math.pi / 2)"
      ],
      "execution_count": 2,
      "outputs": [
        {
          "output_type": "execute_result",
          "data": {
            "text/plain": [
              "(1.4142135623730951, 1.0, 1.0)"
            ]
          },
          "metadata": {
            "tags": []
          },
          "execution_count": 2
        }
      ]
    },
    {
      "cell_type": "code",
      "metadata": {
        "colab": {
          "base_uri": "https://localhost:8080/"
        },
        "id": "lOy9YGdDgoS7",
        "outputId": "768eb7b6-6850-4b9d-b572-4f10b2fbdd70"
      },
      "source": [
        "# aliasing\n",
        "import math as m\n",
        "round(m.pi, 4), m.log2(2), round(m.sqrt(2), 4)"
      ],
      "execution_count": 5,
      "outputs": [
        {
          "output_type": "execute_result",
          "data": {
            "text/plain": [
              "(3.1416, 1.0, 1.4142)"
            ]
          },
          "metadata": {
            "tags": []
          },
          "execution_count": 5
        }
      ]
    },
    {
      "cell_type": "code",
      "metadata": {
        "colab": {
          "base_uri": "https://localhost:8080/"
        },
        "id": "MwWQ1oOfhJ7m",
        "outputId": "a1d643ac-a323-4a35-86d4-ef9cd0206e55"
      },
      "source": [
        "# from을 통해서 함수, 클래스, 전역변수 등을 가져올 수 있음\n",
        "from math import sqrt, pi\n",
        "round(pi, 4), round(sqrt(2), 4)"
      ],
      "execution_count": 7,
      "outputs": [
        {
          "output_type": "execute_result",
          "data": {
            "text/plain": [
              "(3.1416, 1.4142)"
            ]
          },
          "metadata": {
            "tags": []
          },
          "execution_count": 7
        }
      ]
    },
    {
      "cell_type": "code",
      "metadata": {
        "colab": {
          "base_uri": "https://localhost:8080/"
        },
        "id": "eL3IRXVlhoVN",
        "outputId": "1a3310a9-ceae-4f7b-a385-5458f34c71be"
      },
      "source": [
        "# 모든 것을 가져옴\n",
        "from math import *\n",
        "log2(2), sin(pi/2)"
      ],
      "execution_count": 8,
      "outputs": [
        {
          "output_type": "execute_result",
          "data": {
            "text/plain": [
              "(1.0, 1.0)"
            ]
          },
          "metadata": {
            "tags": []
          },
          "execution_count": 8
        }
      ]
    },
    {
      "cell_type": "markdown",
      "metadata": {
        "id": "TLwc4Myki8Yf"
      },
      "source": [
        "## 44.2 import 패키지"
      ]
    },
    {
      "cell_type": "code",
      "metadata": {
        "colab": {
          "base_uri": "https://localhost:8080/"
        },
        "id": "JpnLUGKJiSjI",
        "outputId": "93300c06-7e97-43df-d0d5-5253184dda4b"
      },
      "source": [
        "import urllib.request\n",
        "res = urllib.request.urlopen('http://www.google.co.kr')\n",
        "res.status"
      ],
      "execution_count": 9,
      "outputs": [
        {
          "output_type": "execute_result",
          "data": {
            "text/plain": [
              "200"
            ]
          },
          "metadata": {
            "tags": []
          },
          "execution_count": 9
        }
      ]
    },
    {
      "cell_type": "code",
      "metadata": {
        "colab": {
          "base_uri": "https://localhost:8080/"
        },
        "id": "UNaXPvc1jWzJ",
        "outputId": "9480f493-efaf-4c59-970a-4fdbd3278f4f"
      },
      "source": [
        "from urllib.request import urlopen\n",
        "res = urlopen('http://www.google.co.kr')\n",
        "res.status"
      ],
      "execution_count": 11,
      "outputs": [
        {
          "output_type": "execute_result",
          "data": {
            "text/plain": [
              "200"
            ]
          },
          "metadata": {
            "tags": []
          },
          "execution_count": 11
        }
      ]
    }
  ]
}