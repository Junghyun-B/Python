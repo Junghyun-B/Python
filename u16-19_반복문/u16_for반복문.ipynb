{
  "nbformat": 4,
  "nbformat_minor": 0,
  "metadata": {
    "colab": {
      "name": "u16_for반복문.ipynb",
      "provenance": [],
      "collapsed_sections": []
    },
    "kernelspec": {
      "name": "python3",
      "display_name": "Python 3"
    },
    "language_info": {
      "name": "python"
    }
  },
  "cells": [
    {
      "cell_type": "markdown",
      "metadata": {
        "id": "PEpfZQ7KtEFq"
      },
      "source": [
        "# Unit 16. for 반복문"
      ]
    },
    {
      "cell_type": "markdown",
      "metadata": {
        "id": "hVY36kV4tRi9"
      },
      "source": [
        "## 16.1 for와 range"
      ]
    },
    {
      "cell_type": "code",
      "metadata": {
        "colab": {
          "base_uri": "https://localhost:8080/"
        },
        "id": "uwzF1e3QtDUS",
        "outputId": "83c9d85a-e454-47b9-f3cb-a273b5084f20"
      },
      "source": [
        "for i in range(10):\n",
        "    print('Hello, world!')"
      ],
      "execution_count": 2,
      "outputs": [
        {
          "output_type": "stream",
          "text": [
            "Hello, world!\n",
            "Hello, world!\n",
            "Hello, world!\n",
            "Hello, world!\n",
            "Hello, world!\n",
            "Hello, world!\n",
            "Hello, world!\n",
            "Hello, world!\n",
            "Hello, world!\n",
            "Hello, world!\n"
          ],
          "name": "stdout"
        }
      ]
    },
    {
      "cell_type": "code",
      "metadata": {
        "colab": {
          "base_uri": "https://localhost:8080/"
        },
        "id": "O6Sczr1mthXT",
        "outputId": "8dc85e23-cf13-471c-f8be-1ab5d84ff69d"
      },
      "source": [
        "for i in range(10):\n",
        "    print('Hello, world!', i)"
      ],
      "execution_count": 3,
      "outputs": [
        {
          "output_type": "stream",
          "text": [
            "Hello, world! 0\n",
            "Hello, world! 1\n",
            "Hello, world! 2\n",
            "Hello, world! 3\n",
            "Hello, world! 4\n",
            "Hello, world! 5\n",
            "Hello, world! 6\n",
            "Hello, world! 7\n",
            "Hello, world! 8\n",
            "Hello, world! 9\n"
          ],
          "name": "stdout"
        }
      ]
    },
    {
      "cell_type": "code",
      "metadata": {
        "colab": {
          "base_uri": "https://localhost:8080/"
        },
        "id": "tiiCbz0hvTqd",
        "outputId": "4d1d345a-9f89-4931-a2b3-595f930b0668"
      },
      "source": [
        "for _ in range(5):\n",
        "    print('Hello, world!')"
      ],
      "execution_count": 4,
      "outputs": [
        {
          "output_type": "stream",
          "text": [
            "Hello, world!\n",
            "Hello, world!\n",
            "Hello, world!\n",
            "Hello, world!\n",
            "Hello, world!\n"
          ],
          "name": "stdout"
        }
      ]
    },
    {
      "cell_type": "markdown",
      "metadata": {
        "id": "VSeUt6kix8W5"
      },
      "source": [
        "## 16.2 for와 range 응용"
      ]
    },
    {
      "cell_type": "code",
      "metadata": {
        "colab": {
          "base_uri": "https://localhost:8080/"
        },
        "id": "1aSAWz5lvmCp",
        "outputId": "fb3cfb72-d74d-4a1f-9580-0bca0ba7b15f"
      },
      "source": [
        "for i in range(6, 10):\n",
        "    print('Hello, world!', i)"
      ],
      "execution_count": 5,
      "outputs": [
        {
          "output_type": "stream",
          "text": [
            "Hello, world! 6\n",
            "Hello, world! 7\n",
            "Hello, world! 8\n",
            "Hello, world! 9\n"
          ],
          "name": "stdout"
        }
      ]
    },
    {
      "cell_type": "code",
      "metadata": {
        "colab": {
          "base_uri": "https://localhost:8080/"
        },
        "id": "Ikyrmh7myM8j",
        "outputId": "3e90763e-9e67-4492-85a6-a81dc659644d"
      },
      "source": [
        "for i in range(0, 10, 2):\n",
        "    print('Hello, world!', i)"
      ],
      "execution_count": 6,
      "outputs": [
        {
          "output_type": "stream",
          "text": [
            "Hello, world! 0\n",
            "Hello, world! 2\n",
            "Hello, world! 4\n",
            "Hello, world! 6\n",
            "Hello, world! 8\n"
          ],
          "name": "stdout"
        }
      ]
    },
    {
      "cell_type": "code",
      "metadata": {
        "colab": {
          "base_uri": "https://localhost:8080/"
        },
        "id": "t9y4cChJyTeV",
        "outputId": "b4570209-6d9f-4700-cac9-6a06ba7ceece"
      },
      "source": [
        "for i in range(10, 0, -2):\n",
        "    print('Hello, world!', i)"
      ],
      "execution_count": 7,
      "outputs": [
        {
          "output_type": "stream",
          "text": [
            "Hello, world! 10\n",
            "Hello, world! 8\n",
            "Hello, world! 6\n",
            "Hello, world! 4\n",
            "Hello, world! 2\n"
          ],
          "name": "stdout"
        }
      ]
    },
    {
      "cell_type": "code",
      "metadata": {
        "colab": {
          "base_uri": "https://localhost:8080/"
        },
        "id": "ldaUi4xjycgh",
        "outputId": "61e8e22b-3307-4dca-df48-b0595e75c644"
      },
      "source": [
        "for i in range(1, 101):\n",
        "    print('Fizz' * (i % 3 == 0) + 'Buzz' * (i % 5 == 0) or i, end=' ')\n",
        "    if (i % 10 == 0):\n",
        "        print()"
      ],
      "execution_count": 9,
      "outputs": [
        {
          "output_type": "stream",
          "text": [
            "1 2 Fizz 4 Buzz Fizz 7 8 Fizz Buzz \n",
            "11 Fizz 13 14 FizzBuzz 16 17 Fizz 19 Buzz \n",
            "Fizz 22 23 Fizz Buzz 26 Fizz 28 29 FizzBuzz \n",
            "31 32 Fizz 34 Buzz Fizz 37 38 Fizz Buzz \n",
            "41 Fizz 43 44 FizzBuzz 46 47 Fizz 49 Buzz \n",
            "Fizz 52 53 Fizz Buzz 56 Fizz 58 59 FizzBuzz \n",
            "61 62 Fizz 64 Buzz Fizz 67 68 Fizz Buzz \n",
            "71 Fizz 73 74 FizzBuzz 76 77 Fizz 79 Buzz \n",
            "Fizz 82 83 Fizz Buzz 86 Fizz 88 89 FizzBuzz \n",
            "91 92 Fizz 94 Buzz Fizz 97 98 Fizz Buzz \n"
          ],
          "name": "stdout"
        }
      ]
    },
    {
      "cell_type": "markdown",
      "metadata": {
        "id": "CCYJCQO8z8di"
      },
      "source": [
        "## 16.3 시퀀스 객체 반복"
      ]
    },
    {
      "cell_type": "code",
      "metadata": {
        "colab": {
          "base_uri": "https://localhost:8080/"
        },
        "id": "nhB0U0W9z1wZ",
        "outputId": "e69a5f7c-595e-49f4-91e5-007758d858e9"
      },
      "source": [
        "fruits = ['apple', 'banana', 'cherry']\n",
        "for element in fruits:\n",
        "    print(element)"
      ],
      "execution_count": 10,
      "outputs": [
        {
          "output_type": "stream",
          "text": [
            "apple\n",
            "banana\n",
            "cherry\n"
          ],
          "name": "stdout"
        }
      ]
    },
    {
      "cell_type": "code",
      "metadata": {
        "colab": {
          "base_uri": "https://localhost:8080/"
        },
        "id": "D5hQkDd_0RHx",
        "outputId": "b2992895-3e47-4c31-ccc6-928f1cfd6289"
      },
      "source": [
        "fruit_list = ['apple', 'banana', 'cherry']\n",
        "for fruit in fruit_list:\n",
        "    print(fruit)"
      ],
      "execution_count": 12,
      "outputs": [
        {
          "output_type": "stream",
          "text": [
            "apple\n",
            "banana\n",
            "cherry\n"
          ],
          "name": "stdout"
        }
      ]
    },
    {
      "cell_type": "code",
      "metadata": {
        "colab": {
          "base_uri": "https://localhost:8080/"
        },
        "id": "dklCouQ70nrB",
        "outputId": "76fddc6e-ffdb-4e41-eb7b-7b3e5f5f19fb"
      },
      "source": [
        "for letter in 'Python':\n",
        "    print(letter, end='')"
      ],
      "execution_count": 15,
      "outputs": [
        {
          "output_type": "stream",
          "text": [
            "Python"
          ],
          "name": "stdout"
        }
      ]
    },
    {
      "cell_type": "code",
      "metadata": {
        "colab": {
          "base_uri": "https://localhost:8080/"
        },
        "id": "P0jSNd0v2dYk",
        "outputId": "ac1b4578-80c3-4249-ef6b-e7925c5d90d4"
      },
      "source": [
        "for letter in reversed('Python'):\n",
        "    print(letter, end = ' ')"
      ],
      "execution_count": 16,
      "outputs": [
        {
          "output_type": "stream",
          "text": [
            "n o h t y P "
          ],
          "name": "stdout"
        }
      ]
    },
    {
      "cell_type": "code",
      "metadata": {
        "colab": {
          "base_uri": "https://localhost:8080/"
        },
        "id": "o1CkvmO62yYZ",
        "outputId": "78d51215-dbc9-4d8f-8101-60df787b03b0"
      },
      "source": [
        "for number in (10, 20, 30):\n",
        "    print(number)"
      ],
      "execution_count": 17,
      "outputs": [
        {
          "output_type": "stream",
          "text": [
            "10\n",
            "20\n",
            "30\n"
          ],
          "name": "stdout"
        }
      ]
    },
    {
      "cell_type": "markdown",
      "metadata": {
        "id": "U4e_-fJd3ngq"
      },
      "source": [
        "### Perfect Number\n",
        "- 자기자신을 제외한 약수의 합이 자기자신과 같은 수\n",
        "- 6의 약수 : 1, 2, 3, 6\n",
        "- 6 = 1 + 2 + 3\n",
        "- 10000이하의 자연수 중에서는 4개 존재"
      ]
    },
    {
      "cell_type": "code",
      "metadata": {
        "colab": {
          "base_uri": "https://localhost:8080/"
        },
        "id": "xTrFlJH93fDh",
        "outputId": "e8052578-561f-4778-af9a-4fa255dfbf9e"
      },
      "source": [
        "for i in range(2, 11):\n",
        "    for k in range (1, i):\n",
        "        if i % k == 0:\n",
        "            print(f'{k}은/는 {i}의 약수')"
      ],
      "execution_count": 20,
      "outputs": [
        {
          "output_type": "stream",
          "text": [
            "1은/는 2의 약수\n",
            "1은/는 3의 약수\n",
            "1은/는 4의 약수\n",
            "2은/는 4의 약수\n",
            "1은/는 5의 약수\n",
            "1은/는 6의 약수\n",
            "2은/는 6의 약수\n",
            "3은/는 6의 약수\n",
            "1은/는 7의 약수\n",
            "1은/는 8의 약수\n",
            "2은/는 8의 약수\n",
            "4은/는 8의 약수\n",
            "1은/는 9의 약수\n",
            "3은/는 9의 약수\n",
            "1은/는 10의 약수\n",
            "2은/는 10의 약수\n",
            "5은/는 10의 약수\n"
          ],
          "name": "stdout"
        }
      ]
    },
    {
      "cell_type": "code",
      "metadata": {
        "colab": {
          "base_uri": "https://localhost:8080/"
        },
        "id": "XffOnsHrAKaX",
        "outputId": "9c99b9cb-1532-4336-e776-26d967149e8f"
      },
      "source": [
        "for i in range(2, 10001):\n",
        "    sum_of_divisor = 0\n",
        "    for k in range(1, i):\n",
        "        if i % k == 0:\n",
        "            sum_of_divisor += k\n",
        "    if i == sum_of_divisor:\n",
        "        print(i)"
      ],
      "execution_count": 32,
      "outputs": [
        {
          "output_type": "stream",
          "text": [
            "6\n",
            "28\n",
            "496\n",
            "8128\n"
          ],
          "name": "stdout"
        }
      ]
    },
    {
      "cell_type": "code",
      "metadata": {
        "colab": {
          "base_uri": "https://localhost:8080/"
        },
        "id": "AdnWZ3kYATCU",
        "outputId": "3b871665-2192-45f6-a25d-f8beddbbec82"
      },
      "source": [
        "perfect_numbers = []\n",
        "for i in range(2, 10001):\n",
        "    divisor_list = []\n",
        "    for k in range(1, i):\n",
        "        if i % k == 0:\n",
        "            divisor_list.append(k)\n",
        "\n",
        "    if i == sum(divisor_list):\n",
        "        perfect_numbers.append(i)\n",
        "\n",
        "print(perfect_numbers)"
      ],
      "execution_count": 1,
      "outputs": [
        {
          "output_type": "stream",
          "text": [
            "[6, 28, 496, 8128]\n"
          ],
          "name": "stdout"
        }
      ]
    },
    {
      "cell_type": "code",
      "metadata": {
        "id": "KcqJ4YL59aY5"
      },
      "source": [
        ""
      ],
      "execution_count": null,
      "outputs": []
    }
  ]
}