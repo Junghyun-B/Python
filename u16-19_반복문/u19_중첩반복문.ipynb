{
  "nbformat": 4,
  "nbformat_minor": 0,
  "metadata": {
    "colab": {
      "name": "u19_중첩반복문.ipynb",
      "provenance": [],
      "collapsed_sections": []
    },
    "kernelspec": {
      "name": "python3",
      "display_name": "Python 3"
    },
    "language_info": {
      "name": "python"
    }
  },
  "cells": [
    {
      "cell_type": "markdown",
      "metadata": {
        "id": "OVgkskxJa9NS"
      },
      "source": [
        "# Unit 19. 중첩 반복문"
      ]
    },
    {
      "cell_type": "markdown",
      "metadata": {
        "id": "56A_LlgGbWFp"
      },
      "source": [
        "## 19.1 중첩(Nested) for loop"
      ]
    },
    {
      "cell_type": "code",
      "metadata": {
        "colab": {
          "base_uri": "https://localhost:8080/"
        },
        "id": "9Nz2HfqXI5bD",
        "outputId": "f352c1b9-0edb-4abb-9c8e-f31e1bfe694a"
      },
      "source": [
        "for i in range(1, 6):\n",
        "    for k in range(10, 60, 10):\n",
        "        print(k, end = ' ')\n",
        "    print(i)"
      ],
      "execution_count": 2,
      "outputs": [
        {
          "output_type": "stream",
          "text": [
            "10 20 30 40 50 1\n",
            "10 20 30 40 50 2\n",
            "10 20 30 40 50 3\n",
            "10 20 30 40 50 4\n",
            "10 20 30 40 50 5\n"
          ],
          "name": "stdout"
        }
      ]
    },
    {
      "cell_type": "markdown",
      "metadata": {
        "id": "mRBlRXJFcvos"
      },
      "source": [
        "## 19.2 별 사각형"
      ]
    },
    {
      "cell_type": "code",
      "metadata": {
        "colab": {
          "base_uri": "https://localhost:8080/"
        },
        "id": "jvxIa65qca01",
        "outputId": "60c6bd29-a0f4-48ab-db56-7c4be393257a"
      },
      "source": [
        "for i in range(5):\n",
        "    for _ in range(5):\n",
        "        print('*', end = '')\n",
        "    print()"
      ],
      "execution_count": 4,
      "outputs": [
        {
          "output_type": "stream",
          "text": [
            "*****\n",
            "*****\n",
            "*****\n",
            "*****\n",
            "*****\n"
          ],
          "name": "stdout"
        }
      ]
    },
    {
      "cell_type": "code",
      "metadata": {
        "colab": {
          "base_uri": "https://localhost:8080/"
        },
        "id": "XEkEIZTmdBF4",
        "outputId": "9295505e-9e42-4c25-c0e0-e1cfc32ea7fc"
      },
      "source": [
        "# 평행사변형\n",
        "for i in range(4):\n",
        "    for _ in range(0, i):\n",
        "        print(' ', end = '')\n",
        "    for _ in range(5):\n",
        "        print('*', end = '')\n",
        "    print()"
      ],
      "execution_count": 5,
      "outputs": [
        {
          "output_type": "stream",
          "text": [
            "*****\n",
            " *****\n",
            "  *****\n",
            "   *****\n"
          ],
          "name": "stdout"
        }
      ]
    },
    {
      "cell_type": "code",
      "metadata": {
        "id": "sFcROErNefki"
      },
      "source": [
        "for i in range(0, 0):\n",
        "    print('*')"
      ],
      "execution_count": 6,
      "outputs": []
    },
    {
      "cell_type": "code",
      "metadata": {
        "colab": {
          "base_uri": "https://localhost:8080/"
        },
        "id": "3x4TiDF8ezkf",
        "outputId": "2e51c860-ab3b-452f-d019-5eac51fe876c"
      },
      "source": [
        "for i in range(4):\n",
        "    print(' ' * i, '*' * 5, sep = '')"
      ],
      "execution_count": 7,
      "outputs": [
        {
          "output_type": "stream",
          "text": [
            "*****\n",
            " *****\n",
            "  *****\n",
            "   *****\n"
          ],
          "name": "stdout"
        }
      ]
    },
    {
      "cell_type": "markdown",
      "metadata": {
        "id": "EKE9gcmTfSO_"
      },
      "source": [
        "## 19.3 계단식 별 모양"
      ]
    },
    {
      "cell_type": "code",
      "metadata": {
        "colab": {
          "base_uri": "https://localhost:8080/"
        },
        "id": "iaA9UXRYfM9A",
        "outputId": "e8e50694-1ed0-4eb4-85ca-fcd6a16ad15a"
      },
      "source": [
        "for i in range(5):\n",
        "    for _ in range(i + 1):\n",
        "        print('*', end = '')\n",
        "    print()"
      ],
      "execution_count": 9,
      "outputs": [
        {
          "output_type": "stream",
          "text": [
            "*\n",
            "**\n",
            "***\n",
            "****\n",
            "*****\n"
          ],
          "name": "stdout"
        }
      ]
    },
    {
      "cell_type": "code",
      "metadata": {
        "colab": {
          "base_uri": "https://localhost:8080/"
        },
        "id": "pnndMnvpg8R5",
        "outputId": "e8f5727e-8cab-4677-997c-275db7d50f2c"
      },
      "source": [
        "for i in range(5):\n",
        "    print('*' * (i + 1))"
      ],
      "execution_count": 12,
      "outputs": [
        {
          "output_type": "stream",
          "text": [
            "*\n",
            "**\n",
            "***\n",
            "****\n",
            "*****\n"
          ],
          "name": "stdout"
        }
      ]
    },
    {
      "cell_type": "code",
      "metadata": {
        "colab": {
          "base_uri": "https://localhost:8080/"
        },
        "id": "iIzI8aYDf4Ny",
        "outputId": "71328045-95f5-4eb1-dfe3-22a6a3237e7d"
      },
      "source": [
        "for i in range(5):\n",
        "    for _ in range(i):\n",
        "        print(' ', end ='')\n",
        "    for _ in range(5 - i):\n",
        "        print('*', end = '')\n",
        "    print()"
      ],
      "execution_count": 10,
      "outputs": [
        {
          "output_type": "stream",
          "text": [
            "*****\n",
            " ****\n",
            "  ***\n",
            "   **\n",
            "    *\n"
          ],
          "name": "stdout"
        }
      ]
    },
    {
      "cell_type": "code",
      "metadata": {
        "colab": {
          "base_uri": "https://localhost:8080/"
        },
        "id": "v_A3yjaCgs0G",
        "outputId": "637afae9-bcec-40e9-f5f3-0a1ae3009c98"
      },
      "source": [
        "for i in range(5):\n",
        "    print(' ' * i, '*' * (5 - i), sep = '')"
      ],
      "execution_count": 13,
      "outputs": [
        {
          "output_type": "stream",
          "text": [
            "*****\n",
            " ****\n",
            "  ***\n",
            "   **\n",
            "    *\n"
          ],
          "name": "stdout"
        }
      ]
    },
    {
      "cell_type": "markdown",
      "metadata": {
        "id": "lxjc8cW5iqIh"
      },
      "source": [
        "### Diamond 그리기"
      ]
    },
    {
      "cell_type": "code",
      "metadata": {
        "colab": {
          "base_uri": "https://localhost:8080/"
        },
        "id": "lpdxkg_UhZvN",
        "outputId": "d7f289f9-5731-49fe-9c81-3b4cdc5a38f7"
      },
      "source": [
        "for i in range(5):\n",
        "    for _ in range(4 - i):\n",
        "        print(' ', end = '')\n",
        "    for _ in range(2 * i + 1):\n",
        "        print('*', end = '')\n",
        "    print()\n",
        "for i in range(4):\n",
        "    for _ in range(i + 1):\n",
        "        print(' ', end = '')\n",
        "    for _ in range(2 * (4 - i) - 1):\n",
        "        print('*', end = '')\n",
        "    print()"
      ],
      "execution_count": 17,
      "outputs": [
        {
          "output_type": "stream",
          "text": [
            "    *\n",
            "   ***\n",
            "  *****\n",
            " *******\n",
            "*********\n",
            " *******\n",
            "  *****\n",
            "   ***\n",
            "    *\n"
          ],
          "name": "stdout"
        }
      ]
    },
    {
      "cell_type": "code",
      "metadata": {
        "colab": {
          "base_uri": "https://localhost:8080/"
        },
        "id": "nMYNRmCyjo5V",
        "outputId": "eda3eff4-6990-44fa-90dc-f6d96ed8babc"
      },
      "source": [
        "for i in range(5):\n",
        "    print(' ' * (4 - i), '*' * (2 * i + 1), sep = '')\n",
        "for i in range(4):\n",
        "    print(' ' * (i + 1), '*' * (2 * (4 - i) - 1), sep = '')"
      ],
      "execution_count": 21,
      "outputs": [
        {
          "output_type": "stream",
          "text": [
            "    *\n",
            "   ***\n",
            "  *****\n",
            " *******\n",
            "*********\n",
            " *******\n",
            "  *****\n",
            "   ***\n",
            "    *\n"
          ],
          "name": "stdout"
        }
      ]
    },
    {
      "cell_type": "code",
      "metadata": {
        "id": "XgC5wV88nJSy"
      },
      "source": [
        ""
      ],
      "execution_count": null,
      "outputs": []
    }
  ]
}