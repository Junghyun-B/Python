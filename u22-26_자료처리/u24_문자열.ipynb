{
  "nbformat": 4,
  "nbformat_minor": 0,
  "metadata": {
    "colab": {
      "name": "u24_문자열.ipynb",
      "provenance": [],
      "collapsed_sections": []
    },
    "kernelspec": {
      "name": "python3",
      "display_name": "Python 3"
    },
    "language_info": {
      "name": "python"
    }
  },
  "cells": [
    {
      "cell_type": "markdown",
      "metadata": {
        "id": "8Um2qjuRAqyW"
      },
      "source": [
        "# Unit 24. 문자열"
      ]
    },
    {
      "cell_type": "markdown",
      "metadata": {
        "id": "hP2raSs5Ayf2"
      },
      "source": [
        "## 24.1 문자열 조작"
      ]
    },
    {
      "cell_type": "markdown",
      "metadata": {
        "id": "r_IECt_MA34E"
      },
      "source": [
        "### 문자열 바꾸기(Replace)"
      ]
    },
    {
      "cell_type": "code",
      "metadata": {
        "colab": {
          "base_uri": "https://localhost:8080/",
          "height": 35
        },
        "id": "04yR559cAp2F",
        "outputId": "ffca2179-bd62-4c0e-ab18-393c6021da61"
      },
      "source": [
        "# 바뀐 결과가 s에 저장되지 않으니 주의할 것\n",
        "s = 'Hello, world!'\n",
        "s.replace('world', 'python')"
      ],
      "execution_count": 1,
      "outputs": [
        {
          "output_type": "execute_result",
          "data": {
            "application/vnd.google.colaboratory.intrinsic+json": {
              "type": "string"
            },
            "text/plain": [
              "'Hello, python!'"
            ]
          },
          "metadata": {
            "tags": []
          },
          "execution_count": 1
        }
      ]
    },
    {
      "cell_type": "code",
      "metadata": {
        "colab": {
          "base_uri": "https://localhost:8080/",
          "height": 35
        },
        "id": "jgvoQgatBMWj",
        "outputId": "f8ed462b-c336-4fce-cd37-91edb4cdeaf8"
      },
      "source": [
        "s"
      ],
      "execution_count": 2,
      "outputs": [
        {
          "output_type": "execute_result",
          "data": {
            "application/vnd.google.colaboratory.intrinsic+json": {
              "type": "string"
            },
            "text/plain": [
              "'Hello, world!'"
            ]
          },
          "metadata": {
            "tags": []
          },
          "execution_count": 2
        }
      ]
    },
    {
      "cell_type": "code",
      "metadata": {
        "colab": {
          "base_uri": "https://localhost:8080/",
          "height": 35
        },
        "id": "uPGuCL4UBQ5c",
        "outputId": "5437a457-e449-444f-e86d-ee9ab677c8cc"
      },
      "source": [
        "s = s.replace('world', 'python')\n",
        "s"
      ],
      "execution_count": 3,
      "outputs": [
        {
          "output_type": "execute_result",
          "data": {
            "application/vnd.google.colaboratory.intrinsic+json": {
              "type": "string"
            },
            "text/plain": [
              "'Hello, python!'"
            ]
          },
          "metadata": {
            "tags": []
          },
          "execution_count": 3
        }
      ]
    },
    {
      "cell_type": "markdown",
      "metadata": {
        "id": "cEafygURCYbd"
      },
      "source": [
        "### 문자열 분리(Split)"
      ]
    },
    {
      "cell_type": "code",
      "metadata": {
        "colab": {
          "base_uri": "https://localhost:8080/"
        },
        "id": "aLa9MDmBB1ao",
        "outputId": "064bdedc-1d59-4347-cf9c-a813629154b4"
      },
      "source": [
        "s = 'apple, pear, grape, pineapple'\n",
        "s.split()"
      ],
      "execution_count": 4,
      "outputs": [
        {
          "output_type": "execute_result",
          "data": {
            "text/plain": [
              "['apple,', 'pear,', 'grape,', 'pineapple']"
            ]
          },
          "metadata": {
            "tags": []
          },
          "execution_count": 4
        }
      ]
    },
    {
      "cell_type": "code",
      "metadata": {
        "colab": {
          "base_uri": "https://localhost:8080/"
        },
        "id": "KgaiQqleCsbn",
        "outputId": "82dcbe36-f765-44e7-c27d-6681c9ae88b2"
      },
      "source": [
        "b = s.split(', ')\n",
        "b"
      ],
      "execution_count": 6,
      "outputs": [
        {
          "output_type": "execute_result",
          "data": {
            "text/plain": [
              "['apple', 'pear', 'grape', 'pineapple']"
            ]
          },
          "metadata": {
            "tags": []
          },
          "execution_count": 6
        }
      ]
    },
    {
      "cell_type": "markdown",
      "metadata": {
        "id": "TWAf3y3qDLwB"
      },
      "source": [
        "### 문자열 연결(Join)"
      ]
    },
    {
      "cell_type": "code",
      "metadata": {
        "colab": {
          "base_uri": "https://localhost:8080/",
          "height": 35
        },
        "id": "qkP8cpTECyaT",
        "outputId": "443f6926-67b8-42d0-9daa-caa5d6212ab0"
      },
      "source": [
        "' '.join(b)"
      ],
      "execution_count": 8,
      "outputs": [
        {
          "output_type": "execute_result",
          "data": {
            "application/vnd.google.colaboratory.intrinsic+json": {
              "type": "string"
            },
            "text/plain": [
              "'apple pear grape pineapple'"
            ]
          },
          "metadata": {
            "tags": []
          },
          "execution_count": 8
        }
      ]
    },
    {
      "cell_type": "code",
      "metadata": {
        "colab": {
          "base_uri": "https://localhost:8080/",
          "height": 35
        },
        "id": "NnWSTtJLDTIz",
        "outputId": "f2985636-fb24-4d04-8bff-f3446e0c791e"
      },
      "source": [
        "'> '.join(b)"
      ],
      "execution_count": 10,
      "outputs": [
        {
          "output_type": "execute_result",
          "data": {
            "application/vnd.google.colaboratory.intrinsic+json": {
              "type": "string"
            },
            "text/plain": [
              "'apple> pear> grape> pineapple'"
            ]
          },
          "metadata": {
            "tags": []
          },
          "execution_count": 10
        }
      ]
    },
    {
      "cell_type": "code",
      "metadata": {
        "colab": {
          "base_uri": "https://localhost:8080/",
          "height": 35
        },
        "id": "vuDFvCXZDZM4",
        "outputId": "f1a3dea0-6fa7-4d92-b460-961be3dfa998"
      },
      "source": [
        "' - '.join(s.split(', '))"
      ],
      "execution_count": 11,
      "outputs": [
        {
          "output_type": "execute_result",
          "data": {
            "application/vnd.google.colaboratory.intrinsic+json": {
              "type": "string"
            },
            "text/plain": [
              "'apple - pear - grape - pineapple'"
            ]
          },
          "metadata": {
            "tags": []
          },
          "execution_count": 11
        }
      ]
    },
    {
      "cell_type": "markdown",
      "metadata": {
        "id": "q47mlzzvD6NR"
      },
      "source": [
        "### 대소문자 변경(Upper, Lower)"
      ]
    },
    {
      "cell_type": "code",
      "metadata": {
        "colab": {
          "base_uri": "https://localhost:8080/",
          "height": 35
        },
        "id": "9BUqZAD9DlGf",
        "outputId": "bfcba3da-bc57-4d21-9aaa-7fc99228239d"
      },
      "source": [
        "'Python'.upper()"
      ],
      "execution_count": 15,
      "outputs": [
        {
          "output_type": "execute_result",
          "data": {
            "application/vnd.google.colaboratory.intrinsic+json": {
              "type": "string"
            },
            "text/plain": [
              "'PYTHON'"
            ]
          },
          "metadata": {
            "tags": []
          },
          "execution_count": 15
        }
      ]
    },
    {
      "cell_type": "code",
      "metadata": {
        "colab": {
          "base_uri": "https://localhost:8080/",
          "height": 35
        },
        "id": "A758fag1EP2u",
        "outputId": "39f44021-8e3c-46b6-9031-01a6d7ca3093"
      },
      "source": [
        "'Python'.lower()"
      ],
      "execution_count": 16,
      "outputs": [
        {
          "output_type": "execute_result",
          "data": {
            "application/vnd.google.colaboratory.intrinsic+json": {
              "type": "string"
            },
            "text/plain": [
              "'python'"
            ]
          },
          "metadata": {
            "tags": []
          },
          "execution_count": 16
        }
      ]
    },
    {
      "cell_type": "code",
      "metadata": {
        "colab": {
          "base_uri": "https://localhost:8080/",
          "height": 35
        },
        "id": "fmD58qjBEG_a",
        "outputId": "b00ffb67-1442-4ed1-989d-432f9a8c7369"
      },
      "source": [
        "# method chaining\n",
        "'Python'.upper().lower()"
      ],
      "execution_count": 17,
      "outputs": [
        {
          "output_type": "execute_result",
          "data": {
            "application/vnd.google.colaboratory.intrinsic+json": {
              "type": "string"
            },
            "text/plain": [
              "'python'"
            ]
          },
          "metadata": {
            "tags": []
          },
          "execution_count": 17
        }
      ]
    },
    {
      "cell_type": "markdown",
      "metadata": {
        "id": "2Aj1tlNJE46t"
      },
      "source": [
        "### 공백없애기(Strip)"
      ]
    },
    {
      "cell_type": "code",
      "metadata": {
        "colab": {
          "base_uri": "https://localhost:8080/",
          "height": 35
        },
        "id": "ggRxM_5MEM--",
        "outputId": "c6d90823-9a5f-4f1c-e412-f7aa57d2be7a"
      },
      "source": [
        "p = '   Python   '\n",
        "p.lstrip()"
      ],
      "execution_count": 21,
      "outputs": [
        {
          "output_type": "execute_result",
          "data": {
            "application/vnd.google.colaboratory.intrinsic+json": {
              "type": "string"
            },
            "text/plain": [
              "'Python   '"
            ]
          },
          "metadata": {
            "tags": []
          },
          "execution_count": 21
        }
      ]
    },
    {
      "cell_type": "code",
      "metadata": {
        "colab": {
          "base_uri": "https://localhost:8080/",
          "height": 35
        },
        "id": "Y1LOaD5CFBqz",
        "outputId": "025cc7b3-ed9c-473e-a3b1-920c5275f1a8"
      },
      "source": [
        "p.rstrip()"
      ],
      "execution_count": 22,
      "outputs": [
        {
          "output_type": "execute_result",
          "data": {
            "application/vnd.google.colaboratory.intrinsic+json": {
              "type": "string"
            },
            "text/plain": [
              "'   Python'"
            ]
          },
          "metadata": {
            "tags": []
          },
          "execution_count": 22
        }
      ]
    },
    {
      "cell_type": "code",
      "metadata": {
        "colab": {
          "base_uri": "https://localhost:8080/",
          "height": 35
        },
        "id": "S5E5R6neFDdf",
        "outputId": "6b6eef16-ae24-4ad5-b433-7a9f78fc205b"
      },
      "source": [
        "p.strip()"
      ],
      "execution_count": 23,
      "outputs": [
        {
          "output_type": "execute_result",
          "data": {
            "application/vnd.google.colaboratory.intrinsic+json": {
              "type": "string"
            },
            "text/plain": [
              "'Python'"
            ]
          },
          "metadata": {
            "tags": []
          },
          "execution_count": 23
        }
      ]
    },
    {
      "cell_type": "code",
      "metadata": {
        "colab": {
          "base_uri": "https://localhost:8080/",
          "height": 35
        },
        "id": "iDWXvMaQFG6A",
        "outputId": "c7a10379-338b-4e3a-cbbe-95c65051670c"
      },
      "source": [
        "p.strip().lower()"
      ],
      "execution_count": 24,
      "outputs": [
        {
          "output_type": "execute_result",
          "data": {
            "application/vnd.google.colaboratory.intrinsic+json": {
              "type": "string"
            },
            "text/plain": [
              "'python'"
            ]
          },
          "metadata": {
            "tags": []
          },
          "execution_count": 24
        }
      ]
    },
    {
      "cell_type": "code",
      "metadata": {
        "colab": {
          "base_uri": "https://localhost:8080/",
          "height": 35
        },
        "id": "v180gEqTFK7p",
        "outputId": "e7afbce2-339f-495a-c267-c6766a3e3228"
      },
      "source": [
        "p = '\\n\\t  Python  \\t\\n'\n",
        "p.lstrip('\\n\\t ')"
      ],
      "execution_count": 30,
      "outputs": [
        {
          "output_type": "execute_result",
          "data": {
            "application/vnd.google.colaboratory.intrinsic+json": {
              "type": "string"
            },
            "text/plain": [
              "'Python  \\t\\n'"
            ]
          },
          "metadata": {
            "tags": []
          },
          "execution_count": 30
        }
      ]
    },
    {
      "cell_type": "code",
      "metadata": {
        "colab": {
          "base_uri": "https://localhost:8080/",
          "height": 35
        },
        "id": "d7cYinAaFj9m",
        "outputId": "55795b09-e46b-4c6e-add0-68ac76ff0f1f"
      },
      "source": [
        "p.rstrip('\\n\\t')"
      ],
      "execution_count": 31,
      "outputs": [
        {
          "output_type": "execute_result",
          "data": {
            "application/vnd.google.colaboratory.intrinsic+json": {
              "type": "string"
            },
            "text/plain": [
              "'\\n\\t  Python  '"
            ]
          },
          "metadata": {
            "tags": []
          },
          "execution_count": 31
        }
      ]
    },
    {
      "cell_type": "code",
      "metadata": {
        "colab": {
          "base_uri": "https://localhost:8080/",
          "height": 35
        },
        "id": "jbdw1X5IFrnT",
        "outputId": "0563ac2d-ec8b-4fee-ab16-386edb453469"
      },
      "source": [
        "p.strip('\\n\\t ')"
      ],
      "execution_count": 32,
      "outputs": [
        {
          "output_type": "execute_result",
          "data": {
            "application/vnd.google.colaboratory.intrinsic+json": {
              "type": "string"
            },
            "text/plain": [
              "'Python'"
            ]
          },
          "metadata": {
            "tags": []
          },
          "execution_count": 32
        }
      ]
    },
    {
      "cell_type": "code",
      "metadata": {
        "colab": {
          "base_uri": "https://localhost:8080/",
          "height": 35
        },
        "id": "7LLrVbfCF4PF",
        "outputId": "6a315460-4ef6-4c69-948e-0dfb970524cc"
      },
      "source": [
        "from string import punctuation\n",
        "punctuation"
      ],
      "execution_count": 33,
      "outputs": [
        {
          "output_type": "execute_result",
          "data": {
            "application/vnd.google.colaboratory.intrinsic+json": {
              "type": "string"
            },
            "text/plain": [
              "'!\"#$%&\\'()*+,-./:;<=>?@[\\\\]^_`{|}~'"
            ]
          },
          "metadata": {
            "tags": []
          },
          "execution_count": 33
        }
      ]
    },
    {
      "cell_type": "markdown",
      "metadata": {
        "id": "F2TYRAheGVvJ"
      },
      "source": [
        "### 정렬하기(Justification)"
      ]
    },
    {
      "cell_type": "code",
      "metadata": {
        "colab": {
          "base_uri": "https://localhost:8080/",
          "height": 35
        },
        "id": "92_7LFEaGEL9",
        "outputId": "b2666819-8316-4e9f-8b2d-85f86910d52d"
      },
      "source": [
        "'python'.ljust(10)"
      ],
      "execution_count": 34,
      "outputs": [
        {
          "output_type": "execute_result",
          "data": {
            "application/vnd.google.colaboratory.intrinsic+json": {
              "type": "string"
            },
            "text/plain": [
              "'python    '"
            ]
          },
          "metadata": {
            "tags": []
          },
          "execution_count": 34
        }
      ]
    },
    {
      "cell_type": "code",
      "metadata": {
        "colab": {
          "base_uri": "https://localhost:8080/",
          "height": 35
        },
        "id": "cEwvErxwGkou",
        "outputId": "d1db1665-9bcd-42b5-f57b-4a7ce0063470"
      },
      "source": [
        "'python'.rjust(10)"
      ],
      "execution_count": 35,
      "outputs": [
        {
          "output_type": "execute_result",
          "data": {
            "application/vnd.google.colaboratory.intrinsic+json": {
              "type": "string"
            },
            "text/plain": [
              "'    python'"
            ]
          },
          "metadata": {
            "tags": []
          },
          "execution_count": 35
        }
      ]
    },
    {
      "cell_type": "code",
      "metadata": {
        "colab": {
          "base_uri": "https://localhost:8080/",
          "height": 35
        },
        "id": "O77YgsfdGnzQ",
        "outputId": "bde101c5-6fbf-4210-cd89-5c47de8707a2"
      },
      "source": [
        "'python'.center(10)"
      ],
      "execution_count": 36,
      "outputs": [
        {
          "output_type": "execute_result",
          "data": {
            "application/vnd.google.colaboratory.intrinsic+json": {
              "type": "string"
            },
            "text/plain": [
              "'  python  '"
            ]
          },
          "metadata": {
            "tags": []
          },
          "execution_count": 36
        }
      ]
    },
    {
      "cell_type": "markdown",
      "metadata": {
        "id": "NRNIzckRJrby"
      },
      "source": [
        "### Method Chaining"
      ]
    },
    {
      "cell_type": "code",
      "metadata": {
        "colab": {
          "base_uri": "https://localhost:8080/",
          "height": 35
        },
        "id": "qs5c6ZvFGwKv",
        "outputId": "bbcc37f1-df43-44d4-982c-f2d2bec30a05"
      },
      "source": [
        "'python'.rjust(10).upper()"
      ],
      "execution_count": 37,
      "outputs": [
        {
          "output_type": "execute_result",
          "data": {
            "application/vnd.google.colaboratory.intrinsic+json": {
              "type": "string"
            },
            "text/plain": [
              "'    PYTHON'"
            ]
          },
          "metadata": {
            "tags": []
          },
          "execution_count": 37
        }
      ]
    },
    {
      "cell_type": "markdown",
      "metadata": {
        "id": "T7t97Qx1KFuI"
      },
      "source": [
        "### 문자열 위치 찾기(Find)"
      ]
    },
    {
      "cell_type": "code",
      "metadata": {
        "colab": {
          "base_uri": "https://localhost:8080/"
        },
        "id": "Ke_xE_reJ2Ao",
        "outputId": "a78883ea-2bd7-4925-ef6e-e1cbeb16fe72"
      },
      "source": [
        "f = 'apple pineapple'\n",
        "f.find('ap')"
      ],
      "execution_count": 39,
      "outputs": [
        {
          "output_type": "execute_result",
          "data": {
            "text/plain": [
              "0"
            ]
          },
          "metadata": {
            "tags": []
          },
          "execution_count": 39
        }
      ]
    },
    {
      "cell_type": "code",
      "metadata": {
        "colab": {
          "base_uri": "https://localhost:8080/"
        },
        "id": "xht0vHMHKScp",
        "outputId": "12adc319-ca11-4b7c-d34f-51898a9eb46b"
      },
      "source": [
        "f.find('ba')"
      ],
      "execution_count": 40,
      "outputs": [
        {
          "output_type": "execute_result",
          "data": {
            "text/plain": [
              "-1"
            ]
          },
          "metadata": {
            "tags": []
          },
          "execution_count": 40
        }
      ]
    },
    {
      "cell_type": "code",
      "metadata": {
        "colab": {
          "base_uri": "https://localhost:8080/"
        },
        "id": "i43KwSwUKZYR",
        "outputId": "f92a3fca-8db4-4e82-8ac9-7fd35ec41fe8"
      },
      "source": [
        "f.find('pi')"
      ],
      "execution_count": 41,
      "outputs": [
        {
          "output_type": "execute_result",
          "data": {
            "text/plain": [
              "6"
            ]
          },
          "metadata": {
            "tags": []
          },
          "execution_count": 41
        }
      ]
    },
    {
      "cell_type": "code",
      "metadata": {
        "colab": {
          "base_uri": "https://localhost:8080/"
        },
        "id": "PcGDmQoxKoQJ",
        "outputId": "72014a06-1561-46f7-ad3a-14b61557f2e2"
      },
      "source": [
        "seek = 'fi'\n",
        "if f.find(seek) >= 0:\n",
        "    print('찾고자 하는 문자열이 있는 경우')\n",
        "else:\n",
        "    print('찾는 문자열이 없는 경우')"
      ],
      "execution_count": 42,
      "outputs": [
        {
          "output_type": "stream",
          "text": [
            "찾는 문자열이 없는 경우\n"
          ],
          "name": "stdout"
        }
      ]
    },
    {
      "cell_type": "code",
      "metadata": {
        "colab": {
          "base_uri": "https://localhost:8080/"
        },
        "id": "H_XvTki6Lauw",
        "outputId": "b9efd88e-3eea-4af1-fb2d-b6b996ec24a8"
      },
      "source": [
        "f.rfind('ap')"
      ],
      "execution_count": 43,
      "outputs": [
        {
          "output_type": "execute_result",
          "data": {
            "text/plain": [
              "10"
            ]
          },
          "metadata": {
            "tags": []
          },
          "execution_count": 43
        }
      ]
    },
    {
      "cell_type": "code",
      "metadata": {
        "colab": {
          "base_uri": "https://localhost:8080/"
        },
        "id": "jbqJY3WpLmeB",
        "outputId": "9747ddf4-38ef-44bb-aed6-418e977751d6"
      },
      "source": [
        "f.index('pi')"
      ],
      "execution_count": 44,
      "outputs": [
        {
          "output_type": "execute_result",
          "data": {
            "text/plain": [
              "6"
            ]
          },
          "metadata": {
            "tags": []
          },
          "execution_count": 44
        }
      ]
    },
    {
      "cell_type": "markdown",
      "metadata": {
        "id": "b-cEGaP_MDWY"
      },
      "source": [
        "### 문자열 개수(Count)"
      ]
    },
    {
      "cell_type": "code",
      "metadata": {
        "colab": {
          "base_uri": "https://localhost:8080/"
        },
        "id": "2GEK0lNtL13o",
        "outputId": "73bbdf07-7a7a-4de9-9ca8-748f8a2f3e34"
      },
      "source": [
        "f.count('ap')"
      ],
      "execution_count": 46,
      "outputs": [
        {
          "output_type": "execute_result",
          "data": {
            "text/plain": [
              "2"
            ]
          },
          "metadata": {
            "tags": []
          },
          "execution_count": 46
        }
      ]
    },
    {
      "cell_type": "markdown",
      "metadata": {
        "id": "1Pdh1NzTOEIl"
      },
      "source": [
        "## 24.2 문자열 서식 지정자"
      ]
    },
    {
      "cell_type": "code",
      "metadata": {
        "colab": {
          "base_uri": "https://localhost:8080/",
          "height": 35
        },
        "id": "ogqfYwsNPE6i",
        "outputId": "fbacacfa-e22e-4ea6-b5a7-088d66667b08"
      },
      "source": [
        "age = 20\n",
        "f'I am {age} old years.'"
      ],
      "execution_count": 48,
      "outputs": [
        {
          "output_type": "execute_result",
          "data": {
            "application/vnd.google.colaboratory.intrinsic+json": {
              "type": "string"
            },
            "text/plain": [
              "'I am 20 old years.'"
            ]
          },
          "metadata": {
            "tags": []
          },
          "execution_count": 48
        }
      ]
    },
    {
      "cell_type": "code",
      "metadata": {
        "colab": {
          "base_uri": "https://localhost:8080/",
          "height": 35
        },
        "id": "IPT0afD2PJ6P",
        "outputId": "fef786b1-2a87-4fb4-d4dd-c2379e3083f1"
      },
      "source": [
        "pi = 3.1415926535\n",
        "f'pi = {pi:.4f}'"
      ],
      "execution_count": 49,
      "outputs": [
        {
          "output_type": "execute_result",
          "data": {
            "application/vnd.google.colaboratory.intrinsic+json": {
              "type": "string"
            },
            "text/plain": [
              "'pi = 3.1416'"
            ]
          },
          "metadata": {
            "tags": []
          },
          "execution_count": 49
        }
      ]
    },
    {
      "cell_type": "code",
      "metadata": {
        "colab": {
          "base_uri": "https://localhost:8080/",
          "height": 35
        },
        "id": "vKca747mPTu-",
        "outputId": "30486811-618b-40d0-8f03-418bd6eea5a5"
      },
      "source": [
        "hour, minute = 9, 5\n",
        "f'{hour:02d}:{minute:02d}'"
      ],
      "execution_count": 50,
      "outputs": [
        {
          "output_type": "execute_result",
          "data": {
            "application/vnd.google.colaboratory.intrinsic+json": {
              "type": "string"
            },
            "text/plain": [
              "'09:05'"
            ]
          },
          "metadata": {
            "tags": []
          },
          "execution_count": 50
        }
      ]
    },
    {
      "cell_type": "code",
      "metadata": {
        "colab": {
          "base_uri": "https://localhost:8080/",
          "height": 35
        },
        "id": "CLjfydyCPz_h",
        "outputId": "f7226340-4506-44e6-adae-8de349ab8f0d"
      },
      "source": [
        "s = 'python'\n",
        "f'{s:10s}-{s.rjust(10)}'"
      ],
      "execution_count": 54,
      "outputs": [
        {
          "output_type": "execute_result",
          "data": {
            "application/vnd.google.colaboratory.intrinsic+json": {
              "type": "string"
            },
            "text/plain": [
              "'python    -    python'"
            ]
          },
          "metadata": {
            "tags": []
          },
          "execution_count": 54
        }
      ]
    },
    {
      "cell_type": "code",
      "metadata": {
        "colab": {
          "base_uri": "https://localhost:8080/",
          "height": 35
        },
        "id": "d0SZaJEwQB4o",
        "outputId": "12a12767-a253-46b1-9b9b-9b7cc025acad"
      },
      "source": [
        "f'{1000:,d}'"
      ],
      "execution_count": 55,
      "outputs": [
        {
          "output_type": "execute_result",
          "data": {
            "application/vnd.google.colaboratory.intrinsic+json": {
              "type": "string"
            },
            "text/plain": [
              "'1,000'"
            ]
          },
          "metadata": {
            "tags": []
          },
          "execution_count": 55
        }
      ]
    },
    {
      "cell_type": "code",
      "metadata": {
        "colab": {
          "base_uri": "https://localhost:8080/",
          "height": 35
        },
        "id": "dhg8twjpQxGy",
        "outputId": "e57056cd-5076-4502-9920-786eadf91fcf"
      },
      "source": [
        "f'b{85:b}, o{85:o}, 0x{85:x}'"
      ],
      "execution_count": 57,
      "outputs": [
        {
          "output_type": "execute_result",
          "data": {
            "application/vnd.google.colaboratory.intrinsic+json": {
              "type": "string"
            },
            "text/plain": [
              "'b1010101, o125, 0x55'"
            ]
          },
          "metadata": {
            "tags": []
          },
          "execution_count": 57
        }
      ]
    },
    {
      "cell_type": "code",
      "metadata": {
        "colab": {
          "base_uri": "https://localhost:8080/"
        },
        "id": "kWvlm2JIm4cR",
        "outputId": "a1c21705-b5e3-4044-a353-da8f43d6c3f1"
      },
      "source": [
        "t = 'apple pie pineapple pine tree'\n",
        "num = t.count('pi')\n",
        "if num >= 2:\n",
        "    index = 0\n",
        "    for _ in range(2):\n",
        "        idx = t.find('pi')\n",
        "        t = t[idx + 1:]\n",
        "        index += idx + 1\n",
        "    print(index - 1)"
      ],
      "execution_count": 59,
      "outputs": [
        {
          "output_type": "stream",
          "text": [
            "10\n"
          ],
          "name": "stdout"
        }
      ]
    }
  ]
}