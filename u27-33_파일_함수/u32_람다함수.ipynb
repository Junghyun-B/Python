{
  "nbformat": 4,
  "nbformat_minor": 0,
  "metadata": {
    "colab": {
      "name": "u32_람다함수.ipynb",
      "provenance": [],
      "collapsed_sections": []
    },
    "kernelspec": {
      "name": "python3",
      "display_name": "Python 3"
    },
    "language_info": {
      "name": "python"
    }
  },
  "cells": [
    {
      "cell_type": "markdown",
      "metadata": {
        "id": "XDJ04ILehBhv"
      },
      "source": [
        "# Unit 32. 람다함수 - 익명(Anonymous) 함수"
      ]
    },
    {
      "cell_type": "code",
      "metadata": {
        "id": "9ceYqdZ_g_77"
      },
      "source": [
        "def plus_ten(x):\n",
        "    return x + 10"
      ],
      "execution_count": 1,
      "outputs": []
    },
    {
      "cell_type": "code",
      "metadata": {
        "colab": {
          "base_uri": "https://localhost:8080/"
        },
        "id": "fqkvyMOEhqi6",
        "outputId": "e42865c1-cf08-4b9a-f830-daa49bc4de11"
      },
      "source": [
        "plus_ten(5)"
      ],
      "execution_count": 2,
      "outputs": [
        {
          "output_type": "execute_result",
          "data": {
            "text/plain": [
              "15"
            ]
          },
          "metadata": {
            "tags": []
          },
          "execution_count": 2
        }
      ]
    },
    {
      "cell_type": "code",
      "metadata": {
        "colab": {
          "base_uri": "https://localhost:8080/"
        },
        "id": "c7rh_UhNhsD2",
        "outputId": "bdc88e05-0610-4cb6-9623-34afe0d81158"
      },
      "source": [
        "plus_ten2 = lambda x: x + 10\n",
        "plus_ten2(5)"
      ],
      "execution_count": 3,
      "outputs": [
        {
          "output_type": "execute_result",
          "data": {
            "text/plain": [
              "15"
            ]
          },
          "metadata": {
            "tags": []
          },
          "execution_count": 3
        }
      ]
    },
    {
      "cell_type": "code",
      "metadata": {
        "colab": {
          "base_uri": "https://localhost:8080/"
        },
        "id": "mlfXSsvfiQYn",
        "outputId": "0dae147a-90e4-4e5c-bf30-a947b47a2bc6"
      },
      "source": [
        "(lambda x: x + 10)(5)"
      ],
      "execution_count": 4,
      "outputs": [
        {
          "output_type": "execute_result",
          "data": {
            "text/plain": [
              "15"
            ]
          },
          "metadata": {
            "tags": []
          },
          "execution_count": 4
        }
      ]
    },
    {
      "cell_type": "code",
      "metadata": {
        "colab": {
          "base_uri": "https://localhost:8080/"
        },
        "id": "rMTn0DIdipgV",
        "outputId": "32f634a9-f360-4780-9858-cdebdb363125"
      },
      "source": [
        "list(map(lambda x: int(x) + 10, input().split()))"
      ],
      "execution_count": 5,
      "outputs": [
        {
          "output_type": "stream",
          "text": [
            "2 5 10\n"
          ],
          "name": "stdout"
        },
        {
          "output_type": "execute_result",
          "data": {
            "text/plain": [
              "[12, 15, 20]"
            ]
          },
          "metadata": {
            "tags": []
          },
          "execution_count": 5
        }
      ]
    },
    {
      "cell_type": "code",
      "metadata": {
        "colab": {
          "base_uri": "https://localhost:8080/"
        },
        "id": "QsbnAZM6jAsT",
        "outputId": "8ef34c73-5f0b-4190-a76e-87d0e3e6bdf9"
      },
      "source": [
        "def plus_ten(x):\n",
        "    return int(x) + 10\n",
        "list(map(plus_ten, input().split()))"
      ],
      "execution_count": 6,
      "outputs": [
        {
          "output_type": "stream",
          "text": [
            "2 5 10\n"
          ],
          "name": "stdout"
        },
        {
          "output_type": "execute_result",
          "data": {
            "text/plain": [
              "[12, 15, 20]"
            ]
          },
          "metadata": {
            "tags": []
          },
          "execution_count": 6
        }
      ]
    },
    {
      "cell_type": "markdown",
      "metadata": {
        "id": "ohBOmD3SkGVV"
      },
      "source": [
        "### 제약사항"
      ]
    },
    {
      "cell_type": "code",
      "metadata": {
        "colab": {
          "base_uri": "https://localhost:8080/",
          "height": 137
        },
        "id": "pBa98NbljXuV",
        "outputId": "227c6f96-0013-45b0-f14f-14a65f2a89ea"
      },
      "source": [
        "# 람다함수에서 변수를 만들 수 없음\n",
        "(lambda x: y = 10; x + y)(3)"
      ],
      "execution_count": 7,
      "outputs": [
        {
          "output_type": "error",
          "ename": "SyntaxError",
          "evalue": "ignored",
          "traceback": [
            "\u001b[0;36m  File \u001b[0;32m\"<ipython-input-7-317c4bb8fe41>\"\u001b[0;36m, line \u001b[0;32m2\u001b[0m\n\u001b[0;31m    (lambda x: y = 10; x + y)(3)\u001b[0m\n\u001b[0m                 ^\u001b[0m\n\u001b[0;31mSyntaxError\u001b[0m\u001b[0;31m:\u001b[0m invalid syntax\n"
          ]
        }
      ]
    },
    {
      "cell_type": "code",
      "metadata": {
        "colab": {
          "base_uri": "https://localhost:8080/"
        },
        "id": "xEAq_e8HkP9R",
        "outputId": "880dac3c-0cd6-40c1-a122-9c393d4de2a5"
      },
      "source": [
        "y = 10\n",
        "(lambda x: x + y)(3)"
      ],
      "execution_count": 8,
      "outputs": [
        {
          "output_type": "execute_result",
          "data": {
            "text/plain": [
              "13"
            ]
          },
          "metadata": {
            "tags": []
          },
          "execution_count": 8
        }
      ]
    },
    {
      "cell_type": "markdown",
      "metadata": {
        "id": "JpLF_GTTkzGd"
      },
      "source": [
        "### 조건부 함수\n",
        "- if를 사용하면 반드시 else 사용\n",
        "- elif는 사용불가"
      ]
    },
    {
      "cell_type": "code",
      "metadata": {
        "colab": {
          "base_uri": "https://localhost:8080/"
        },
        "id": "HX6VaY3tkTnG",
        "outputId": "4b9555b1-88ff-4b36-fa70-d1f41ba22a8d"
      },
      "source": [
        "# 리스트 a에서 3의 배수를 문자열로 변환\n",
        "a = list(range(1, 11))\n",
        "list(map(lambda x: str(x) if x % 3 == 0 else x, a))     # 3항 연산자"
      ],
      "execution_count": 9,
      "outputs": [
        {
          "output_type": "execute_result",
          "data": {
            "text/plain": [
              "[1, 2, '3', 4, 5, '6', 7, 8, '9', 10]"
            ]
          },
          "metadata": {
            "tags": []
          },
          "execution_count": 9
        }
      ]
    },
    {
      "cell_type": "code",
      "metadata": {
        "colab": {
          "base_uri": "https://localhost:8080/"
        },
        "id": "mQOc5gXdlY2o",
        "outputId": "b93d7891-5b35-485e-f976-481c9093a2a7"
      },
      "source": [
        "# 리스트 a에서 3의 배수는 문자열로, 5의 배수는 실수로 변환\n",
        "a = list(range(1, 11))\n",
        "list(map(lambda x: str(x) if x % 3 == 0 else float(x) if x % 5 == 0 else x, a))"
      ],
      "execution_count": 11,
      "outputs": [
        {
          "output_type": "execute_result",
          "data": {
            "text/plain": [
              "[1, 2, '3', 4, 5.0, '6', 7, 8, '9', 10.0]"
            ]
          },
          "metadata": {
            "tags": []
          },
          "execution_count": 11
        }
      ]
    },
    {
      "cell_type": "markdown",
      "metadata": {
        "id": "SdRPs34Xn0Xg"
      },
      "source": [
        "### map에 여러 개의 객체 넣기"
      ]
    },
    {
      "cell_type": "code",
      "metadata": {
        "colab": {
          "base_uri": "https://localhost:8080/"
        },
        "id": "i8mBqOEUn25o",
        "outputId": "f1cb83ac-1af5-4f48-f70a-321d07cbfc04"
      },
      "source": [
        "a = [1, 2, 3, 4, 5]\n",
        "b = [6, 7, 8, 9, 10]\n",
        "list(map(lambda x, y: x * y, a, b))"
      ],
      "execution_count": 12,
      "outputs": [
        {
          "output_type": "execute_result",
          "data": {
            "text/plain": [
              "[6, 14, 24, 36, 50]"
            ]
          },
          "metadata": {
            "tags": []
          },
          "execution_count": 12
        }
      ]
    },
    {
      "cell_type": "markdown",
      "metadata": {
        "id": "gAwfUUXooV2T"
      },
      "source": [
        "### filter"
      ]
    },
    {
      "cell_type": "code",
      "metadata": {
        "colab": {
          "base_uri": "https://localhost:8080/"
        },
        "id": "WQx9OryPoES4",
        "outputId": "e94091f6-3402-4568-cecf-aa2817f9ac86"
      },
      "source": [
        "a = list(range(1, 11))\n",
        "list(filter(lambda x: 4 <= x < 8, a))"
      ],
      "execution_count": 13,
      "outputs": [
        {
          "output_type": "execute_result",
          "data": {
            "text/plain": [
              "[4, 5, 6, 7]"
            ]
          },
          "metadata": {
            "tags": []
          },
          "execution_count": 13
        }
      ]
    }
  ]
}