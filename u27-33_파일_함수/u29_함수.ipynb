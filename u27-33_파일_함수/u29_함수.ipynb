{
  "nbformat": 4,
  "nbformat_minor": 0,
  "metadata": {
    "colab": {
      "name": "u29_함수.ipynb",
      "provenance": [],
      "collapsed_sections": []
    },
    "kernelspec": {
      "name": "python3",
      "display_name": "Python 3"
    },
    "language_info": {
      "name": "python"
    }
  },
  "cells": [
    {
      "cell_type": "markdown",
      "metadata": {
        "id": "Vc1ZYcWTK2B6"
      },
      "source": [
        "# Unit 29. 함수"
      ]
    },
    {
      "cell_type": "markdown",
      "metadata": {
        "id": "GN-2SQ7wO4uY"
      },
      "source": [
        "## 29.1 출력 함수 만들기"
      ]
    },
    {
      "cell_type": "code",
      "metadata": {
        "id": "lv1Oy-kCKzcW"
      },
      "source": [
        "def hello():\n",
        "    print('Hello, world!')"
      ],
      "execution_count": 1,
      "outputs": []
    },
    {
      "cell_type": "code",
      "metadata": {
        "colab": {
          "base_uri": "https://localhost:8080/"
        },
        "id": "QO33KQaKO-QJ",
        "outputId": "7d9bd645-9f75-4c81-e926-a956e87b2c55"
      },
      "source": [
        "hello()"
      ],
      "execution_count": 2,
      "outputs": [
        {
          "output_type": "stream",
          "text": [
            "Hello, world!\n"
          ],
          "name": "stdout"
        }
      ]
    },
    {
      "cell_type": "markdown",
      "metadata": {
        "id": "weK0CAz6P2Jz"
      },
      "source": [
        "## 29.2 덧셈 함수"
      ]
    },
    {
      "cell_type": "code",
      "metadata": {
        "id": "WqT3ANCaO_TK"
      },
      "source": [
        "# 매개변서, parameter, argument\n",
        "def add(a, b):\n",
        "    print(a + b)"
      ],
      "execution_count": 3,
      "outputs": []
    },
    {
      "cell_type": "code",
      "metadata": {
        "colab": {
          "base_uri": "https://localhost:8080/"
        },
        "id": "1vSLrFazQFI1",
        "outputId": "bebf0814-70d5-43c3-8d15-74315fb21dad"
      },
      "source": [
        "add(4, 5)"
      ],
      "execution_count": 6,
      "outputs": [
        {
          "output_type": "stream",
          "text": [
            "9\n"
          ],
          "name": "stdout"
        }
      ]
    },
    {
      "cell_type": "code",
      "metadata": {
        "id": "3v0jaCR6QIGy"
      },
      "source": [
        "# Docstrings(help의 기능)\n",
        "def add(a, b):\n",
        "    \"\"\"\n",
        "    이 함수는 a와 b를 더한 뒤 결과를 반환하는 함수입니다.\n",
        "    \"\"\"\n",
        "    print(a + b)"
      ],
      "execution_count": 7,
      "outputs": []
    },
    {
      "cell_type": "code",
      "metadata": {
        "id": "rp1DLPl_Q7eM"
      },
      "source": [
        "# 도움말 호출\n",
        "add?"
      ],
      "execution_count": 8,
      "outputs": []
    },
    {
      "cell_type": "markdown",
      "metadata": {
        "id": "kOgS5ZV_Rlmq"
      },
      "source": [
        "## 29.3 결과값 반환"
      ]
    },
    {
      "cell_type": "code",
      "metadata": {
        "id": "VTUdn3QqRBwL"
      },
      "source": [
        "def add(a, b):\n",
        "    return a+b"
      ],
      "execution_count": 9,
      "outputs": []
    },
    {
      "cell_type": "code",
      "metadata": {
        "colab": {
          "base_uri": "https://localhost:8080/"
        },
        "id": "m-YinKVlRsyj",
        "outputId": "d36214da-8b0c-48c7-c342-d265d5f1384f"
      },
      "source": [
        "add(4, 5), add(10, 20)"
      ],
      "execution_count": 10,
      "outputs": [
        {
          "output_type": "execute_result",
          "data": {
            "text/plain": [
              "(9, 30)"
            ]
          },
          "metadata": {
            "tags": []
          },
          "execution_count": 10
        }
      ]
    },
    {
      "cell_type": "code",
      "metadata": {
        "colab": {
          "base_uri": "https://localhost:8080/"
        },
        "id": "4oFKtVmsRx1c",
        "outputId": "7f5c442d-fe24-43ec-a424-73c74c09bd7a"
      },
      "source": [
        "x = add(23, 45)\n",
        "x"
      ],
      "execution_count": 11,
      "outputs": [
        {
          "output_type": "execute_result",
          "data": {
            "text/plain": [
              "68"
            ]
          },
          "metadata": {
            "tags": []
          },
          "execution_count": 11
        }
      ]
    },
    {
      "cell_type": "code",
      "metadata": {
        "id": "obkXrwzTR91V"
      },
      "source": [
        "def is_ten(x):\n",
        "    return x == 10"
      ],
      "execution_count": 12,
      "outputs": []
    },
    {
      "cell_type": "code",
      "metadata": {
        "colab": {
          "base_uri": "https://localhost:8080/"
        },
        "id": "1AQBFRlpSNQ7",
        "outputId": "9d7217f0-a3c3-4cda-ea13-31e2c12c6ca4"
      },
      "source": [
        "is_ten(101//10)"
      ],
      "execution_count": 13,
      "outputs": [
        {
          "output_type": "execute_result",
          "data": {
            "text/plain": [
              "True"
            ]
          },
          "metadata": {
            "tags": []
          },
          "execution_count": 13
        }
      ]
    },
    {
      "cell_type": "code",
      "metadata": {
        "id": "MNRCF-pFSRlP"
      },
      "source": [
        "def not_ten(x):\n",
        "    if x == 10:\n",
        "        return\n",
        "    else:\n",
        "        print('It is not 10.')"
      ],
      "execution_count": 16,
      "outputs": []
    },
    {
      "cell_type": "code",
      "metadata": {
        "id": "KnK7guXgTEGS"
      },
      "source": [
        "def not_ten(x):\n",
        "    if x == 10:\n",
        "        return\n",
        "    print('It is not 10.')"
      ],
      "execution_count": null,
      "outputs": []
    },
    {
      "cell_type": "code",
      "metadata": {
        "colab": {
          "base_uri": "https://localhost:8080/"
        },
        "id": "UB3uWxLbSiVe",
        "outputId": "4f3d5e0e-b855-43c3-9ace-1a0767432a5e"
      },
      "source": [
        "not_ten(5)"
      ],
      "execution_count": 17,
      "outputs": [
        {
          "output_type": "stream",
          "text": [
            "It is not 10.\n"
          ],
          "name": "stdout"
        }
      ]
    },
    {
      "cell_type": "code",
      "metadata": {
        "id": "aS0tHG__SlC_"
      },
      "source": [
        "not_ten(101//10)"
      ],
      "execution_count": 18,
      "outputs": []
    },
    {
      "cell_type": "markdown",
      "metadata": {
        "id": "iAcnOIJsTe3Q"
      },
      "source": [
        "## 29.4 여러 개의 결과값 반환"
      ]
    },
    {
      "cell_type": "code",
      "metadata": {
        "id": "ETe6cQu0SyKW"
      },
      "source": [
        "def add_sub(a, b):\n",
        "    return a + b, a - b"
      ],
      "execution_count": 19,
      "outputs": []
    },
    {
      "cell_type": "code",
      "metadata": {
        "id": "QraMR7AFTtyB"
      },
      "source": [
        "# tuple unpacking\n",
        "x, y = add_sub(15, 7)"
      ],
      "execution_count": 23,
      "outputs": []
    },
    {
      "cell_type": "code",
      "metadata": {
        "colab": {
          "base_uri": "https://localhost:8080/"
        },
        "id": "MxQoBNeTTxB6",
        "outputId": "97c04b4c-bdda-47bd-d8f8-b0581ca44763"
      },
      "source": [
        "x, y"
      ],
      "execution_count": 24,
      "outputs": [
        {
          "output_type": "execute_result",
          "data": {
            "text/plain": [
              "(22, 8)"
            ]
          },
          "metadata": {
            "tags": []
          },
          "execution_count": 24
        }
      ]
    },
    {
      "cell_type": "markdown",
      "metadata": {
        "id": "lj0qtqgcUO21"
      },
      "source": [
        "## 29.5 함수의 호출 과정"
      ]
    },
    {
      "cell_type": "code",
      "metadata": {
        "id": "x7FM1QQZVdnS"
      },
      "source": [
        "# Stack을 이용한다."
      ],
      "execution_count": null,
      "outputs": []
    },
    {
      "cell_type": "markdown",
      "metadata": {
        "id": "XBEvPBpVVBAz"
      },
      "source": [
        "### 연습문제\n",
        "- 세 자리 정수 두 개를 곱해서 나온 결과가 팔린드롬(Palindrome)이 되도록 할 때, 가장 큰 숫자는?"
      ]
    },
    {
      "cell_type": "code",
      "metadata": {
        "id": "nVyD1SObb_JI"
      },
      "source": [
        "def is_palindrome(x):\n",
        "    s = str(x)\n",
        "    return s == s[::-1]"
      ],
      "execution_count": 25,
      "outputs": []
    },
    {
      "cell_type": "code",
      "metadata": {
        "colab": {
          "base_uri": "https://localhost:8080/"
        },
        "id": "ZpXFhrI_dMOv",
        "outputId": "ffc5dbb8-3446-4e75-81e2-102ffccb6d0a"
      },
      "source": [
        "is_palindrome(12345), is_palindrome(906609)"
      ],
      "execution_count": 26,
      "outputs": [
        {
          "output_type": "execute_result",
          "data": {
            "text/plain": [
              "(False, True)"
            ]
          },
          "metadata": {
            "tags": []
          },
          "execution_count": 26
        }
      ]
    },
    {
      "cell_type": "code",
      "metadata": {
        "colab": {
          "base_uri": "https://localhost:8080/"
        },
        "id": "PRYAVXJ4Tx-N",
        "outputId": "57489371-12c9-4832-c3c5-d8229e085a0d"
      },
      "source": [
        "max_pal, m, n = 0, 0, 0\n",
        "for i in range(100, 1000):\n",
        "    for k in range(i, 1000):\n",
        "        if is_palindrome(i * k):\n",
        "            if i * k > max_pal:\n",
        "                max_pal, m, n = i * k, i, k\n",
        "                \n",
        "print(f'{m} x {n} = {max_pal}')"
      ],
      "execution_count": 31,
      "outputs": [
        {
          "output_type": "stream",
          "text": [
            "913 x 993 = 906609\n"
          ],
          "name": "stdout"
        }
      ]
    }
  ]
}