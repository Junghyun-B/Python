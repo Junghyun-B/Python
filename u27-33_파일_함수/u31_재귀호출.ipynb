{
  "nbformat": 4,
  "nbformat_minor": 0,
  "metadata": {
    "colab": {
      "name": "u31_재귀호출.ipynb",
      "provenance": [],
      "collapsed_sections": []
    },
    "kernelspec": {
      "name": "python3",
      "display_name": "Python 3"
    },
    "language_info": {
      "name": "python"
    }
  },
  "cells": [
    {
      "cell_type": "markdown",
      "metadata": {
        "id": "gFTRpXE9ucxK"
      },
      "source": [
        "# Unit 31. 재귀호출(Recursive Call)"
      ]
    },
    {
      "cell_type": "markdown",
      "metadata": {
        "id": "ZXAcWRbYuhCP"
      },
      "source": [
        "## Factorial 함수를 재귀호출로 구현"
      ]
    },
    {
      "cell_type": "code",
      "metadata": {
        "id": "4p6ADFxjubsm"
      },
      "source": [
        "def factorial(n):\n",
        "    if n == 0:          # n == 1:\n",
        "        return 1\n",
        "    return n * factorial(n - 1)"
      ],
      "execution_count": 3,
      "outputs": []
    },
    {
      "cell_type": "code",
      "metadata": {
        "colab": {
          "base_uri": "https://localhost:8080/"
        },
        "id": "q1fboDsHu51J",
        "outputId": "a6dc1e10-5f47-481e-bf86-240021863edf"
      },
      "source": [
        "factorial(5)"
      ],
      "execution_count": 4,
      "outputs": [
        {
          "output_type": "execute_result",
          "data": {
            "text/plain": [
              "120"
            ]
          },
          "metadata": {
            "tags": []
          },
          "execution_count": 4
        }
      ]
    },
    {
      "cell_type": "markdown",
      "metadata": {
        "id": "uOl4hqnmwZja"
      },
      "source": [
        "### fibonacci 수열\n",
        "- f(n) = f(n - 1) + f(n - 2), n >= 3일 때\n",
        "- f(1) = 1, f(2) = 1"
      ]
    },
    {
      "cell_type": "code",
      "metadata": {
        "id": "Mxipd8iyvQzt"
      },
      "source": [
        "def fibo(n):\n",
        "    if n == 1 or n == 2:\n",
        "        return 1\n",
        "    return fibo(n - 1) + fibo(n - 2)"
      ],
      "execution_count": 1,
      "outputs": []
    },
    {
      "cell_type": "code",
      "metadata": {
        "colab": {
          "base_uri": "https://localhost:8080/"
        },
        "id": "a-SACK020qoe",
        "outputId": "348780d7-5e04-40de-b18b-e6808b23a848"
      },
      "source": [
        "[fibo(i) for i in range(1, 11)]"
      ],
      "execution_count": 2,
      "outputs": [
        {
          "output_type": "execute_result",
          "data": {
            "text/plain": [
              "[1, 1, 2, 3, 5, 8, 13, 21, 34, 55]"
            ]
          },
          "metadata": {
            "tags": []
          },
          "execution_count": 2
        }
      ]
    }
  ]
}