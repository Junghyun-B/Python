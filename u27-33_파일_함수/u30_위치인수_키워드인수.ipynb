{
  "nbformat": 4,
  "nbformat_minor": 0,
  "metadata": {
    "colab": {
      "name": "u30_위치인수_키워드인수.ipynb",
      "provenance": [],
      "collapsed_sections": []
    },
    "kernelspec": {
      "name": "python3",
      "display_name": "Python 3"
    },
    "language_info": {
      "name": "python"
    }
  },
  "cells": [
    {
      "cell_type": "markdown",
      "metadata": {
        "id": "5VAc7S7Lf3bn"
      },
      "source": [
        "# Unit 30. 위치 인수와 키워드 인수"
      ]
    },
    {
      "cell_type": "markdown",
      "metadata": {
        "id": "qMCP0FjAf8zh"
      },
      "source": [
        "## 30.1 위치 인수"
      ]
    },
    {
      "cell_type": "code",
      "metadata": {
        "id": "PHHH5g7CgqHF"
      },
      "source": [
        "def print_numbers(a, b, c):\n",
        "    print(a)\n",
        "    print(b)\n",
        "    print(c)"
      ],
      "execution_count": 1,
      "outputs": []
    },
    {
      "cell_type": "code",
      "metadata": {
        "colab": {
          "base_uri": "https://localhost:8080/"
        },
        "id": "VEu3Qsghg_Ru",
        "outputId": "caaa0e60-d3e8-44f7-9da8-6b8bfdbee486"
      },
      "source": [
        "print_numbers(10, 20, 30)"
      ],
      "execution_count": 2,
      "outputs": [
        {
          "output_type": "stream",
          "text": [
            "10\n",
            "20\n",
            "30\n"
          ],
          "name": "stdout"
        }
      ]
    },
    {
      "cell_type": "code",
      "metadata": {
        "colab": {
          "base_uri": "https://localhost:8080/"
        },
        "id": "5pI_H1NYhBbf",
        "outputId": "f2af2400-94cb-4a79-f8ca-e8bfb0824ef4"
      },
      "source": [
        "# *x : list unpacking / *y : tuple unpacking\n",
        "x, y = [10, 20, 30], (40, 50, 60)\n",
        "print_numbers(*x)\n",
        "print_numbers(*y)"
      ],
      "execution_count": 4,
      "outputs": [
        {
          "output_type": "stream",
          "text": [
            "10\n",
            "20\n",
            "30\n",
            "40\n",
            "50\n",
            "60\n"
          ],
          "name": "stdout"
        }
      ]
    },
    {
      "cell_type": "markdown",
      "metadata": {
        "id": "l2jsGalAh6s8"
      },
      "source": [
        "### 가변 인수 함수"
      ]
    },
    {
      "cell_type": "code",
      "metadata": {
        "id": "9f8LJa5xhRZU"
      },
      "source": [
        "def print_numbers2(*args):\n",
        "    for arg in args:\n",
        "        print(arg)"
      ],
      "execution_count": 8,
      "outputs": []
    },
    {
      "cell_type": "code",
      "metadata": {
        "colab": {
          "base_uri": "https://localhost:8080/"
        },
        "id": "FXjFm1YaiEtU",
        "outputId": "7182da9f-ade6-4f02-dfb7-bdb1bcb1e09a"
      },
      "source": [
        "print_numbers2(10, 20, 30, 40)"
      ],
      "execution_count": 9,
      "outputs": [
        {
          "output_type": "stream",
          "text": [
            "10\n",
            "20\n",
            "30\n",
            "40\n"
          ],
          "name": "stdout"
        }
      ]
    },
    {
      "cell_type": "code",
      "metadata": {
        "colab": {
          "base_uri": "https://localhost:8080/"
        },
        "id": "Y6TIJj9xiKwG",
        "outputId": "bdaf9ad0-2f10-482f-a133-3e98c59728f4"
      },
      "source": [
        "print_numbers2(10)"
      ],
      "execution_count": 10,
      "outputs": [
        {
          "output_type": "stream",
          "text": [
            "10\n"
          ],
          "name": "stdout"
        }
      ]
    },
    {
      "cell_type": "markdown",
      "metadata": {
        "id": "6GDek-Z-iVD2"
      },
      "source": [
        "### 고정 인수와 가변 인수"
      ]
    },
    {
      "cell_type": "code",
      "metadata": {
        "id": "P0w2HjCviPaU"
      },
      "source": [
        "def print_numbers3(a, *args):\n",
        "    print(a)\n",
        "    print(args)"
      ],
      "execution_count": 11,
      "outputs": []
    },
    {
      "cell_type": "code",
      "metadata": {
        "colab": {
          "base_uri": "https://localhost:8080/"
        },
        "id": "t7e-FJKNixi3",
        "outputId": "a24eb103-5691-4cf4-ec58-4d6f4f8179d8"
      },
      "source": [
        "print_numbers3(1, 10, 20)"
      ],
      "execution_count": 12,
      "outputs": [
        {
          "output_type": "stream",
          "text": [
            "1\n",
            "(10, 20)\n"
          ],
          "name": "stdout"
        }
      ]
    },
    {
      "cell_type": "code",
      "metadata": {
        "colab": {
          "base_uri": "https://localhost:8080/"
        },
        "id": "ArDpa0hWi1Mi",
        "outputId": "6f3ecc49-3e8c-40b7-c3ad-65bb704574dc"
      },
      "source": [
        "print_numbers3(*x)"
      ],
      "execution_count": 13,
      "outputs": [
        {
          "output_type": "stream",
          "text": [
            "10\n",
            "(20, 30)\n"
          ],
          "name": "stdout"
        }
      ]
    },
    {
      "cell_type": "code",
      "metadata": {
        "id": "jcVsTQFMjFbd"
      },
      "source": [
        "# 고정 위치 인수가 가변 위치 인수보다 먼저 나와야 함\n",
        "def print_numbers4(*args, a):\n",
        "    print(args)\n",
        "    print(a)"
      ],
      "execution_count": 14,
      "outputs": []
    },
    {
      "cell_type": "code",
      "metadata": {
        "colab": {
          "base_uri": "https://localhost:8080/",
          "height": 174
        },
        "id": "DQOicbdYjeSq",
        "outputId": "882f2511-7e24-4000-fadb-5895d1dd1dfc"
      },
      "source": [
        "print_numbers4(*x)"
      ],
      "execution_count": 15,
      "outputs": [
        {
          "output_type": "error",
          "ename": "TypeError",
          "evalue": "ignored",
          "traceback": [
            "\u001b[0;31m---------------------------------------------------------------------------\u001b[0m",
            "\u001b[0;31mTypeError\u001b[0m                                 Traceback (most recent call last)",
            "\u001b[0;32m<ipython-input-15-c9aba5af1127>\u001b[0m in \u001b[0;36m<module>\u001b[0;34m()\u001b[0m\n\u001b[0;32m----> 1\u001b[0;31m \u001b[0mprint_numbers4\u001b[0m\u001b[0;34m(\u001b[0m\u001b[0;34m*\u001b[0m\u001b[0mx\u001b[0m\u001b[0;34m)\u001b[0m\u001b[0;34m\u001b[0m\u001b[0;34m\u001b[0m\u001b[0m\n\u001b[0m",
            "\u001b[0;31mTypeError\u001b[0m: print_numbers4() missing 1 required keyword-only argument: 'a'"
          ]
        }
      ]
    },
    {
      "cell_type": "markdown",
      "metadata": {
        "id": "vpamvxhkmh0P"
      },
      "source": [
        "## 30.2 키워드 인수"
      ]
    },
    {
      "cell_type": "code",
      "metadata": {
        "id": "ZT0oBYc9mgu6"
      },
      "source": [
        "def personal_info(name, age, addr):\n",
        "    print('이름 :', name)\n",
        "    print('나이 :', age)\n",
        "    print('주소 :', addr)"
      ],
      "execution_count": 20,
      "outputs": []
    },
    {
      "cell_type": "code",
      "metadata": {
        "colab": {
          "base_uri": "https://localhost:8080/"
        },
        "id": "5jSFYrnGm4Hb",
        "outputId": "7cf9379f-b093-4771-97a8-3588e90e264b"
      },
      "source": [
        "personal_info('홍길동', 30, '서울 강남구 도곡동')"
      ],
      "execution_count": 21,
      "outputs": [
        {
          "output_type": "stream",
          "text": [
            "이름 : 홍길동\n",
            "나이 : 30\n",
            "주소 : 서울 강남구 도곡동\n"
          ],
          "name": "stdout"
        }
      ]
    },
    {
      "cell_type": "code",
      "metadata": {
        "colab": {
          "base_uri": "https://localhost:8080/"
        },
        "id": "z0Sa43rim_Pu",
        "outputId": "271cfd22-1319-4e5e-dbfb-f53078c48285"
      },
      "source": [
        "personal_info(age = 30, addr = '서울 강남구 도곡동', name = '홍길동')"
      ],
      "execution_count": 22,
      "outputs": [
        {
          "output_type": "stream",
          "text": [
            "이름 : 홍길동\n",
            "나이 : 30\n",
            "주소 : 서울 강남구 도곡동\n"
          ],
          "name": "stdout"
        }
      ]
    },
    {
      "cell_type": "markdown",
      "metadata": {
        "id": "DqtpG9DOnebN"
      },
      "source": [
        "## 30.3 키워드 인수와 딕셔너리 언패킹"
      ]
    },
    {
      "cell_type": "code",
      "metadata": {
        "colab": {
          "base_uri": "https://localhost:8080/"
        },
        "id": "mOdfFH_AnNDI",
        "outputId": "0a25e445-a12c-47bb-bb28-512a32373b73"
      },
      "source": [
        "x = {'name' : '홍길동', 'age' : 30, 'addr' : '서울 강남구 도곡동'}\n",
        "personal_info(**x)"
      ],
      "execution_count": 47,
      "outputs": [
        {
          "output_type": "stream",
          "text": [
            "이름 : 홍길동\n",
            "나이 : 30\n",
            "주소 : 서울 강남구 도곡동\n"
          ],
          "name": "stdout"
        }
      ]
    },
    {
      "cell_type": "code",
      "metadata": {
        "colab": {
          "base_uri": "https://localhost:8080/"
        },
        "id": "a_W7_UBOn-VR",
        "outputId": "6ef04339-824b-4002-b0db-9fd1c08ea7bc"
      },
      "source": [
        "# *x는 x의 키를 불러냄\n",
        "personal_info(*x)"
      ],
      "execution_count": 48,
      "outputs": [
        {
          "output_type": "stream",
          "text": [
            "이름 : name\n",
            "나이 : age\n",
            "주소 : addr\n"
          ],
          "name": "stdout"
        }
      ]
    },
    {
      "cell_type": "markdown",
      "metadata": {
        "id": "_bjmMbR0ovmA"
      },
      "source": [
        "### 가변 키워드 인수"
      ]
    },
    {
      "cell_type": "code",
      "metadata": {
        "id": "aJe8kokSouO0"
      },
      "source": [
        "def personal_info2(**kwargs):\n",
        "    for key, value in kwargs.items():\n",
        "        print(f'{key} : {value}')"
      ],
      "execution_count": 49,
      "outputs": []
    },
    {
      "cell_type": "code",
      "metadata": {
        "colab": {
          "base_uri": "https://localhost:8080/"
        },
        "id": "SB4fgBQVpAqA",
        "outputId": "1bdabd0d-37cf-4108-d761-0d4ca0e98c7e"
      },
      "source": [
        "personal_info2(**x)"
      ],
      "execution_count": 32,
      "outputs": [
        {
          "output_type": "stream",
          "text": [
            "name : 홍길동\n",
            "age : 30\n",
            "addr : 서울 강남구 도곡동\n"
          ],
          "name": "stdout"
        }
      ]
    },
    {
      "cell_type": "code",
      "metadata": {
        "colab": {
          "base_uri": "https://localhost:8080/"
        },
        "id": "LAwtMEKRpEg3",
        "outputId": "0e5aa978-4f9e-4ccf-b9e4-2caa8dea4298"
      },
      "source": [
        "personal_info2(name = '홍길동', age = 30)"
      ],
      "execution_count": 50,
      "outputs": [
        {
          "output_type": "stream",
          "text": [
            "name : 홍길동\n",
            "age : 30\n"
          ],
          "name": "stdout"
        }
      ]
    },
    {
      "cell_type": "markdown",
      "metadata": {
        "id": "Pnzz1KSQpyUG"
      },
      "source": [
        "### 고정 인수와 가변 키워드 인수"
      ]
    },
    {
      "cell_type": "code",
      "metadata": {
        "id": "C03Ym2U6pddq"
      },
      "source": [
        "def personal_info3(name, **kwargs):\n",
        "    print(name)\n",
        "    print(kwargs)"
      ],
      "execution_count": 51,
      "outputs": []
    },
    {
      "cell_type": "code",
      "metadata": {
        "colab": {
          "base_uri": "https://localhost:8080/"
        },
        "id": "OYkkSLioqCN3",
        "outputId": "d1b716f8-135d-4151-b9b0-21d93047f697"
      },
      "source": [
        "personal_info3(**x)"
      ],
      "execution_count": 52,
      "outputs": [
        {
          "output_type": "stream",
          "text": [
            "홍길동\n",
            "{'age': 30, 'addr': '서울 강남구 도곡동'}\n"
          ],
          "name": "stdout"
        }
      ]
    },
    {
      "cell_type": "markdown",
      "metadata": {
        "id": "bhWXd8EjqZjV"
      },
      "source": [
        "### 위치 인수와 키워드 인수"
      ]
    },
    {
      "cell_type": "code",
      "metadata": {
        "id": "i1JhvwLOqHGT"
      },
      "source": [
        "def my_print(*args, **kwargs):\n",
        "    print(*args, **kwargs)"
      ],
      "execution_count": 53,
      "outputs": []
    },
    {
      "cell_type": "code",
      "metadata": {
        "colab": {
          "base_uri": "https://localhost:8080/"
        },
        "id": "dAFsIs2Sqy19",
        "outputId": "9ecfe34a-a990-4867-a64b-01804f86b6c3"
      },
      "source": [
        "my_print(10, 20, 30, sep = ', ')"
      ],
      "execution_count": 54,
      "outputs": [
        {
          "output_type": "stream",
          "text": [
            "10, 20, 30\n"
          ],
          "name": "stdout"
        }
      ]
    },
    {
      "cell_type": "markdown",
      "metadata": {
        "id": "pnFxIEDVrbe-"
      },
      "source": [
        "## 30.4 매개변수에 초기값 지정"
      ]
    },
    {
      "cell_type": "code",
      "metadata": {
        "id": "mTCNJyrWq3mY"
      },
      "source": [
        "def personal_info4(name, age, addr = '비공개'):\n",
        "    print('이름 :', name)\n",
        "    print('나이 :', age)\n",
        "    print('주소 :', addr)"
      ],
      "execution_count": 55,
      "outputs": []
    },
    {
      "cell_type": "code",
      "metadata": {
        "colab": {
          "base_uri": "https://localhost:8080/"
        },
        "id": "n5SIZfvbrx1O",
        "outputId": "042702e0-e409-442c-c29c-ff84259cb38b"
      },
      "source": [
        "personal_info4('홍길동', 30)"
      ],
      "execution_count": 56,
      "outputs": [
        {
          "output_type": "stream",
          "text": [
            "이름 : 홍길동\n",
            "나이 : 30\n",
            "주소 : 비공개\n"
          ],
          "name": "stdout"
        }
      ]
    },
    {
      "cell_type": "code",
      "metadata": {
        "colab": {
          "base_uri": "https://localhost:8080/"
        },
        "id": "AUQNCa9Vr11G",
        "outputId": "04d9db1d-aa6f-425e-e311-d3e063073e1d"
      },
      "source": [
        "personal_info4(**x)"
      ],
      "execution_count": 57,
      "outputs": [
        {
          "output_type": "stream",
          "text": [
            "이름 : 홍길동\n",
            "나이 : 30\n",
            "주소 : 서울 강남구 도곡동\n"
          ],
          "name": "stdout"
        }
      ]
    }
  ]
}