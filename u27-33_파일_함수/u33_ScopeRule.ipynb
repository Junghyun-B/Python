{
  "nbformat": 4,
  "nbformat_minor": 0,
  "metadata": {
    "colab": {
      "name": "u33_ScopeRule.ipynb",
      "provenance": [],
      "collapsed_sections": []
    },
    "kernelspec": {
      "name": "python3",
      "display_name": "Python 3"
    },
    "language_info": {
      "name": "python"
    }
  },
  "cells": [
    {
      "cell_type": "markdown",
      "metadata": {
        "id": "k6B3e5yape0H"
      },
      "source": [
        "# Unit 33. 변수의 사용 범위(Scope Rule)"
      ]
    },
    {
      "cell_type": "code",
      "metadata": {
        "colab": {
          "base_uri": "https://localhost:8080/"
        },
        "id": "tVXwxOAvpJET",
        "outputId": "314e0bc6-796b-4a9b-a491-229c99153189"
      },
      "source": [
        "x = 10          # 전역(global) 변수\n",
        "def foo():\n",
        "    print(x)\n",
        "\n",
        "foo()\n",
        "print(x)"
      ],
      "execution_count": 1,
      "outputs": [
        {
          "output_type": "stream",
          "text": [
            "10\n",
            "10\n"
          ],
          "name": "stdout"
        }
      ]
    },
    {
      "cell_type": "code",
      "metadata": {
        "colab": {
          "base_uri": "https://localhost:8080/"
        },
        "id": "MLDo3Hcpr8RK",
        "outputId": "731bf08d-633a-4aa9-e9de-4f930e39ce34"
      },
      "source": [
        "def foo():\n",
        "    y = 10      # 지역(local) 변수\n",
        "    print(y)\n",
        "\n",
        "foo()"
      ],
      "execution_count": 2,
      "outputs": [
        {
          "output_type": "stream",
          "text": [
            "10\n"
          ],
          "name": "stdout"
        }
      ]
    },
    {
      "cell_type": "code",
      "metadata": {
        "colab": {
          "base_uri": "https://localhost:8080/",
          "height": 174
        },
        "id": "SzOahZxhsPlb",
        "outputId": "ad6b56d9-8535-42db-df2a-3e115f61a814"
      },
      "source": [
        "print(y)"
      ],
      "execution_count": 3,
      "outputs": [
        {
          "output_type": "error",
          "ename": "NameError",
          "evalue": "ignored",
          "traceback": [
            "\u001b[0;31m---------------------------------------------------------------------------\u001b[0m",
            "\u001b[0;31mNameError\u001b[0m                                 Traceback (most recent call last)",
            "\u001b[0;32m<ipython-input-3-d9183e048de3>\u001b[0m in \u001b[0;36m<module>\u001b[0;34m()\u001b[0m\n\u001b[0;32m----> 1\u001b[0;31m \u001b[0mprint\u001b[0m\u001b[0;34m(\u001b[0m\u001b[0my\u001b[0m\u001b[0;34m)\u001b[0m\u001b[0;34m\u001b[0m\u001b[0;34m\u001b[0m\u001b[0m\n\u001b[0m",
            "\u001b[0;31mNameError\u001b[0m: name 'y' is not defined"
          ]
        }
      ]
    },
    {
      "cell_type": "markdown",
      "metadata": {
        "id": "VTa6klU1tupZ"
      },
      "source": [
        "## 33.1 함수 안에서 전역 변수 변경하기"
      ]
    },
    {
      "cell_type": "code",
      "metadata": {
        "colab": {
          "base_uri": "https://localhost:8080/"
        },
        "id": "4MaQ1aqXscnM",
        "outputId": "7227fbb2-3205-4696-a519-83144ba948ce"
      },
      "source": [
        "x = 10          # 전역(global) 변수\n",
        "def foo():\n",
        "    x = 20      # 지역(local) 변수\n",
        "    print(x)\n",
        "\n",
        "foo()\n",
        "print(x)"
      ],
      "execution_count": 4,
      "outputs": [
        {
          "output_type": "stream",
          "text": [
            "20\n",
            "10\n"
          ],
          "name": "stdout"
        }
      ]
    },
    {
      "cell_type": "code",
      "metadata": {
        "colab": {
          "base_uri": "https://localhost:8080/"
        },
        "id": "EOGoxit7uLrt",
        "outputId": "c36291dd-40b6-4eef-b66f-5c9e6c2c867e"
      },
      "source": [
        "x = 10          # 전역(global) 변수\n",
        "def foo():\n",
        "    global x\n",
        "    x = 20      # 전역(global) 변수\n",
        "    print(x)\n",
        "\n",
        "foo()\n",
        "print(x)"
      ],
      "execution_count": 5,
      "outputs": [
        {
          "output_type": "stream",
          "text": [
            "20\n",
            "20\n"
          ],
          "name": "stdout"
        }
      ]
    },
    {
      "cell_type": "code",
      "metadata": {
        "colab": {
          "base_uri": "https://localhost:8080/"
        },
        "id": "FpkYP2W3vEKq",
        "outputId": "04ba0262-884b-49c4-cba0-7b6cc07185c9"
      },
      "source": [
        "def foo():\n",
        "    global z\n",
        "    z = 10\n",
        "    print(z)\n",
        "\n",
        "foo()\n",
        "print(z)"
      ],
      "execution_count": 6,
      "outputs": [
        {
          "output_type": "stream",
          "text": [
            "10\n",
            "10\n"
          ],
          "name": "stdout"
        }
      ]
    }
  ]
}