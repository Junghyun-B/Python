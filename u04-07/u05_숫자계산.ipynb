{
  "nbformat": 4,
  "nbformat_minor": 0,
  "metadata": {
    "colab": {
      "name": "u05_숫자계산.ipynb",
      "provenance": [],
      "collapsed_sections": []
    },
    "kernelspec": {
      "name": "python3",
      "display_name": "Python 3"
    },
    "language_info": {
      "name": "python"
    }
  },
  "cells": [
    {
      "cell_type": "markdown",
      "metadata": {
        "id": "GsTyNEhxpBeL"
      },
      "source": [
        "# Unit 5. 숫자 계산하기"
      ]
    },
    {
      "cell_type": "markdown",
      "metadata": {
        "id": "jdBAh3G2qoTP"
      },
      "source": [
        "## 5.1 정수"
      ]
    },
    {
      "cell_type": "code",
      "metadata": {
        "colab": {
          "base_uri": "https://localhost:8080/"
        },
        "id": "txwSGtnNo7Gf",
        "outputId": "29ae0c6c-aab1-4576-c0dd-d8f74c57d88d"
      },
      "source": [
        "# 4칙 연산, +, -, *, /, %, //\n",
        "5 / 2"
      ],
      "execution_count": 2,
      "outputs": [
        {
          "output_type": "execute_result",
          "data": {
            "text/plain": [
              "2.5"
            ]
          },
          "metadata": {
            "tags": []
          },
          "execution_count": 2
        }
      ]
    },
    {
      "cell_type": "code",
      "metadata": {
        "colab": {
          "base_uri": "https://localhost:8080/"
        },
        "id": "9GcL-6fPq-Mg",
        "outputId": "98e15ce3-7bfe-45be-c639-91f199de2f49"
      },
      "source": [
        "# % - modulo, 나머지\n",
        "5 % 2"
      ],
      "execution_count": 4,
      "outputs": [
        {
          "output_type": "execute_result",
          "data": {
            "text/plain": [
              "1"
            ]
          },
          "metadata": {
            "tags": []
          },
          "execution_count": 4
        }
      ]
    },
    {
      "cell_type": "code",
      "metadata": {
        "colab": {
          "base_uri": "https://localhost:8080/"
        },
        "id": "-hvN8m7gtq-W",
        "outputId": "163b28a6-373a-47bc-95c9-47a5a89f8420"
      },
      "source": [
        "# // - 몫\n",
        "5 // 2"
      ],
      "execution_count": 6,
      "outputs": [
        {
          "output_type": "execute_result",
          "data": {
            "text/plain": [
              "2"
            ]
          },
          "metadata": {
            "tags": []
          },
          "execution_count": 6
        }
      ]
    },
    {
      "cell_type": "code",
      "metadata": {
        "colab": {
          "base_uri": "https://localhost:8080/"
        },
        "id": "Lv7yzTYrtwVb",
        "outputId": "0919cc01-10dc-4e24-e1b3-9af872209854"
      },
      "source": [
        "# 3의 배수 - 어떤 숫자를 3으로 모듈로 연산을 했을 때 결과가 0\n",
        "6 % 3"
      ],
      "execution_count": 7,
      "outputs": [
        {
          "output_type": "execute_result",
          "data": {
            "text/plain": [
              "0"
            ]
          },
          "metadata": {
            "tags": []
          },
          "execution_count": 7
        }
      ]
    },
    {
      "cell_type": "code",
      "metadata": {
        "colab": {
          "base_uri": "https://localhost:8080/"
        },
        "id": "gi6kW5TxumHt",
        "outputId": "042d8689-6c12-41f1-ae5c-30451124f4be"
      },
      "source": [
        "# 거듭 제곱\n",
        "2 ** 10"
      ],
      "execution_count": 8,
      "outputs": [
        {
          "output_type": "execute_result",
          "data": {
            "text/plain": [
              "1024"
            ]
          },
          "metadata": {
            "tags": []
          },
          "execution_count": 8
        }
      ]
    },
    {
      "cell_type": "markdown",
      "metadata": {
        "id": "kH1o_Ffou76z"
      },
      "source": [
        "### 값을 정수(integer)로 변환"
      ]
    },
    {
      "cell_type": "code",
      "metadata": {
        "colab": {
          "base_uri": "https://localhost:8080/"
        },
        "id": "N6tv6KAUuzY3",
        "outputId": "3ded52b2-dd34-4cf9-82ec-056fc9d5dd7b"
      },
      "source": [
        "int(3.14)"
      ],
      "execution_count": 9,
      "outputs": [
        {
          "output_type": "execute_result",
          "data": {
            "text/plain": [
              "3"
            ]
          },
          "metadata": {
            "tags": []
          },
          "execution_count": 9
        }
      ]
    },
    {
      "cell_type": "code",
      "metadata": {
        "colab": {
          "base_uri": "https://localhost:8080/"
        },
        "id": "qAUdB4xQvOH3",
        "outputId": "c0c474d2-dc17-41ee-e5df-a9ebb8aa385a"
      },
      "source": [
        "int(5 / 2)"
      ],
      "execution_count": 10,
      "outputs": [
        {
          "output_type": "execute_result",
          "data": {
            "text/plain": [
              "2"
            ]
          },
          "metadata": {
            "tags": []
          },
          "execution_count": 10
        }
      ]
    },
    {
      "cell_type": "code",
      "metadata": {
        "colab": {
          "base_uri": "https://localhost:8080/"
        },
        "id": "YiQdK92bvYb_",
        "outputId": "838ed72c-de23-435a-fea3-33c5bfebcb95"
      },
      "source": [
        "# 'single quote', \"double quote\"\n",
        "int('55')"
      ],
      "execution_count": 11,
      "outputs": [
        {
          "output_type": "execute_result",
          "data": {
            "text/plain": [
              "55"
            ]
          },
          "metadata": {
            "tags": []
          },
          "execution_count": 11
        }
      ]
    },
    {
      "cell_type": "code",
      "metadata": {
        "colab": {
          "base_uri": "https://localhost:8080/"
        },
        "id": "-OcG7Ayuv0FN",
        "outputId": "59869220-67b9-4194-8b82-424c249f8e9c"
      },
      "source": [
        "string = '55'\n",
        "value = int(string)\n",
        "string, value"
      ],
      "execution_count": 12,
      "outputs": [
        {
          "output_type": "execute_result",
          "data": {
            "text/plain": [
              "('55', 55)"
            ]
          },
          "metadata": {
            "tags": []
          },
          "execution_count": 12
        }
      ]
    },
    {
      "cell_type": "code",
      "metadata": {
        "colab": {
          "base_uri": "https://localhost:8080/"
        },
        "id": "KFX6lLmNwK-3",
        "outputId": "293cdcbd-533a-49bf-85d1-9b9de97b5b58"
      },
      "source": [
        "type(string), type(value), type(3.14)"
      ],
      "execution_count": 14,
      "outputs": [
        {
          "output_type": "execute_result",
          "data": {
            "text/plain": [
              "(str, int, float)"
            ]
          },
          "metadata": {
            "tags": []
          },
          "execution_count": 14
        }
      ]
    },
    {
      "cell_type": "code",
      "metadata": {
        "colab": {
          "base_uri": "https://localhost:8080/"
        },
        "id": "I1wPMLuxwbnO",
        "outputId": "1e7582cc-fa93-4e50-877d-548b4fb25cfb"
      },
      "source": [
        "# 몫과 나머지를 동시에 계산 divmod(5, 2)\n",
        "q, r = 5 // 2, 5 % 2\n",
        "q, r"
      ],
      "execution_count": 15,
      "outputs": [
        {
          "output_type": "execute_result",
          "data": {
            "text/plain": [
              "(2, 1)"
            ]
          },
          "metadata": {
            "tags": []
          },
          "execution_count": 15
        }
      ]
    },
    {
      "cell_type": "markdown",
      "metadata": {
        "id": "yv8habgmx8nw"
      },
      "source": [
        "### 진수"
      ]
    },
    {
      "cell_type": "code",
      "metadata": {
        "colab": {
          "base_uri": "https://localhost:8080/"
        },
        "id": "LtS2C7tSx48p",
        "outputId": "1dbc0d94-0fbc-4dda-890b-337239476643"
      },
      "source": [
        "# 2진수, 8진수, 16진수\n",
        "0b101, 0o5, 0x5"
      ],
      "execution_count": 16,
      "outputs": [
        {
          "output_type": "execute_result",
          "data": {
            "text/plain": [
              "(5, 5, 5)"
            ]
          },
          "metadata": {
            "tags": []
          },
          "execution_count": 16
        }
      ]
    },
    {
      "cell_type": "code",
      "metadata": {
        "colab": {
          "base_uri": "https://localhost:8080/"
        },
        "id": "7ywVZBBiySJG",
        "outputId": "4253205a-c19a-4d62-e8e7-174a9214f8d5"
      },
      "source": [
        "0xa6"
      ],
      "execution_count": 17,
      "outputs": [
        {
          "output_type": "execute_result",
          "data": {
            "text/plain": [
              "166"
            ]
          },
          "metadata": {
            "tags": []
          },
          "execution_count": 17
        }
      ]
    },
    {
      "cell_type": "markdown",
      "metadata": {
        "id": "AiC848QxzuyI"
      },
      "source": [
        "## 5.2 실수"
      ]
    },
    {
      "cell_type": "code",
      "metadata": {
        "colab": {
          "base_uri": "https://localhost:8080/"
        },
        "id": "l9Q6gzynzHvB",
        "outputId": "fdf414eb-97c5-428f-e1e5-93316f1277d6"
      },
      "source": [
        "3.5 + 2.1"
      ],
      "execution_count": 18,
      "outputs": [
        {
          "output_type": "execute_result",
          "data": {
            "text/plain": [
              "5.6"
            ]
          },
          "metadata": {
            "tags": []
          },
          "execution_count": 18
        }
      ]
    },
    {
      "cell_type": "code",
      "metadata": {
        "colab": {
          "base_uri": "https://localhost:8080/"
        },
        "id": "p7WU0EOoz1_C",
        "outputId": "7cfc17e3-d491-46aa-f68f-9cf6d934368a"
      },
      "source": [
        "4.3 - 2.7"
      ],
      "execution_count": 19,
      "outputs": [
        {
          "output_type": "execute_result",
          "data": {
            "text/plain": [
              "1.5999999999999996"
            ]
          },
          "metadata": {
            "tags": []
          },
          "execution_count": 19
        }
      ]
    },
    {
      "cell_type": "code",
      "metadata": {
        "colab": {
          "base_uri": "https://localhost:8080/"
        },
        "id": "jDtk2TWTz-4K",
        "outputId": "162482a3-270d-4971-e064-030e9ce45d49"
      },
      "source": [
        "4.3 - 2.7 == 1.6"
      ],
      "execution_count": 20,
      "outputs": [
        {
          "output_type": "execute_result",
          "data": {
            "text/plain": [
              "False"
            ]
          },
          "metadata": {
            "tags": []
          },
          "execution_count": 20
        }
      ]
    },
    {
      "cell_type": "code",
      "metadata": {
        "colab": {
          "base_uri": "https://localhost:8080/"
        },
        "id": "4nyXoZQr0jsh",
        "outputId": "37b648ff-c859-4149-9fee-8789d67b6b7e"
      },
      "source": [
        "import numpy as np\n",
        "np.abs((4.3-2.7) - 1.6) < 1e-10"
      ],
      "execution_count": 22,
      "outputs": [
        {
          "output_type": "execute_result",
          "data": {
            "text/plain": [
              "True"
            ]
          },
          "metadata": {
            "tags": []
          },
          "execution_count": 22
        }
      ]
    },
    {
      "cell_type": "code",
      "metadata": {
        "colab": {
          "base_uri": "https://localhost:8080/"
        },
        "id": "UUusFiUp0-6D",
        "outputId": "effe2d20-2bff-4d86-9cd7-2cb9da93adbc"
      },
      "source": [
        "4.2 + 5"
      ],
      "execution_count": 23,
      "outputs": [
        {
          "output_type": "execute_result",
          "data": {
            "text/plain": [
              "9.2"
            ]
          },
          "metadata": {
            "tags": []
          },
          "execution_count": 23
        }
      ]
    },
    {
      "cell_type": "code",
      "metadata": {
        "colab": {
          "base_uri": "https://localhost:8080/"
        },
        "id": "JdExaQNP2FtK",
        "outputId": "a75b3ec3-bb2d-4c0d-b343-3a98321c3171"
      },
      "source": [
        "4.2 + float('5')"
      ],
      "execution_count": 25,
      "outputs": [
        {
          "output_type": "execute_result",
          "data": {
            "text/plain": [
              "9.2"
            ]
          },
          "metadata": {
            "tags": []
          },
          "execution_count": 25
        }
      ]
    },
    {
      "cell_type": "code",
      "metadata": {
        "id": "5hJ_WY6U2OwE"
      },
      "source": [
        ""
      ],
      "execution_count": null,
      "outputs": []
    }
  ]
}