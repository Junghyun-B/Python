{
  "nbformat": 4,
  "nbformat_minor": 0,
  "metadata": {
    "colab": {
      "name": "u15_elif.ipynb",
      "provenance": [],
      "collapsed_sections": []
    },
    "kernelspec": {
      "name": "python3",
      "display_name": "Python 3"
    },
    "language_info": {
      "name": "python"
    }
  },
  "cells": [
    {
      "cell_type": "markdown",
      "metadata": {
        "id": "ub_E503YkVHq"
      },
      "source": [
        "# Unit 15. elif"
      ]
    },
    {
      "cell_type": "code",
      "metadata": {
        "colab": {
          "base_uri": "https://localhost:8080/"
        },
        "id": "kWTbEU_moV7_",
        "outputId": "52efa395-09c9-4499-fde6-e7b003242d58"
      },
      "source": [
        "x = 15\n",
        "if x == 10:\n",
        "    print('It is 10.')\n",
        "elif x == 20:\n",
        "    print('It is 20.')\n",
        "else:\n",
        "    print('10, 20이 아닙니다.')"
      ],
      "execution_count": 2,
      "outputs": [
        {
          "output_type": "stream",
          "text": [
            "10, 20이 아닙니다.\n"
          ],
          "name": "stdout"
        }
      ]
    },
    {
      "cell_type": "code",
      "metadata": {
        "colab": {
          "base_uri": "https://localhost:8080/"
        },
        "id": "_ld17cPDogg1",
        "outputId": "a0eae9c6-c873-4458-bb36-e6c5c4f3cb69"
      },
      "source": [
        "# 숫자 - 입력, 3의 배수면 Fizz, 5의 배수면 Buzz, 15의 배수면 FizzBuzz, 아니면 숫자 출력\n",
        "number = int(input())\n",
        "\n",
        "if number % 15 == 0:\n",
        "    print('FizzBuzz')\n",
        "elif number % 5 == 0:\n",
        "    print('Buzz')\n",
        "elif number % 3 == 0:\n",
        "    print('Fizz')\n",
        "else:\n",
        "    print(number)"
      ],
      "execution_count": 15,
      "outputs": [
        {
          "output_type": "stream",
          "text": [
            "30\n",
            "FizzBuzz\n"
          ],
          "name": "stdout"
        }
      ]
    },
    {
      "cell_type": "code",
      "metadata": {
        "colab": {
          "base_uri": "https://localhost:8080/"
        },
        "id": "mv94zXDgq88o",
        "outputId": "038d402e-1a33-4528-e443-7b6a0603f66f"
      },
      "source": [
        "'Fizz' * False, 'Buzz' * True"
      ],
      "execution_count": 13,
      "outputs": [
        {
          "output_type": "execute_result",
          "data": {
            "text/plain": [
              "('', 'Buzz')"
            ]
          },
          "metadata": {
            "tags": []
          },
          "execution_count": 13
        }
      ]
    },
    {
      "cell_type": "code",
      "metadata": {
        "colab": {
          "base_uri": "https://localhost:8080/"
        },
        "id": "IWzhgrD4pbwO",
        "outputId": "2233896f-93f2-4e3b-ab28-9aa6fbeb484c"
      },
      "source": [
        "print('Fizz' * (number % 3 == 0) + 'Buzz' * (number % 5 == 0) or number)"
      ],
      "execution_count": 14,
      "outputs": [
        {
          "output_type": "stream",
          "text": [
            "FizzBuzz\n"
          ],
          "name": "stdout"
        }
      ]
    }
  ]
}