{
  "nbformat": 4,
  "nbformat_minor": 0,
  "metadata": {
    "colab": {
      "name": "u14_else.ipynb",
      "provenance": [],
      "collapsed_sections": []
    },
    "kernelspec": {
      "name": "python3",
      "display_name": "Python 3"
    },
    "language_info": {
      "name": "python"
    }
  },
  "cells": [
    {
      "cell_type": "markdown",
      "metadata": {
        "id": "0Nosi7pil39E"
      },
      "source": [
        "# Unit 14. else"
      ]
    },
    {
      "cell_type": "code",
      "metadata": {
        "colab": {
          "base_uri": "https://localhost:8080/"
        },
        "id": "lhGxLFxal3Ij",
        "outputId": "d2e690e7-5064-4f20-e793-f1ba54efe128"
      },
      "source": [
        "x = 8\n",
        "if x == 10:\n",
        "    print('It is 10.')\n",
        "else:\n",
        "    print('It is not 10.')"
      ],
      "execution_count": 2,
      "outputs": [
        {
          "output_type": "stream",
          "text": [
            "It is not 10.\n"
          ],
          "name": "stdout"
        }
      ]
    },
    {
      "cell_type": "markdown",
      "metadata": {
        "id": "qjTD4Q6om0ns"
      },
      "source": [
        "### 3항 연산자\n",
        "- Java, JS : a = (조건) ? 참일 때의 값 : 거짓일 때의 값\n",
        "- 파이썬 : a = 참일 때의 값 if 조건 else 거짓일 때의 값"
      ]
    },
    {
      "cell_type": "code",
      "metadata": {
        "colab": {
          "base_uri": "https://localhost:8080/",
          "height": 35
        },
        "id": "PD_qbgvhmf4Q",
        "outputId": "c2ce5eca-d403-4d53-ff58-d80ee857f6c4"
      },
      "source": [
        "x = 1\n",
        "if x % 2 == 0:\n",
        "    y = 'even'\n",
        "else:\n",
        "    y = 'odd'\n",
        "y"
      ],
      "execution_count": 3,
      "outputs": [
        {
          "output_type": "execute_result",
          "data": {
            "application/vnd.google.colaboratory.intrinsic+json": {
              "type": "string"
            },
            "text/plain": [
              "'odd'"
            ]
          },
          "metadata": {
            "tags": []
          },
          "execution_count": 3
        }
      ]
    },
    {
      "cell_type": "code",
      "metadata": {
        "colab": {
          "base_uri": "https://localhost:8080/",
          "height": 35
        },
        "id": "en768uYCnGXy",
        "outputId": "64235265-303d-4c11-9ca9-2c82237a6c9d"
      },
      "source": [
        "y = 'even' if x % 2 == 0 else 'odd'\n",
        "y"
      ],
      "execution_count": 4,
      "outputs": [
        {
          "output_type": "execute_result",
          "data": {
            "application/vnd.google.colaboratory.intrinsic+json": {
              "type": "string"
            },
            "text/plain": [
              "'odd'"
            ]
          },
          "metadata": {
            "tags": []
          },
          "execution_count": 4
        }
      ]
    },
    {
      "cell_type": "markdown",
      "metadata": {
        "id": "c38BkomOuCKd"
      },
      "source": [
        "### 중첩 if문"
      ]
    },
    {
      "cell_type": "code",
      "metadata": {
        "colab": {
          "base_uri": "https://localhost:8080/"
        },
        "id": "uihx4S1snTep",
        "outputId": "9d410969-73f4-4a6c-97c5-686172226fa7"
      },
      "source": [
        "# 90점 이상이면 'A', 80 ~ 89 : 'B', 70 ~ 79 : 'C', 60 ~ 69 : 'D', ~59 : 'F'\n",
        "score = int(input('점수 입력> '))"
      ],
      "execution_count": 14,
      "outputs": [
        {
          "output_type": "stream",
          "text": [
            "점수 입력> 92\n"
          ],
          "name": "stdout"
        }
      ]
    },
    {
      "cell_type": "code",
      "metadata": {
        "colab": {
          "base_uri": "https://localhost:8080/"
        },
        "id": "OmWfQnhmotgx",
        "outputId": "990b9a1b-bbb5-4a97-9a14-d5c38fd55abd"
      },
      "source": [
        "if score >= 90:\n",
        "    grade = 'A'\n",
        "else:\n",
        "    if score >= 80:\n",
        "        grade = 'B'\n",
        "    else:\n",
        "        if score >= 70:\n",
        "            grade = 'C'\n",
        "        else:\n",
        "            if score >= 60:\n",
        "                grade = 'D'\n",
        "                \n",
        "            else:\n",
        "                grade = 'F'\n",
        "print(grade)"
      ],
      "execution_count": 19,
      "outputs": [
        {
          "output_type": "stream",
          "text": [
            "A\n"
          ],
          "name": "stdout"
        }
      ]
    },
    {
      "cell_type": "code",
      "metadata": {
        "colab": {
          "base_uri": "https://localhost:8080/",
          "height": 35
        },
        "id": "8sQpfQnXql96",
        "outputId": "76ebc74f-6670-47c0-92fb-aca20d16131f"
      },
      "source": [
        "# 아래 코드를 보기 편하게 백슬래시를 사용하여 작성\n",
        "grade = 'A' if score >= 90 else \\\n",
        "            'B' if score >= 80 else \\\n",
        "                'C' if score >= 70 else \\\n",
        "                    'D' if score >= 60 else 'F'\n",
        "grade"
      ],
      "execution_count": 18,
      "outputs": [
        {
          "output_type": "execute_result",
          "data": {
            "application/vnd.google.colaboratory.intrinsic+json": {
              "type": "string"
            },
            "text/plain": [
              "'A'"
            ]
          },
          "metadata": {
            "tags": []
          },
          "execution_count": 18
        }
      ]
    },
    {
      "cell_type": "code",
      "metadata": {
        "colab": {
          "base_uri": "https://localhost:8080/",
          "height": 35
        },
        "id": "jNI8CGDErTP8",
        "outputId": "0f82b0ab-1c3e-42c8-d3a6-bb966f1be881"
      },
      "source": [
        "grade = 'A' if score >= 90 else 'B' if score >= 80 else 'C' if score >= 70 else 'D' if score >= 60 else 'F'\n",
        "grade"
      ],
      "execution_count": 17,
      "outputs": [
        {
          "output_type": "execute_result",
          "data": {
            "application/vnd.google.colaboratory.intrinsic+json": {
              "type": "string"
            },
            "text/plain": [
              "'A'"
            ]
          },
          "metadata": {
            "tags": []
          },
          "execution_count": 17
        }
      ]
    },
    {
      "cell_type": "markdown",
      "metadata": {
        "id": "HPq79spRtt_F"
      },
      "source": [
        "### 조건식에서의 논리연산자"
      ]
    },
    {
      "cell_type": "code",
      "metadata": {
        "colab": {
          "base_uri": "https://localhost:8080/"
        },
        "id": "rXGkELipr6Ul",
        "outputId": "113aeffa-aea8-454d-db26-e2fc7f391964"
      },
      "source": [
        "x = 5\n",
        "if x > 0 and x < 10:\n",
        "    print('10보다 작은 양의 정수입니다.')"
      ],
      "execution_count": 20,
      "outputs": [
        {
          "output_type": "stream",
          "text": [
            "10보다 작은 양의 정수입니다.\n"
          ],
          "name": "stdout"
        }
      ]
    },
    {
      "cell_type": "code",
      "metadata": {
        "colab": {
          "base_uri": "https://localhost:8080/"
        },
        "id": "cFcURsDmuy5m",
        "outputId": "8ba421ba-0919-43b8-8b43-200a5a865672"
      },
      "source": [
        "if 0 < x < 10:\n",
        "    print('10보다 작은 양의 정수입니다.')"
      ],
      "execution_count": 21,
      "outputs": [
        {
          "output_type": "stream",
          "text": [
            "10보다 작은 양의 정수입니다.\n"
          ],
          "name": "stdout"
        }
      ]
    }
  ]
}