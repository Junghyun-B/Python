{
  "nbformat": 4,
  "nbformat_minor": 0,
  "metadata": {
    "colab": {
      "name": "u13_if.ipynb",
      "provenance": [],
      "collapsed_sections": []
    },
    "kernelspec": {
      "name": "python3",
      "display_name": "Python 3"
    },
    "language_info": {
      "name": "python"
    }
  },
  "cells": [
    {
      "cell_type": "markdown",
      "metadata": {
        "id": "jkcKZjzXgwdc"
      },
      "source": [
        "# Unit 13. if 조건문"
      ]
    },
    {
      "cell_type": "markdown",
      "metadata": {
        "id": "07Z_8FeMhiDh"
      },
      "source": [
        "## 13.1 if 조건문"
      ]
    },
    {
      "cell_type": "code",
      "metadata": {
        "colab": {
          "base_uri": "https://localhost:8080/"
        },
        "id": "7u_O_C1-gtnQ",
        "outputId": "65c66188-5ff4-41e0-ae53-624155d30839"
      },
      "source": [
        "x = 10\n",
        "if x == 10:\n",
        "    print('It is 10.')"
      ],
      "execution_count": 2,
      "outputs": [
        {
          "output_type": "stream",
          "text": [
            "It is 10.\n"
          ],
          "name": "stdout"
        }
      ]
    },
    {
      "cell_type": "code",
      "metadata": {
        "colab": {
          "base_uri": "https://localhost:8080/"
        },
        "id": "8Agd4FUthzOQ",
        "outputId": "d8b062ae-6abe-45f5-f0f9-e6ae930febdf"
      },
      "source": [
        "x = 9\n",
        "if x:                   # x가 0이 아니면 참\n",
        "    print('It is 10.')"
      ],
      "execution_count": 5,
      "outputs": [
        {
          "output_type": "stream",
          "text": [
            "It is 10.\n"
          ],
          "name": "stdout"
        }
      ]
    },
    {
      "cell_type": "markdown",
      "metadata": {
        "id": "fpp7hdsyi4BO"
      },
      "source": [
        "## 13.2 들여쓰기"
      ]
    },
    {
      "cell_type": "code",
      "metadata": {
        "colab": {
          "base_uri": "https://localhost:8080/"
        },
        "id": "c9U758EmiMr1",
        "outputId": "ab7c1fa8-55c3-4c93-cea2-0424b704d144"
      },
      "source": [
        "x = 9\n",
        "\n",
        "if x == 10:\n",
        "    print('x값은')\n",
        "    print('10입니다.')\n",
        "print('언제나 출력됩니다.')"
      ],
      "execution_count": 10,
      "outputs": [
        {
          "output_type": "stream",
          "text": [
            "언제나 출력됩니다.\n"
          ],
          "name": "stdout"
        }
      ]
    },
    {
      "cell_type": "markdown",
      "metadata": {
        "id": "IPz9dXUjkAGg"
      },
      "source": [
        "## 13.3 중첩 if 조건문"
      ]
    },
    {
      "cell_type": "code",
      "metadata": {
        "colab": {
          "base_uri": "https://localhost:8080/"
        },
        "id": "uH1vcf_ljP4t",
        "outputId": "ae013d42-17d7-4bd1-9292-3f21f7674bd5"
      },
      "source": [
        "x = 15\n",
        "if x > 10:\n",
        "    print('10보다 큰 숫자입니다.')\n",
        "    if x == 15:\n",
        "        print('15입니다.')\n",
        "    if x == 20:\n",
        "        print('20입니다.')"
      ],
      "execution_count": 11,
      "outputs": [
        {
          "output_type": "stream",
          "text": [
            "10보다 큰 숫자입니다.\n",
            "15입니다.\n"
          ],
          "name": "stdout"
        }
      ]
    },
    {
      "cell_type": "code",
      "metadata": {
        "colab": {
          "base_uri": "https://localhost:8080/"
        },
        "id": "TmUDBG3BkjA2",
        "outputId": "477ab5e4-ea99-46c9-8cb2-059db38c6296"
      },
      "source": [
        "x = int(input('정수를 입력하세요> '))\n",
        "if x > 10:\n",
        "    print('10보다 큰 숫자입니다.')\n",
        "    if x == 15:\n",
        "        print('15입니다.')\n",
        "    if x == 20:\n",
        "        print('20입니다.')"
      ],
      "execution_count": 12,
      "outputs": [
        {
          "output_type": "stream",
          "text": [
            "정수를 입력하세요> 16\n",
            "10보다 큰 숫자입니다.\n"
          ],
          "name": "stdout"
        }
      ]
    }
  ]
}