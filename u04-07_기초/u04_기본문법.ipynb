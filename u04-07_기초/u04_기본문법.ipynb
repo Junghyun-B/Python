{
  "nbformat": 4,
  "nbformat_minor": 0,
  "metadata": {
    "colab": {
      "name": "u04_기본문법.ipynb",
      "provenance": []
    },
    "kernelspec": {
      "name": "python3",
      "display_name": "Python 3"
    },
    "language_info": {
      "name": "python"
    }
  },
  "cells": [
    {
      "cell_type": "markdown",
      "metadata": {
        "id": "GYd-fUaLa8IE"
      },
      "source": [
        "# Unit 4. 기본 문법 알아보기"
      ]
    },
    {
      "cell_type": "markdown",
      "metadata": {
        "id": "4IMfmaAfbHm_"
      },
      "source": [
        "## 4.1 세미콜론"
      ]
    },
    {
      "cell_type": "code",
      "metadata": {
        "colab": {
          "base_uri": "https://localhost:8080/"
        },
        "id": "0v4I5Xkqa5La",
        "outputId": "76bb1c1c-9456-4de4-95e7-8eec01e18a02"
      },
      "source": [
        "print('Hello, world!')"
      ],
      "execution_count": 1,
      "outputs": [
        {
          "output_type": "stream",
          "text": [
            "Hello, world!\n"
          ],
          "name": "stdout"
        }
      ]
    },
    {
      "cell_type": "code",
      "metadata": {
        "colab": {
          "base_uri": "https://localhost:8080/"
        },
        "id": "5-sPz-e9bfse",
        "outputId": "3b7117ba-9f16-4702-b759-ff7c426817b2"
      },
      "source": [
        "print('Hello!'); print('1234')"
      ],
      "execution_count": 2,
      "outputs": [
        {
          "output_type": "stream",
          "text": [
            "Hello!\n",
            "1234\n"
          ],
          "name": "stdout"
        }
      ]
    },
    {
      "cell_type": "markdown",
      "metadata": {
        "id": "Ov2XcYxBb0ld"
      },
      "source": [
        "## 4.2 주석"
      ]
    },
    {
      "cell_type": "markdown",
      "metadata": {
        "id": "zC-du-Bcb-hC"
      },
      "source": [
        "### 4.2.1 한 줄 주석"
      ]
    },
    {
      "cell_type": "code",
      "metadata": {
        "colab": {
          "base_uri": "https://localhost:8080/"
        },
        "id": "QGhGvx-bbq_F",
        "outputId": "2f758618-bc52-492b-ba2b-50740f5744d6"
      },
      "source": [
        "# Hello, world! 출력\n",
        "print('Hello, world!')"
      ],
      "execution_count": 3,
      "outputs": [
        {
          "output_type": "stream",
          "text": [
            "Hello, world!\n"
          ],
          "name": "stdout"
        }
      ]
    },
    {
      "cell_type": "code",
      "metadata": {
        "colab": {
          "base_uri": "https://localhost:8080/"
        },
        "id": "EDZh4Ai8cWcr",
        "outputId": "9a902aca-a8e4-4fac-ab71-cf769d19d362"
      },
      "source": [
        "print('Hello, world!')  # comment"
      ],
      "execution_count": 4,
      "outputs": [
        {
          "output_type": "stream",
          "text": [
            "Hello, world!\n"
          ],
          "name": "stdout"
        }
      ]
    },
    {
      "cell_type": "markdown",
      "metadata": {
        "id": "aUwC5Eheeujq"
      },
      "source": [
        "### 4.2.2 블록 주석"
      ]
    },
    {
      "cell_type": "code",
      "metadata": {
        "id": "O4blkG7CezaO"
      },
      "source": [
        "# 더하기\n",
        "# a = 1 + 2\n",
        "# print('Hello, world!')"
      ],
      "execution_count": 5,
      "outputs": []
    },
    {
      "cell_type": "code",
      "metadata": {
        "colab": {
          "base_uri": "https://localhost:8080/",
          "height": 35
        },
        "id": "V85sYYRWfCRa",
        "outputId": "9db22977-3628-4e92-b760-4600b943c138"
      },
      "source": [
        "# 더하기\n",
        "'''a = 1 + 2\n",
        "print('Hello, world!')'''"
      ],
      "execution_count": 6,
      "outputs": [
        {
          "output_type": "execute_result",
          "data": {
            "application/vnd.google.colaboratory.intrinsic+json": {
              "type": "string"
            },
            "text/plain": [
              "\"a = 1 + 2\\nprint('Hello, world!')\""
            ]
          },
          "metadata": {
            "tags": []
          },
          "execution_count": 6
        }
      ]
    },
    {
      "cell_type": "code",
      "metadata": {
        "colab": {
          "base_uri": "https://localhost:8080/",
          "height": 35
        },
        "id": "XN1WrWJofRM5",
        "outputId": "e72306dd-c3f6-46f0-9151-75e38d556e23"
      },
      "source": [
        "\"\"\"\n",
        "이 안에 포함된 내용이 블록 주석\n",
        "\"\"\""
      ],
      "execution_count": 7,
      "outputs": [
        {
          "output_type": "execute_result",
          "data": {
            "application/vnd.google.colaboratory.intrinsic+json": {
              "type": "string"
            },
            "text/plain": [
              "'\\n이 안에 포함된 내용이 블록 주석\\n'"
            ]
          },
          "metadata": {
            "tags": []
          },
          "execution_count": 7
        }
      ]
    },
    {
      "cell_type": "markdown",
      "metadata": {
        "id": "EETZ3v-miZ6F"
      },
      "source": [
        "## 4.3 들여쓰기 (Indentation)"
      ]
    },
    {
      "cell_type": "code",
      "metadata": {
        "id": "UsXHnKibie0J"
      },
      "source": [
        "\"\"\" C 프로그래밍 예\n",
        "sum = 0;\n",
        "for (i=1; i<=10; i++) {\n",
        "  sum += i;\n",
        "}\n",
        "printf(sum);\n",
        "\"\"\""
      ],
      "execution_count": null,
      "outputs": []
    },
    {
      "cell_type": "code",
      "metadata": {
        "colab": {
          "base_uri": "https://localhost:8080/"
        },
        "id": "uEggNFUdjL6s",
        "outputId": "9d8e39a3-84d3-4cf4-a334-3fa4213de4cb"
      },
      "source": [
        "# 파이썬 예\n",
        "sum = 0\n",
        "for i in range(1,11):\n",
        "  sum += i\n",
        "print(sum)"
      ],
      "execution_count": 8,
      "outputs": [
        {
          "output_type": "stream",
          "text": [
            "55\n"
          ],
          "name": "stdout"
        }
      ]
    },
    {
      "cell_type": "code",
      "metadata": {
        "colab": {
          "base_uri": "https://localhost:8080/"
        },
        "id": "QVcpuq2yjyvo",
        "outputId": "b8599938-22aa-4ec2-ceb6-a841fa34407d"
      },
      "source": [
        "# 기본 공백: 공백 4개, 탭/백탭(Shift+TAB)\n",
        "sum = 0\n",
        "for i in range(1,11):\n",
        "  sum += i\n",
        "  if(i >9):\n",
        "    print(i)\n",
        "\n",
        "print(sum)"
      ],
      "execution_count": 11,
      "outputs": [
        {
          "output_type": "stream",
          "text": [
            "10\n",
            "55\n"
          ],
          "name": "stdout"
        }
      ]
    },
    {
      "cell_type": "code",
      "metadata": {
        "id": "Go7mk6YHkIRS"
      },
      "source": [
        ""
      ],
      "execution_count": null,
      "outputs": []
    }
  ]
}